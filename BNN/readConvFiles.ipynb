{
 "cells": [
  {
   "cell_type": "code",
   "execution_count": 38,
   "metadata": {},
   "outputs": [],
   "source": [
    "import numpy as np\n",
    "import matplotlib.pyplot as plt\n",
    "import netCDF4 as nc\n",
    "\n",
    "import glob\n",
    "convFiles=glob.glob(\"convProfs/*nc\")"
   ]
  },
  {
   "cell_type": "code",
   "execution_count": 13,
   "metadata": {},
   "outputs": [
    {
     "name": "stdout",
     "output_type": "stream",
     "text": [
      "['convProfs/convProfs_20200701-02.nc', 'convProfs/convProfs_20200201-05.nc', 'convProfs/convProfs_20200601-02.nc', 'convProfs/convProfs_20200301-05.nc', 'convProfs/convProfs_20200401-02.nc', 'convProfs/convProfs_20200101-05.nc', 'convProfs/convProfs_20200501-02.nc', 'convProfs/convProfs_20200501-05.nc', 'convProfs/convProfs_20200401-05.nc', 'convProfs/convProfs_20200101-02.nc', 'convProfs/convProfs_20200601-05.nc', 'convProfs/convProfs_20200301-02.nc', 'convProfs/convProfs_20200701-05.nc', 'convProfs/convProfs_20200201-02.nc']\n"
     ]
    }
   ],
   "source": [
    "print(convFiles)\n",
    "#!pwd"
   ]
  },
  {
   "cell_type": "code",
   "execution_count": 39,
   "metadata": {},
   "outputs": [
    {
     "name": "stdout",
     "output_type": "stream",
     "text": [
      "59089\n"
     ]
    }
   ],
   "source": [
    "ntot=0\n",
    "zKuL=[]\n",
    "zKaL=[]\n",
    "pRateDPRL=[]\n",
    "pRateCMBL=[]\n",
    "dmCMBL=[]\n",
    "nodes2L=[]\n",
    "for f in convFiles[:]:\n",
    "    with nc.Dataset(f) as fh:\n",
    "        hzero=fh['hzero'][:,4,4]\n",
    "        zKu=fh['zKu'][:,4,4]\n",
    "        zKa=fh['zKa'][:,4,4]\n",
    "        bzd=fh['bzd'][:,4,4]\n",
    "        bcf=fh['bcf'][:,4,4]\n",
    "        precipDPR=fh['precip'][:,4,4]\n",
    "        precipCMB=fh['precipCMB'][:,4,4]  \n",
    "        dmCMB=fh['dmCMB'][:,4,4] \n",
    "        n24=30\n",
    "        a=np.nonzero(bcf-bzd>n24)\n",
    "\n",
    "        for i in a[0]:\n",
    "            \n",
    "            nodes=list(range(bzd[i]-60,bzd[i]+n24))\n",
    "            if nodes[0]%2==0:\n",
    "                nodes2=nodes[::2]\n",
    "            else:\n",
    "                nodes2=nodes[1::2]\n",
    "            \n",
    "            nodes2=np.array(nodes2)//2\n",
    "            nodes2L.append(nodes2)\n",
    "            if precipCMB[i,nodes2[-1]]>-0.1:\n",
    "                zKuL.append(zKu[i,bzd[i]-60:bzd[i]+n24])\n",
    "                zKaL.append(zKa[i,bzd[i]-60:bzd[i]+n24])\n",
    "                pRateDPRL.append(precipDPR[i,bzd[i]-60:bzd[i]+n24])\n",
    "                pRateCMBL.append(precipCMB[i,nodes2])\n",
    "                dmCMBL.append(dmCMB[i,nodes2])\n",
    "        #print(fh)\n",
    "        #break\n",
    "        ntot+=len(a[0])\n",
    "print(ntot)"
   ]
  },
  {
   "cell_type": "code",
   "execution_count": 31,
   "metadata": {},
   "outputs": [],
   "source": [
    "import xarray as xr\n",
    "zKuX=xr.DataArray(np.array(zKuL),dims=['time','range'])\n",
    "zKaX=xr.DataArray(np.array(zKaL),dims=['time','range'])\n",
    "pRateCMBLX=xr.DataArray(np.array(pRateCMBL),dims=['time','range2'])\n",
    "pRateDPRLX=xr.DataArray(np.array(pRateDPRL),dims=['time','range'])\n",
    "dmCMBLX=xr.DataArray(np.array(dmCMBL),dims=['time','range2'])\n",
    "nodes2LX=xr.DataArray(np.array(nodes2L),dims=['time','range2'])\n",
    "ds=xr.Dataset({'zKu':zKuX,'zKa':zKaX,'pRateCMB':pRateCMBLX,'pRateDPR':pRateDPRLX,'dmCMB':dmCMBLX,'nodes2':nodes2LX})\n",
    "#ds.to_netcdf('convProf_LSTM.nc')\n",
    "compLev=5\n",
    "encoding = {var: {'zlib': True, 'complevel': compLev} for var in ds.data_vars}\n",
    "ds.to_netcdf('convProf_LSTM.nc',encoding=encoding)"
   ]
  },
  {
   "cell_type": "code",
   "execution_count": 34,
   "metadata": {},
   "outputs": [
    {
     "name": "stdout",
     "output_type": "stream",
     "text": [
      "[[1.         0.70368094]\n",
      " [0.70368094 1.        ]]\n"
     ]
    }
   ],
   "source": [
    "pRateCMBL=np.array(pRateCMBL)\n",
    "pRateDPRL=np.array(pRateDPRL)\n",
    "print(np.corrcoef(pRateCMBL[:,-1],pRateDPRL[:,-1]))"
   ]
  },
  {
   "cell_type": "code",
   "execution_count": 49,
   "metadata": {},
   "outputs": [],
   "source": [
    "import torch\n",
    "import torch.nn as nn\n",
    "import torch.nn.functional as F\n",
    "\n",
    "class BayesianLSTMModel(nn.Module):\n",
    "    def __init__(self, input_size, hidden_size, output_size, num_layers=1, n_features=3, p=0.25):\n",
    "        super(BayesianLSTMModel, self).__init__()\n",
    "        self.hidden_size = hidden_size\n",
    "        self.num_layers = num_layers\n",
    "        \n",
    "        # Define the LSTM layer\n",
    "        self.lstm = nn.LSTM(input_size, hidden_size, num_layers, batch_first=True)\n",
    "        self.lstm2 = nn.LSTM(n_features, hidden_size, num_layers, batch_first=True)\n",
    "        # Define the output layer for mean\n",
    "        self.fc_mean = nn.Linear(hidden_size, n_features)\n",
    "        \n",
    "        # Define the output layer for log(std)\n",
    "        self.fc_log_std = nn.Linear(hidden_size, n_features)\n",
    "        \n",
    "        # Define the linear layer for z\n",
    "        self.fc_z = nn.Linear(hidden_size, output_size)\n",
    "\n",
    "        self.dropout_mean = nn.Dropout(p)\n",
    "        self.dropout_logstd = nn.Dropout(p)\n",
    "        self.dropout_z = nn.Dropout(p)\n",
    "    def forward(self, x):\n",
    "        # Initialize hidden state with zeros\n",
    "        h0 = torch.zeros(self.num_layers, x.size(0), self.hidden_size).to(x.device)\n",
    "        \n",
    "        # Initialize cell state with zeros\n",
    "        c0 = torch.zeros(self.num_layers, x.size(0), self.hidden_size).to(x.device)\n",
    "        \n",
    "        h0z = torch.zeros(self.num_layers, x.size(0), self.hidden_size).to(x.device)\n",
    "        \n",
    "        # Initialize cell state with zeros\n",
    "        c0z = torch.zeros(1, x.size(0), self.hidden_size).to(x.device)\n",
    "\n",
    "        # Forward propagate LSTM\n",
    "        #print(x.shape)\n",
    "        #print(h0.shape)\n",
    "        out, _ = self.lstm(x, (h0, c0))  # out shape: (batch_size, seq_length, hidden_size)\n",
    "        \n",
    "        #Decode the hidden state of the last time step\n",
    "        mean = self.fc_mean(out[:, :, :])\n",
    "        log_std = self.fc_log_std(out[:, :, :])\n",
    "        # Add dropout\n",
    "        mean = self.dropout_mean(mean)\n",
    "        log_std = self.dropout_logstd(log_std)\n",
    "        # batch normalize mean and log_std\n",
    "        #mean=self.bn_mean(mean)\n",
    "        #log_std=self.bn_var(log_std)\n",
    "        # Ensure standard deviation is positive\n",
    "        std = torch.exp(log_std)\n",
    "        \n",
    "        # Reparameterization trick: sample from N(0, 1) and scale by std, then add mean\n",
    "        epsilon = torch.randn_like(std)\n",
    "        z = mean + epsilon * std\n",
    "        #print(z.shape)\n",
    "        #print(h0z.shape)\n",
    "        #print(h0z.shape)\n",
    "        out2, _ = self.lstm2(z, (h0z, c0z))\n",
    "        #print('got here')\n",
    "        #print(out2.shape)   \n",
    "        # Apply linear layer to z\n",
    "        #z = self.dropout_z(z)\n",
    "        z_out = self.fc_z(out2)\n",
    "        \n",
    "        return z_out, mean, log_std\n",
    "\n",
    "import torch\n",
    "\n",
    "def bayesian_loss(y_target, z, mean, log_std, prior_mean=0.0, prior_std=1.0):\n",
    "    # Calculate the MSE loss\n",
    "    mse_loss = F.mse_loss(z, y_target, reduction='mean')\n",
    "    \n",
    "    # Calculate the KL divergence\n",
    "    kl_divergence = 0.5 * torch.mean(torch.exp(2 * log_std)/prior_std**2 + (mean-prior_mean) ** 2 - 1 - 2 * log_std + 2 * torch.log(torch.tensor(prior_std)))\n",
    "    \n",
    "    # Total loss\n",
    "    loss = mse_loss + kl_divergence\n",
    "    \n",
    "    return loss"
   ]
  },
  {
   "cell_type": "code",
   "execution_count": 50,
   "metadata": {},
   "outputs": [],
   "source": [
    "import numpy as np\n",
    "model_lstm = BayesianLSTMModel(input_size=2, hidden_size=64, output_size=1, num_layers=1, p=0.1)\n",
    "xinput=torch.tensor(np.random.randn(4,90,2),dtype=torch.float32)\n",
    "y,mean,log_std=model_lstm(xinput)"
   ]
  },
  {
   "cell_type": "code",
   "execution_count": null,
   "metadata": {},
   "outputs": [],
   "source": []
  },
  {
   "cell_type": "code",
   "execution_count": 40,
   "metadata": {},
   "outputs": [
    {
     "name": "stdout",
     "output_type": "stream",
     "text": [
      "59089\n"
     ]
    },
    {
     "data": {
      "image/png": "[encoded data removed]",
      "text/plain": [
       "<Figure size 640x480 with 1 Axes>"
      ]
     },
     "metadata": {},
     "output_type": "display_data"
    }
   ],
   "source": [
    "print(len(pRateCMBL))\n",
    "nt=len(pRateCMBL)\n",
    "X=np.zeros((nt,60+n24,3),float)\n",
    "zKuL=np.array(zKuL)\n",
    "zKaL=np.array(zKaL)\n",
    "zKuL[zKuL<0]=0\n",
    "zKaL[zKaL<0]=0\n",
    "xrange=(np.arange(60+n24)-60.0)/60.0+1\n",
    "\n",
    "import matplotlib.pyplot as plt\n",
    "plt.plot(zKuL.mean(axis=0),xrange)\n",
    "plt.plot(zKaL.mean(axis=0),xrange)\n",
    "#plt.plot(zKuL[1000,:])\n",
    "#plt.plot(zKaL[1000,:])\n",
    "X[:,:,0]=zKuL/zKuL.std()\n",
    "X[:,:,1]=zKaL/zKuL.std()\n",
    "for k in range(nt):\n",
    "    X[k,:,2]=xrange\n"
   ]
  },
  {
   "cell_type": "code",
   "execution_count": 55,
   "metadata": {},
   "outputs": [],
   "source": []
  },
  {
   "cell_type": "code",
   "execution_count": 41,
   "metadata": {},
   "outputs": [
    {
     "name": "stdout",
     "output_type": "stream",
     "text": [
      "torch.Size([90, 1])\n",
      "0.0 299.97\n",
      "0.0 5.7070107 0.97676414 1.1221011\n"
     ]
    }
   ],
   "source": [
    "print(y[0].shape)\n",
    "pRateDPRL=np.array(pRateDPRL)\n",
    "print(pRateDPRL.min(),pRateDPRL.max())\n",
    "y=np.log(1+pRateDPRL)\n",
    "print(y.min(),y.max(),y.mean(),y.std())\n",
    "ymean=y.mean(axis=0)\n",
    "ystd=y.std(axis=0)\n",
    "y_scaled=(y-ymean)/ystd\n",
    "y_scaled=y_scaled[:,:,np.newaxis]\n",
    "from sklearn.model_selection import train_test_split\n",
    "X_train, X_test, y_train, y_test = train_test_split(X, y_scaled, test_size=0.2, random_state=42)\n",
    "# import torch dataset and torch Dataloader\n",
    "\n",
    "from torch.utils.data import DataLoader, TensorDataset\n",
    "\n",
    "train_data = TensorDataset(torch.tensor(X_train).float(), torch.tensor(y_train).float())\n",
    "test_data = TensorDataset(torch.tensor(X_test).float(), torch.tensor(y_test).float())\n",
    "batch_size = 128\n",
    "train_loader = DataLoader(train_data, shuffle=True, batch_size=batch_size)"
   ]
  },
  {
   "cell_type": "code",
   "execution_count": null,
   "metadata": {},
   "outputs": [],
   "source": []
  },
  {
   "cell_type": "code",
   "execution_count": 88,
   "metadata": {},
   "outputs": [],
   "source": [
    "class LSTMModel(nn.Module):\n",
    "    def __init__(self, input_size, hidden_size, output_size, num_layers=1):\n",
    "        super(LSTMModel, self).__init__()\n",
    "        self.hidden_size = hidden_size\n",
    "        self.num_layers = num_layers\n",
    "        \n",
    "        # Define the LSTM layer\n",
    "        self.lstm = nn.LSTM(input_size, hidden_size, num_layers, batch_first=True)\n",
    "        \n",
    "        # Define the output layer\n",
    "        self.fc = nn.Linear(hidden_size, output_size)\n",
    "    \n",
    "    def forward(self, x):\n",
    "        # Initialize hidden state with zeros\n",
    "        h0 = torch.zeros(self.num_layers, x.size(0), self.hidden_size).to(x.device)\n",
    "        \n",
    "        # Initialize cell state with zeros\n",
    "        c0 = torch.zeros(self.num_layers, x.size(0), self.hidden_size).to(x.device)\n",
    "        \n",
    "        # Forward propagate LSTM\n",
    "        out, _ = self.lstm(x, (h0, c0))  # out shape: (batch_size, seq_length, hidden_size)\n",
    "        \n",
    "        # Decode the hidden state of the last time step\n",
    "        out = self.fc(out[:, :, :])\n",
    "        return out"
   ]
  },
  {
   "cell_type": "code",
   "execution_count": 51,
   "metadata": {},
   "outputs": [],
   "source": [
    "#train model\n",
    "bayesian_lstm = BayesianLSTMModel(input_size=2, hidden_size=16, output_size=1, num_layers=1, p=0.005)\n",
    "y=bayesian_lstm(torch.tensor(X).float()[0:10,:,:2])\n",
    "import torch.optim as optim\n",
    "criterion = F.mse_loss\n",
    "criterion = bayesian_loss\n",
    "optimizer = optim.Adam(bayesian_lstm.parameters(), lr=0.001)\n"
   ]
  },
  {
   "cell_type": "code",
   "execution_count": 61,
   "metadata": {},
   "outputs": [
    {
     "name": "stdout",
     "output_type": "stream",
     "text": [
      "Epoch: 1 \tTraining Loss: 0.258969\n",
      "Epoch: 2 \tTraining Loss: 0.255942\n",
      "Epoch: 3 \tTraining Loss: 0.254890\n",
      "Epoch: 4 \tTraining Loss: 0.251947\n",
      "Epoch: 5 \tTraining Loss: 0.251317\n",
      "Epoch: 6 \tTraining Loss: 0.247443\n",
      "Epoch: 7 \tTraining Loss: 0.244578\n",
      "Epoch: 8 \tTraining Loss: 0.245346\n",
      "Epoch: 9 \tTraining Loss: 0.243360\n",
      "Epoch: 10 \tTraining Loss: 0.241784\n"
     ]
    }
   ],
   "source": [
    "\n",
    "n_epochs = 10\n",
    "for epoch in range(1, n_epochs + 1):\n",
    "    train_loss = 0.0\n",
    "    ibatch=0\n",
    "    for data, target in train_loader:\n",
    "        optimizer.zero_grad()\n",
    "        #z, mean, std = bayesian_lstm(data[:,:,0:2])\n",
    "        z, mean, std = bayesian_lstm(data[:,:,0:2])\n",
    "        #print(z.shape)\n",
    "        #print(target.shape)\n",
    "        loss = criterion(target, z, mean, std)\n",
    "        #loss = criterion(target, z)\n",
    "        loss.backward()\n",
    "        optimizer.step()\n",
    "        train_loss += loss.item()\n",
    "        ibatch+=1\n",
    "    train_loss = train_loss / ibatch\n",
    "    print('Epoch: {} \\tTraining Loss: {:.6f}'.format(epoch, train_loss))"
   ]
  },
  {
   "cell_type": "code",
   "execution_count": 62,
   "metadata": {},
   "outputs": [
    {
     "name": "stdout",
     "output_type": "stream",
     "text": [
      "['__add__', '__annotations__', '__class__', '__class_getitem__', '__delattr__', '__dict__', '__dir__', '__doc__', '__eq__', '__format__', '__ge__', '__getattribute__', '__getitem__', '__gt__', '__hash__', '__init__', '__init_subclass__', '__le__', '__len__', '__lt__', '__module__', '__ne__', '__new__', '__orig_bases__', '__parameters__', '__reduce__', '__reduce_ex__', '__repr__', '__setattr__', '__sizeof__', '__slots__', '__str__', '__subclasshook__', '__weakref__', '_is_protocol', 'tensors']\n"
     ]
    }
   ],
   "source": [
    "print(dir(test_data))\n",
    "y_pred1,mean1,logstd1=bayesian_lstm(test_data.tensors[0][:,:,0:2])\n",
    "y_pred2,mean2,logstd2=bayesian_lstm(test_data.tensors[0][:,:,0:2])"
   ]
  },
  {
   "cell_type": "code",
   "execution_count": 63,
   "metadata": {},
   "outputs": [
    {
     "name": "stdout",
     "output_type": "stream",
     "text": [
      "[[1.         0.86879033]\n",
      " [0.86879033 1.        ]]\n",
      "[[1.        0.7140332]\n",
      " [0.7140332 1.       ]]\n"
     ]
    }
   ],
   "source": [
    "print(np.corrcoef(y_pred1.detach().numpy()[:,-1,0],y_pred2.detach().numpy()[:,-1,0]))\n",
    "print(np.corrcoef(y_pred1.detach().numpy()[:,-1,0],test_data.tensors[1].detach().numpy()[:,-1,0]))"
   ]
  }
 ],
 "metadata": {
  "kernelspec": {
   "display_name": "base",
   "language": "python",
   "name": "python3"
  },
  "language_info": {
   "codemirror_mode": {
    "name": "ipython",
    "version": 3
   },
   "file_extension": ".py",
   "mimetype": "text/x-python",
   "name": "python",
   "nbconvert_exporter": "python",
   "pygments_lexer": "ipython3",
   "version": "3.9.13"
  }
 },
 "nbformat": 4,
 "nbformat_minor": 2
}
