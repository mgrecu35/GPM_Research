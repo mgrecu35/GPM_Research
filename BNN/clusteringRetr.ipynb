{
 "cells": [
  {
   "cell_type": "code",
   "execution_count": 1,
   "metadata": {},
   "outputs": [
    {
     "name": "stdout",
     "output_type": "stream",
     "text": [
      "['convProfs/convProfs_20200701-02.nc', 'convProfs/convProfs_20200201-05.nc', 'convProfs/convProfs_20200601-02.nc', 'convProfs/convProfs_20200301-05.nc', 'convProfs/convProfs_20200401-02.nc', 'convProfs/convProfs_20200101-05.nc', 'convProfs/convProfs_20200501-02.nc', 'convProfs/convProfs_20200501-05.nc', 'convProfs/convProfs_20200401-05.nc', 'convProfs/convProfs_20200101-02.nc', 'convProfs/convProfs_20200601-05.nc', 'convProfs/convProfs_20200301-02.nc', 'convProfs/convProfs_20200701-05.nc', 'convProfs/convProfs_20200201-02.nc']\n",
      "59089\n",
      "(59089, 1, 48)\n",
      "(6387, 1, 88)\n",
      "(1, 48)\n"
     ]
    }
   ],
   "source": [
    "import numpy as np\n",
    "import matplotlib.pyplot as plt\n",
    "import netCDF4 as nc\n",
    "\n",
    "import glob\n",
    "convFiles=glob.glob(\"convProfs/*nc\")\n",
    "print(convFiles)\n",
    "\n",
    "ntot=0\n",
    "zKuL=[]\n",
    "zKaL=[]\n",
    "pRateDPRL=[]\n",
    "pRateCMBL=[]\n",
    "dmCMBL=[]\n",
    "nodes2L=[]\n",
    "bsfcL=[]\n",
    "piaKuL=[]\n",
    "piaDPRL=[]\n",
    "bcfL=[]\n",
    "n1,n2=4,5\n",
    "ns=66\n",
    "for f in convFiles[:]:\n",
    "    with nc.Dataset(f) as fh:\n",
    "        hzero=fh['hzero'][:,n1:n2,4]\n",
    "        zKu=fh['zKu'][:,n1:n2,4]\n",
    "        zKa=fh['zKa'][:,n1:n2,4]\n",
    "        bzd=fh['bzd'][:,4,4]\n",
    "        bcf=fh['bcf'][:,4,4]\n",
    "        bsfc=fh['elevation'][:,4,4]\n",
    "        elev=fh['elevation'][:,4,4]\n",
    "        PIAhyb=fh['PIAhyb'][:,n1:n2,4]\n",
    "        PIAhybDPR=fh['PIAhybDPR'][:,n1:n2,4]\n",
    "        bsfc[bsfc<0]=0\n",
    "        bsfc=(175-(bsfc/125))\n",
    "        \n",
    "        precipDPR=fh['precip'][:,n1:n2,4,:]\n",
    "        precipCMB=fh['precipCMB'][:,n1:n2,4,:]  \n",
    "        dmCMB=fh['dmCMB'][:,n1:n2,4] \n",
    "        n24=30\n",
    "        a=np.nonzero(bcf-bzd>n24)\n",
    "        for i in a[0]:            \n",
    "            nodes=list(range(bzd[i]-ns,bzd[i]+n24))\n",
    "            if nodes[0]%2==0:\n",
    "                nodes2=nodes[::2]\n",
    "            else:\n",
    "                nodes2=nodes[1::2]\n",
    "            nodes2=np.array(nodes2)//2         \n",
    "            if precipCMB[i,:,nodes2[-1]].min()>-0.1:\n",
    "                zKuL.append(zKu[i,:,bzd[i]-ns:bzd[i]+n24])\n",
    "                zKaL.append(zKa[i,:,bzd[i]-ns:bzd[i]+n24])\n",
    "                pRateDPRL.append(precipDPR[i,:,bzd[i]-ns:bzd[i]+n24])\n",
    "                pRateCMBL.append(precipCMB[i,:,:][:,nodes2])\n",
    "                dmCMBL.append(dmCMB[i,:,:][:,nodes2])\n",
    "                piaKuL.append(PIAhyb[i,:])\n",
    "                piaDPRL.append(PIAhybDPR[i,:,:])\n",
    "                bsfcL.append(bsfc[i])\n",
    "                bcfL.append(bcf[i])\n",
    "                nodes2L.append(nodes2)\n",
    "                ntot+=1\n",
    "print(ntot)\n",
    "pRateCMBL=np.array(pRateCMBL)\n",
    "print(pRateCMBL.shape)\n",
    "print(precipCMB.shape)\n",
    "print(precipCMB[i,:,:][:,nodes2].shape)"
   ]
  },
  {
   "cell_type": "code",
   "execution_count": 2,
   "metadata": {},
   "outputs": [
    {
     "name": "stdout",
     "output_type": "stream",
     "text": [
      "0.55\n",
      "299.97\n",
      "59089\n",
      "(59089, 1, 96)\n"
     ]
    },
    {
     "data": {
      "image/png": "[encoded data removed]",
      "text/plain": [
       "<Figure size 640x480 with 1 Axes>"
      ]
     },
     "metadata": {},
     "output_type": "display_data"
    }
   ],
   "source": [
    "pRateDPRL=np.array(pRateDPRL)\n",
    "piaKuL=np.array(piaKuL)\n",
    "pRateDPRL=np.array(pRateDPRL)\n",
    "print(pRateDPRL[:,:,-1].min())\n",
    "print(pRateDPRL[:,:,-1].max())\n",
    "print(len(pRateCMBL))\n",
    "nt=len(pRateCMBL)\n",
    "X=np.zeros((nt,ns+n24,3),float)\n",
    "zKuL=np.array(zKuL)\n",
    "zKaL=np.array(zKaL)\n",
    "zKuL[zKuL<0]=0\n",
    "zKaL[zKaL<0]=0\n",
    "xrange=(np.arange(ns+n24)-60.0)/60.0+1\n",
    "print(zKuL.shape)\n",
    "import matplotlib.pyplot as plt\n",
    "plt.plot(zKuL.mean(axis=(0,1)),xrange)\n",
    "plt.plot(zKaL.mean(axis=(0,1)),xrange)\n",
    "#plt.plot(zKuL[1000,:])\n",
    "#plt.plot(zKaL[1000,:])\n",
    "X[:,:,0]=(zKuL/zKuL.std(axis=(0,1)))[:,0,:]\n",
    "X[:,:,1]=(zKaL/zKuL.std(axis=(0,1)))[:,0,:]\n",
    "for k in range(nt):\n",
    "    X[k,:,2]=xrange\n"
   ]
  },
  {
   "cell_type": "code",
   "execution_count": 222,
   "metadata": {},
   "outputs": [
    {
     "name": "stdout",
     "output_type": "stream",
     "text": [
      "0.0 299.97\n",
      "0.0 5.7070107 0.9193314 1.1104082\n",
      "(59089, 96, 1)\n",
      "(59089, 48, 1)\n",
      "(59089, 48, 1)\n"
     ]
    }
   ],
   "source": [
    "pRateDPRL=np.array(pRateDPRL)\n",
    "print(pRateDPRL.min(),pRateDPRL.max())\n",
    "y=np.log(1+pRateDPRL)\n",
    "print(y.min(),y.max(),y.mean(),y.std())\n",
    "ymean=y.mean(axis=(0,1))\n",
    "ystd=y.std(axis=(0,1))\n",
    "y1_scaled=(y[:,0,:]-ymean)/ystd\n",
    "y1_scaled=y1_scaled[:,:,np.newaxis]\n",
    "pRateCMBL=np.array(pRateCMBL)\n",
    "ycmb=np.log(1+pRateCMBL)\n",
    "ycmb=pRateCMBL\n",
    "ycmb_mean=ycmb.mean(axis=(0,1))\n",
    "ycmb_std=ycmb.std(axis=(0,1))\n",
    "ycmb_scaled=(ycmb[:,0,:]-ycmb_mean)/ycmb_std\n",
    "ycmb_scaled=ycmb_scaled[:,:,np.newaxis]\n",
    "dmCMBL=np.array(dmCMBL)\n",
    "dmCMBL_mean=dmCMBL.mean(axis=(0,1))\n",
    "dmCMBL_std=dmCMBL.std(axis=(0,1))\n",
    "dmCMBL_scaled=(dmCMBL[:,0,:]-dmCMBL_mean)/dmCMBL_std\n",
    "dmCMBL_scaled=dmCMBL_scaled[:,:,np.newaxis]\n",
    "\n",
    "print(y1_scaled.shape)\n",
    "print(ycmb_scaled.shape)\n",
    "print(dmCMBL_scaled.shape)\n",
    "y_scaled=np.concatenate((y1_scaled[:,::2,:],ycmb_scaled,dmCMBL_scaled),axis=2)\n",
    "\n",
    "iprofs=np.arange(y_scaled.shape[0])\n",
    "from sklearn.model_selection import train_test_split\n",
    "X_train, X_test, y_train, y_test, i_train, i_test, piaKu_train, piaKu_test, bsfc_train, bsfc_test = train_test_split(X, y_scaled, iprofs, piaKuL, bsfcL, test_size=0.2, random_state=42)\n"
   ]
  },
  {
   "cell_type": "code",
   "execution_count": 223,
   "metadata": {},
   "outputs": [
    {
     "name": "stdout",
     "output_type": "stream",
     "text": [
      "59089\n"
     ]
    }
   ],
   "source": [
    "print(len(bsfcL))"
   ]
  },
  {
   "cell_type": "code",
   "execution_count": 180,
   "metadata": {},
   "outputs": [
    {
     "name": "stdout",
     "output_type": "stream",
     "text": [
      "(47271, 96, 3)\n"
     ]
    }
   ],
   "source": [
    "from sklearn.cluster import KMeans\n",
    "print(X_train.shape)\n",
    "nclust=25\n",
    "kmeans = KMeans(n_clusters=nclust, random_state=0).fit(X_train[:,-60:,0])"
   ]
  },
  {
   "cell_type": "code",
   "execution_count": 214,
   "metadata": {},
   "outputs": [
    {
     "name": "stdout",
     "output_type": "stream",
     "text": [
      "(1961, 1)\n",
      "[1961.]\n",
      "(2656, 1)\n",
      "[2656.]\n",
      "(2042, 1)\n",
      "[2042.]\n",
      "(1805, 1)\n",
      "[1805.]\n",
      "(918, 1)\n",
      "[918.]\n",
      "(2291, 1)\n",
      "[2291.]\n",
      "(2497, 1)\n",
      "[2497.]\n",
      "(2247, 1)\n",
      "[2247.]\n",
      "(2113, 1)\n",
      "[2113.]\n",
      "(3701, 1)\n",
      "[3701.]\n",
      "(1208, 1)\n",
      "[1208.]\n",
      "(2191, 1)\n",
      "[2191.]\n",
      "(2724, 1)\n",
      "[2724.]\n",
      "(2489, 1)\n",
      "[2489.]\n",
      "(1212, 1)\n",
      "[1212.]\n",
      "(1774, 1)\n",
      "[1774.]\n",
      "(1359, 1)\n",
      "[1359.]\n",
      "(458, 1)\n",
      "[458.]\n",
      "(1720, 1)\n",
      "[1720.]\n",
      "(1670, 1)\n",
      "[1670.]\n",
      "(2922, 1)\n",
      "[2922.]\n",
      "(2333, 1)\n",
      "[2333.]\n",
      "(1470, 1)\n",
      "[1470.]\n",
      "(1242, 1)\n",
      "[1242.]\n",
      "(268, 1)\n",
      "[268.]\n"
     ]
    }
   ],
   "source": [
    "classPrecipL=[]\n",
    "kgainL=[]\n",
    "ymeanL=[]\n",
    "xmeanL=[]\n",
    "weightL=[]\n",
    "from sklearn.mixture import GaussianMixture\n",
    "\n",
    "for k in range(nclust):\n",
    "    a=np.nonzero(kmeans.labels_==k)\n",
    "    classPrecipL.append(y_train[a[0],-1,1].mean())\n",
    "    yens1L=X_train[a[0],-50::1,0]\n",
    "    yens2L=X_train[a[0],-50::1,1]\n",
    "    piaKuEnsL=np.array([piaKu_train[i] for i in a[0]])\n",
    "    #print(piaKuEnsL.shape)\n",
    "    yensL=np.concatenate((yens1L[:,:],yens2L[:,:],piaKuEnsL[:,:]),axis=1)\n",
    "    xensL=y_train[a[0],-24:,1]\n",
    "    ngm=1\n",
    "    gm = GaussianMixture(n_components=ngm,covariance_type='full').fit(xensL[:,-10:-1])\n",
    "    label=gm.predict(xensL[:,-10:-1])\n",
    "    print(gm.weights_*yensL.shape[0])\n",
    "    sfcPrecip_means=gm.means_[:,-1]\n",
    "    ind=np.argsort(sfcPrecip_means)\n",
    "    kgaincL=[]\n",
    "    ymeancL=[]\n",
    "    xmeancL=[]\n",
    "    ngm=3\n",
    "    for ic in range(ngm):\n",
    "        r=np.random.rand(yensL.shape[0])\n",
    "        a1=np.nonzero(r<0.6)\n",
    "        #a1=np.nonzero(label==ic)\n",
    "        xensLc=xensL[a1[0],:]\n",
    "        yensLc=yensL[a1[0],:]\n",
    "        covXY=np.cov(np.log(1+xensLc).T,yensLc.T)\n",
    "        nx=xensLc.shape[1]\n",
    "        ny=yensLc.shape[1]\n",
    "        covYY=covXY[nx:,nx:]+np.eye(ny)*0.1\n",
    "        covXY=covXY[:nx,nx:]\n",
    "        kgain=np.dot(covXY,np.linalg.pinv(covYY))\n",
    "        ymean=yensLc.mean(axis=0)\n",
    "        kgaincL.append(kgain)\n",
    "        ymeancL.append(ymean)\n",
    "        xmeancL.append(np.log(1+xensLc).mean(axis=0))\n",
    "    #print(len(a[0]))\n",
    "    kgainL.append(kgaincL)\n",
    "    ymeanL.append(ymeancL)\n",
    "    xmeanL.append(xmeancL)\n",
    "    weightL.append([1./ngm for k in range(ngm)])\n",
    "classPrecipL=np.array(classPrecipL)"
   ]
  },
  {
   "cell_type": "code",
   "execution_count": 182,
   "metadata": {},
   "outputs": [
    {
     "name": "stdout",
     "output_type": "stream",
     "text": [
      "[-0.4944998   0.27545324 -0.15223205  1.1012411  -0.6030821  -0.48219472\n",
      "  0.24462937 -0.44086507  0.85344964  0.7669635  -0.5457095   0.25661635\n",
      " -0.21879107 -0.38709444 -0.47525617 -0.5077576  -0.3198249   1.1302875\n",
      " -0.55523723  1.035332    0.01829623 -0.4022707  -0.05375418 -0.46426362\n",
      " -0.66174954]\n",
      "[0.3333333333333333, 0.3333333333333333, 0.3333333333333333]\n"
     ]
    }
   ],
   "source": [
    "#print(ymeanL[0].shape)\n",
    "#print(np.array(xmeanL)[:,-1])\n",
    "print(classPrecipL)\n",
    "print(weightL[0])"
   ]
  },
  {
   "cell_type": "code",
   "execution_count": 215,
   "metadata": {},
   "outputs": [
    {
     "name": "stdout",
     "output_type": "stream",
     "text": [
      "[[1.         0.53309792]\n",
      " [0.53309792 1.        ]]\n",
      "[[1.         0.66113379]\n",
      " [0.66113379 1.        ]]\n"
     ]
    }
   ],
   "source": [
    "classTest=kmeans.predict(X_test[:,-60:,0])\n",
    "precip_pred=classPrecipL[classTest]\n",
    "precipL=[]\n",
    "#print(kgainL[0].shape)\n",
    "#print(ymeanL[0].shape)\n",
    "#print(xmeanL[0].shape)\n",
    "for i, classP in enumerate(classTest):\n",
    "    y1=X_test[i,-50::1,0]\n",
    "    y2=X_test[i,-50::1,1]\n",
    "    y3=piaKu_test[i]\n",
    "    ytot=np.concatenate((y1,y2,y3))\n",
    "\n",
    "    for ic in range(3):\n",
    "        precip1=np.exp(np.dot(kgainL[classP][ic],ytot-ymeanL[classP][ic])+xmeanL[classP][ic])-1\n",
    "        if ic==0:\n",
    "            precip=precip1*weightL[classP][ic]\n",
    "        else:\n",
    "            precip+=precip1*weightL[classP][ic]\n",
    "    precipL.append(precip[-1])\n",
    "print(np.corrcoef(precip_pred,y_test[:,-1,1]))\n",
    "print(np.corrcoef(precipL,y_test[:,-1,1]))"
   ]
  },
  {
   "cell_type": "code",
   "execution_count": 221,
   "metadata": {},
   "outputs": [
    {
     "data": {
      "text/plain": [
       "[<matplotlib.lines.Line2D at 0x17fc24c70>]"
      ]
     },
     "execution_count": 221,
     "metadata": {},
     "output_type": "execute_result"
    },
    {
     "data": {
      "image/png": "[encoded data removed]",
      "text/plain": [
       "<Figure size 640x480 with 1 Axes>"
      ]
     },
     "metadata": {},
     "output_type": "display_data"
    },
    {
     "data": {
      "image/png": "[encoded data removed]",
      "text/plain": [
       "<Figure size 640x480 with 1 Axes>"
      ]
     },
     "metadata": {},
     "output_type": "display_data"
    }
   ],
   "source": [
    "import matplotlib\n",
    "ax=plt.subplot(111)\n",
    "h1d=plt.hist2d(y_test[:,-1,1],precipL,cmap='jet',bins=np.linspace(-1,6,50),norm=matplotlib.colors.LogNorm()) \n",
    "ax.set_aspect(1.0)\n",
    "plt.figure()\n",
    "plt.plot(np.sort(y_test[:,-1,1][:-30]),np.sort(precipL)[:-30])"
   ]
  },
  {
   "cell_type": "code",
   "execution_count": 218,
   "metadata": {},
   "outputs": [
    {
     "name": "stdout",
     "output_type": "stream",
     "text": [
      "(11818,)\n"
     ]
    }
   ],
   "source": [
    "precip_ref_sort=np.sort(y_test[:,-1,1])\n",
    "precip_pred_sort=np.sort(precipL)\n",
    "print(precip_ref_sort.shape)\n",
    "dist1=precip_ref_sort[::5][:-5]\n",
    "dist2=precip_pred_sort[::5][:-5]"
   ]
  },
  {
   "cell_type": "code",
   "execution_count": 219,
   "metadata": {},
   "outputs": [],
   "source": [
    "import importlib\n",
    "import bisectm\n",
    "importlib.reload(bisectm)\n",
    "\n",
    "nd=dist1.shape[0]\n",
    "precip_dmL=[]\n",
    "for i, precip1 in enumerate(precipL):\n",
    "    ind=bisectm.bisectm(dist2,nd,precip1)\n",
    "    f=(dist2[ind]-precip1)/(dist2[ind]-dist2[ind-1])\n",
    "    #print(f,precip1,dist2[ind],dist2[ind-1])\n",
    "    #f=1\n",
    "    intprecip=f*dist1[ind-1]+(1-f)*dist1[ind]\n",
    "    precip_dmL.append(intprecip)"
   ]
  },
  {
   "cell_type": "code",
   "execution_count": 220,
   "metadata": {},
   "outputs": [
    {
     "name": "stdout",
     "output_type": "stream",
     "text": [
      "[[1.         0.83545913]\n",
      " [0.83545913 1.        ]]\n"
     ]
    },
    {
     "data": {
      "text/plain": [
       "[<matplotlib.lines.Line2D at 0x17fb8b940>]"
      ]
     },
     "execution_count": 220,
     "metadata": {},
     "output_type": "execute_result"
    },
    {
     "data": {
      "image/png": "[encoded data removed]",
      "text/plain": [
       "<Figure size 640x480 with 1 Axes>"
      ]
     },
     "metadata": {},
     "output_type": "display_data"
    }
   ],
   "source": [
    "ax=plt.subplot(111)\n",
    "print(np.corrcoef(precip_dmL,y_test[:,-1,1]))\n",
    "h1=plt.hist2d(precip_dmL,y_test[:,-1,1],cmap='jet',norm=matplotlib.colors.LogNorm(),bins=np.linspace(-1,6,50))\n",
    "ax.set_aspect(1.0)\n",
    "plt.plot([-1,6],[-1,6],'k')"
   ]
  },
  {
   "cell_type": "code",
   "execution_count": 245,
   "metadata": {},
   "outputs": [],
   "source": [
    "#define a dense neural network with 4 inputs, 16 neurons in the first hidden layer, and 64 outputs\n",
    "# torch please\n",
    "import torch\n",
    "import torch.nn as nn\n",
    "class denseNet(nn.Module):\n",
    "    def __init__(self):\n",
    "        super(denseNet, self).__init__()\n",
    "        self.fc1 = nn.Linear(3, 16)  \n",
    "        self.fc2 = nn.Linear(16, 64)  \n",
    "    def forward(self, x):\n",
    "        x = torch.relu(self.fc1(x))\n",
    "        x = self.fc2(x)\n",
    "        return x[:,None,:]\n",
    "    \n",
    "proj_net=denseNet()"
   ]
  },
  {
   "cell_type": "code",
   "execution_count": 240,
   "metadata": {},
   "outputs": [
    {
     "name": "stdout",
     "output_type": "stream",
     "text": [
      "3.8804398 3.4148424\n",
      "(11818, 3)\n"
     ]
    }
   ],
   "source": [
    "x2_train=np.concatenate((X_train[:,-24:-23,0],X_train[:,-1:,0],(piaKu_train[:,:]-3.8)/4.),axis=1)\n",
    "x2_test=np.concatenate((X_test[:,-24:-23,0],X_test[:,-1:,0],(piaKu_test[:,:]-3.8)/4.),axis=1)\n",
    "print(piaKu_train.mean(),piaKu_train.std())\n",
    "print(x2_test.shape)"
   ]
  },
  {
   "cell_type": "code",
   "execution_count": 230,
   "metadata": {},
   "outputs": [
    {
     "name": "stdout",
     "output_type": "stream",
     "text": [
      "torch.Size([1, 1, 64])\n"
     ]
    }
   ],
   "source": [
    "from neuralop.models import TFNO\n",
    "import torch\n",
    "from torch.utils.data import DataLoader, TensorDataset\n",
    "\n",
    "fno_model = TFNO(n_modes=(16,), hidden_channels=32, projection_channels=16, factorization='tucker', rank=0.42,\n",
    "             in_channels=3, out_channels=1, dropout=0.1, groups=1)\n",
    "\n",
    "\n",
    "xtest=torch.tensor(np.random.rand(1,3,64).astype(np.float32))\n",
    "\n",
    "y=fno_model(xtest,output_shape=(64,))\n",
    "\n",
    "print(y.shape)"
   ]
  },
  {
   "cell_type": "code",
   "execution_count": 241,
   "metadata": {},
   "outputs": [],
   "source": [
    "train_dataset = TensorDataset(torch.tensor((X_train.swapaxes(1,2)).astype(np.float32)), torch.tensor(x2_train.astype(np.float32)),torch.tensor((y_train).swapaxes(1,2).astype(np.float32)))\n",
    "train_loader = DataLoader(train_dataset, batch_size=32, shuffle=True)   "
   ]
  },
  {
   "cell_type": "code",
   "execution_count": 246,
   "metadata": {},
   "outputs": [],
   "source": [
    "train_dataset.tensors[0].shape\n",
    "train_dataset.tensors[1].shape\n",
    "from torch import nn, optim\n",
    "criterion_mse=nn.MSELoss(reduction='mean')\n",
    "optimizer = optim.Adam(list(fno_model.parameters())+list(proj_net.parameters()), lr=0.001)\n",
    "n_epochs = 5\n",
    "for epoch in range(1, n_epochs + 1):\n",
    "    train_loss = 0.0\n",
    "    ibatch=0\n",
    "    for data, x2, target in train_loader:\n",
    "        optimizer.zero_grad()\n",
    "        #print(x2.shape)\n",
    "        yproj=proj_net(x2)\n",
    "        #print(yproj.shape)\n",
    "        xfno=torch.cat((data[:,:2,-64:],yproj),axis=1)\n",
    "        z = fno_model(xfno,output_shape=(32,))    \n",
    "        #print(z.shape)\n",
    "        #print(target.shape)\n",
    "        loss=criterion_mse(z[:,:,:],target[:,1:2,-32:])\n",
    "        loss.backward()\n",
    "        optimizer.step()\n",
    "        train_loss += loss.item()\n",
    "        ibatch+=1\n",
    "    train_loss = train_loss / ibatch\n",
    "    print('Epoch: {} \\tTraining Loss: {:.6f}'.format(epoch, train_loss))\n"
   ]
  },
  {
   "cell_type": "code",
   "execution_count": 207,
   "metadata": {},
   "outputs": [],
   "source": [
    "y_pred=fno_model(torch.tensor(X_test.swapaxes(1,2).astype(np.float32))[:,:2,-64:],output_shape=(32,))"
   ]
  },
  {
   "cell_type": "code",
   "execution_count": 209,
   "metadata": {},
   "outputs": [
    {
     "name": "stdout",
     "output_type": "stream",
     "text": [
      "[[1.         0.65707595]\n",
      " [0.65707595 1.        ]]\n"
     ]
    },
    {
     "data": {
      "text/plain": [
       "(array([[ 0.,  0.,  0., ...,  0.,  0.,  0.],\n",
       "        [ 0.,  0.,  1., ...,  0.,  0.,  0.],\n",
       "        [ 0.,  0., 82., ...,  0.,  0.,  0.],\n",
       "        ...,\n",
       "        [ 0.,  0.,  0., ...,  0.,  0.,  0.],\n",
       "        [ 0.,  0.,  0., ...,  0.,  0.,  0.],\n",
       "        [ 0.,  0.,  0., ...,  0.,  0.,  0.]]),\n",
       " array([-1.        , -0.85714286, -0.71428571, -0.57142857, -0.42857143,\n",
       "        -0.28571429, -0.14285714,  0.        ,  0.14285714,  0.28571429,\n",
       "         0.42857143,  0.57142857,  0.71428571,  0.85714286,  1.        ,\n",
       "         1.14285714,  1.28571429,  1.42857143,  1.57142857,  1.71428571,\n",
       "         1.85714286,  2.        ,  2.14285714,  2.28571429,  2.42857143,\n",
       "         2.57142857,  2.71428571,  2.85714286,  3.        ,  3.14285714,\n",
       "         3.28571429,  3.42857143,  3.57142857,  3.71428571,  3.85714286,\n",
       "         4.        ,  4.14285714,  4.28571429,  4.42857143,  4.57142857,\n",
       "         4.71428571,  4.85714286,  5.        ,  5.14285714,  5.28571429,\n",
       "         5.42857143,  5.57142857,  5.71428571,  5.85714286,  6.        ]),\n",
       " array([-1.        , -0.85714286, -0.71428571, -0.57142857, -0.42857143,\n",
       "        -0.28571429, -0.14285714,  0.        ,  0.14285714,  0.28571429,\n",
       "         0.42857143,  0.57142857,  0.71428571,  0.85714286,  1.        ,\n",
       "         1.14285714,  1.28571429,  1.42857143,  1.57142857,  1.71428571,\n",
       "         1.85714286,  2.        ,  2.14285714,  2.28571429,  2.42857143,\n",
       "         2.57142857,  2.71428571,  2.85714286,  3.        ,  3.14285714,\n",
       "         3.28571429,  3.42857143,  3.57142857,  3.71428571,  3.85714286,\n",
       "         4.        ,  4.14285714,  4.28571429,  4.42857143,  4.57142857,\n",
       "         4.71428571,  4.85714286,  5.        ,  5.14285714,  5.28571429,\n",
       "         5.42857143,  5.57142857,  5.71428571,  5.85714286,  6.        ]),\n",
       " <matplotlib.collections.QuadMesh at 0x310480dc0>)"
      ]
     },
     "execution_count": 209,
     "metadata": {},
     "output_type": "execute_result"
    },
    {
     "data": {
      "image/png": "[encoded data removed]",
      "text/plain": [
       "<Figure size 640x480 with 1 Axes>"
      ]
     },
     "metadata": {},
     "output_type": "display_data"
    }
   ],
   "source": [
    "print(np.corrcoef(y_pred.detach().numpy()[:,0,-1],y_test[:,-1,1].flatten()))\n",
    "plt.hist2d(y_test[:,-1,1].flatten(),y_pred.detach().numpy()[:,0,-1],cmap='jet',bins=np.linspace(-1,6,50),norm=matplotlib.colors.LogNorm())"
   ]
  },
  {
   "cell_type": "code",
   "execution_count": 210,
   "metadata": {},
   "outputs": [
    {
     "name": "stdout",
     "output_type": "stream",
     "text": [
      "59089\n"
     ]
    }
   ],
   "source": [
    "print(len(piaKuL))"
   ]
  }
 ],
 "metadata": {
  "kernelspec": {
   "display_name": "base",
   "language": "python",
   "name": "python3"
  },
  "language_info": {
   "codemirror_mode": {
    "name": "ipython",
    "version": 3
   },
   "file_extension": ".py",
   "mimetype": "text/x-python",
   "name": "python",
   "nbconvert_exporter": "python",
   "pygments_lexer": "ipython3",
   "version": "3.9.13"
  }
 },
 "nbformat": 4,
 "nbformat_minor": 2
}
