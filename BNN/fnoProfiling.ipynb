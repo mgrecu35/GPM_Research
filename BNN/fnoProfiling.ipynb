{
 "cells": [
  {
   "cell_type": "code",
   "execution_count": 1,
   "metadata": {},
   "outputs": [
    {
     "name": "stdout",
     "output_type": "stream",
     "text": [
      "['convProfs/convProfs_20200701-02.nc', 'convProfs/convProfs_20200201-05.nc', 'convProfs/convProfs_20200601-02.nc', 'convProfs/convProfs_20200301-05.nc', 'convProfs/convProfs_20200401-02.nc', 'convProfs/convProfs_20200101-05.nc', 'convProfs/convProfs_20200501-02.nc', 'convProfs/convProfs_20200501-05.nc', 'convProfs/convProfs_20200401-05.nc', 'convProfs/convProfs_20200101-02.nc', 'convProfs/convProfs_20200601-05.nc', 'convProfs/convProfs_20200301-02.nc', 'convProfs/convProfs_20200701-05.nc', 'convProfs/convProfs_20200201-02.nc']\n",
      "48051\n"
     ]
    }
   ],
   "source": [
    "import numpy as np\n",
    "import matplotlib.pyplot as plt\n",
    "import netCDF4 as nc\n",
    "\n",
    "import glob\n",
    "convFiles=glob.glob(\"convProfs/*nc\")\n",
    "print(convFiles)\n",
    "\n",
    "ntot=0\n",
    "zKuL=[]\n",
    "zKaL=[]\n",
    "pRateDPRL=[]\n",
    "pRateCMBL=[]\n",
    "dmCMBL=[]\n",
    "nodes2L=[]\n",
    "bsfcL=[]\n",
    "piaKuL=[]\n",
    "piaDPRL=[]\n",
    "bcfL=[]\n",
    "n1,n2=1,9\n",
    "ns=66\n",
    "for f in convFiles[:]:\n",
    "    with nc.Dataset(f) as fh:\n",
    "        hzero=fh['hzero'][:,n1:n2,4]\n",
    "        zKu=fh['zKu'][:,n1:n2,4]\n",
    "        zKa=fh['zKa'][:,n1:n2,4]\n",
    "        bzd=fh['bzd'][:,4,4]\n",
    "        bcf=fh['bcf'][:,4,4]\n",
    "        bsfc=fh['elevation'][:,4,4]\n",
    "        elev=fh['elevation'][:,4,4]\n",
    "        PIAhyb=fh['PIAhyb'][:,n1:n2,4]\n",
    "        PIAhybDPR=fh['PIAhybDPR'][:,n1:n2,4]\n",
    "        bsfc[bsfc<0]=0\n",
    "        bsfc=(175-(bsfc/125))\n",
    "        \n",
    "        precipDPR=fh['precip'][:,n1:n2,4,:]\n",
    "        precipCMB=fh['precipCMB'][:,n1:n2,4,:]  \n",
    "        dmCMB=fh['dmCMB'][:,n1:n2,4] \n",
    "        n24=30\n",
    "        a=np.nonzero(bcf-bzd>n24)\n",
    "        for i in a[0]:            \n",
    "            nodes=list(range(bzd[i]-ns,bzd[i]+n24))\n",
    "            if nodes[0]%2==0:\n",
    "                nodes2=nodes[::2]\n",
    "            else:\n",
    "                nodes2=nodes[1::2]\n",
    "            nodes2=np.array(nodes2)//2         \n",
    "            if precipCMB[i,:,nodes2[-1]].min()>-0.1:\n",
    "                zKuL.append(zKu[i,:,bzd[i]-ns:bzd[i]+n24])\n",
    "                zKaL.append(zKa[i,:,bzd[i]-ns:bzd[i]+n24])\n",
    "                pRateDPRL.append(precipDPR[i,:,bzd[i]-ns:bzd[i]+n24])\n",
    "                pRateCMBL.append(precipCMB[i,:,:][:,nodes2])\n",
    "                dmCMBL.append(dmCMB[i,:,:][:,nodes2])\n",
    "                piaKuL.append(PIAhyb[i,:])\n",
    "                piaDPRL.append(PIAhybDPR[i,:,:])\n",
    "                bsfcL.append(bsfc[i])\n",
    "                bcfL.append(bcf[i])\n",
    "                nodes2L.append(nodes2)\n",
    "                ntot+=1\n",
    "print(ntot)"
   ]
  },
  {
   "cell_type": "code",
   "execution_count": 16,
   "metadata": {},
   "outputs": [
    {
     "name": "stdout",
     "output_type": "stream",
     "text": [
      "48051\n",
      "(48051, 3, 96, 8)\n"
     ]
    },
    {
     "data": {
      "image/png": "[encoded data removed]",
      "text/plain": [
       "<Figure size 640x480 with 1 Axes>"
      ]
     },
     "metadata": {},
     "output_type": "display_data"
    }
   ],
   "source": [
    "print(len(pRateCMBL))\n",
    "nt=len(pRateCMBL)\n",
    "X=np.zeros((nt,8,ns+n24,3),float)\n",
    "zKuL=np.array(zKuL)\n",
    "zKaL=np.array(zKaL)\n",
    "zKuL[zKuL<0]=0\n",
    "zKaL[zKaL<0]=0\n",
    "xrange=(np.arange(ns+n24)-60.0)/60.0+1\n",
    "import matplotlib.pyplot as plt\n",
    "plt.plot(zKuL.mean(axis=(0,1)),xrange)\n",
    "plt.plot(zKaL.mean(axis=(0,1)),xrange)\n",
    "#plt.plot(zKuL[1000,:])\n",
    "#plt.plot(zKaL[1000,:])\n",
    "X[:,:,:,0]=zKuL/zKuL.std(axis=(0,1))\n",
    "X[:,:,:,1]=zKaL/zKuL.std(axis=(0,1))\n",
    "\n",
    "X=X.swapaxes(1,3)\n",
    "print(X.shape)\n",
    "#for k in range(nt):\n",
    "#    X[k,:,2]=xrange\n"
   ]
  },
  {
   "cell_type": "code",
   "execution_count": 18,
   "metadata": {},
   "outputs": [
    {
     "name": "stdout",
     "output_type": "stream",
     "text": [
      "0.0 5.7070107 0.5109118 0.8710348\n",
      "(48051, 1, 96, 8)\n"
     ]
    }
   ],
   "source": [
    "import torch\n",
    "from torch.utils.data import DataLoader, TensorDataset\n",
    "pRateDPRL=np.array(pRateDPRL)\n",
    "y=np.log(1+pRateDPRL)\n",
    "print(y.min(),y.max(),y.mean(),y.std())\n",
    "ymean=y.mean(axis=0)\n",
    "ystd=y.std(axis=0)\n",
    "y_scaled=(y-ymean)/ystd\n",
    "y_scaled=y_scaled[:,:,:,np.newaxis]\n",
    "y_scaled=y_scaled.swapaxes(1,3)\n",
    "print(y_scaled.shape)\n",
    "from sklearn.model_selection import train_test_split\n",
    "X_train, X_test, y_train, y_test = train_test_split(X, y_scaled, test_size=0.2, random_state=42)\n",
    "# import torch dataset and torch Dataloader\n",
    "\n",
    "from torch.utils.data import DataLoader, TensorDataset\n",
    "\n",
    "train_data = TensorDataset(torch.tensor(X_train).float(), torch.tensor(y_train).float())\n",
    "test_data = TensorDataset(torch.tensor(X_test).float(), torch.tensor(y_test).float())\n",
    "batch_size = 128\n",
    "train_loader = DataLoader(train_data, shuffle=True, batch_size=batch_size)"
   ]
  },
  {
   "cell_type": "code",
   "execution_count": 21,
   "metadata": {},
   "outputs": [
    {
     "name": "stdout",
     "output_type": "stream",
     "text": [
      "torch.Size([1, 1, 96, 16])\n"
     ]
    }
   ],
   "source": [
    "from neuralop.models import TFNO\n",
    "\n",
    "fno_model = TFNO(n_modes=(16, 2), hidden_channels=32, projection_channels=16, factorization='tucker', rank=0.42,\n",
    "             in_channels=2, out_channels=1, dropout=0.1, groups=1)\n",
    "\n",
    "xtest=torch.tensor(np.random.rand(1,2,ns+n24,8).astype(np.float32))\n",
    "\n",
    "y=fno_model(xtest,output_shape=(ns+n24,16))\n",
    "print(y.shape)"
   ]
  },
  {
   "cell_type": "code",
   "execution_count": 22,
   "metadata": {},
   "outputs": [],
   "source": [
    "from torch import nn, optim\n",
    "criterion_mse=nn.MSELoss(reduction='mean')\n",
    "optimizer = optim.Adam(fno_model.parameters(), lr=0.001)"
   ]
  },
  {
   "cell_type": "code",
   "execution_count": 23,
   "metadata": {},
   "outputs": [
    {
     "name": "stdout",
     "output_type": "stream",
     "text": [
      "Epoch: 1 \tTraining Loss: 0.220444\n",
      "Epoch: 2 \tTraining Loss: 0.125031\n",
      "Epoch: 3 \tTraining Loss: 0.110274\n",
      "Epoch: 4 \tTraining Loss: 0.103738\n",
      "Epoch: 5 \tTraining Loss: 0.097892\n"
     ]
    }
   ],
   "source": [
    "n_epochs = 5\n",
    "for epoch in range(1, n_epochs + 1):\n",
    "    train_loss = 0.0\n",
    "    ibatch=0\n",
    "    for data, target in train_loader:\n",
    "        optimizer.zero_grad()\n",
    "        #z, mean, std = bayesian_lstm(data[:,:,0:2])\n",
    "        z = fno_model(data[:,:2,:,:])\n",
    "        #print(z.shape)\n",
    "        #print(target.shape)\n",
    "        #loss1 = 0.5*criterion(z[:,::8,:,:],target[:,::8,:])\n",
    "        #print(z.shape)\n",
    "        #print(target.shape)\n",
    "        #loss2= 0.5*criterion_mse(z[:,:-1,:,2],target[:,:-1,:])\n",
    "        #loss=loss1+loss2\n",
    "        loss=criterion_mse(z,target)\n",
    "        loss.backward()\n",
    "        optimizer.step()\n",
    "        train_loss += loss.item()\n",
    "        ibatch+=1\n",
    "    train_loss = train_loss / ibatch\n",
    "    print('Epoch: {} \\tTraining Loss: {:.6f}'.format(epoch, train_loss))"
   ]
  },
  {
   "cell_type": "code",
   "execution_count": 24,
   "metadata": {},
   "outputs": [],
   "source": [
    "y_pred=fno_model(torch.tensor(X_test).float()[:,:2,:,:])\n"
   ]
  },
  {
   "cell_type": "code",
   "execution_count": 30,
   "metadata": {},
   "outputs": [],
   "source": [
    "y_pred2=fno_model(torch.tensor(X_test).float()[:,:2,:,:])\n"
   ]
  },
  {
   "cell_type": "code",
   "execution_count": 32,
   "metadata": {},
   "outputs": [
    {
     "name": "stdout",
     "output_type": "stream",
     "text": [
      "(9611, 1, 96, 8)\n",
      "(9611, 1, 96, 8)\n",
      "[[1.         0.69955493]\n",
      " [0.69955493 1.        ]]\n",
      "[[1. 1.]\n",
      " [1. 1.]]\n"
     ]
    }
   ],
   "source": [
    "y_pred2_numpy=y_pred2.detach().numpy()\n",
    "y_pred_numpy=y_pred.detach().numpy()\n",
    "print(y_pred_numpy.shape)\n",
    "print(y_test.shape)\n",
    "print(np.corrcoef(y_pred2_numpy[:,0,-1,3],y_test[:,0,-1,3]))\n",
    "print(np.corrcoef(y_pred2_numpy[:,0,-1,3],y_pred_numpy[:,0,-1,3]))"
   ]
  }
 ],
 "metadata": {
  "kernelspec": {
   "display_name": "base",
   "language": "python",
   "name": "python3"
  },
  "language_info": {
   "codemirror_mode": {
    "name": "ipython",
    "version": 3
   },
   "file_extension": ".py",
   "mimetype": "text/x-python",
   "name": "python",
   "nbconvert_exporter": "python",
   "pygments_lexer": "ipython3",
   "version": "3.9.13"
  }
 },
 "nbformat": 4,
 "nbformat_minor": 2
}
