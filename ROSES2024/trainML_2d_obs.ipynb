{
 "cells": [
  {
   "cell_type": "code",
   "execution_count": 1,
   "metadata": {},
   "outputs": [],
   "source": [
    "#double tbSim(n, channel) ;\n",
    "#double tbObs(n, channel) ;\n",
    "#int64 pType(n) ;\n",
    "#float sfcEmiss(n, channel) ;\n",
    "#float skTemp(n) ;\n",
    "#skTemp:_FillValue = NaNf ;\n",
    "#double wvp(n) ;\n",
    "#double iwp(n) ;\n",
    "#double rwp(n) ;\n",
    "\n",
    "import numpy as np\n",
    "import netCDF4 as nc\n",
    "import matplotlib.pyplot as plt\n",
    "import matplotlib.pyplot as plt\n",
    "\n",
    "with nc.Dataset(\"/Volumes/T7 Shield/SUBSETS/output/training_dataset_land_2d_0to120step2.nc\") as f:\n",
    "    tbSim = f.variables[\"tbConv\"][:,1:-1,:,:]\n",
    "    tbObs = f.variables[\"tbObs\"][:,1:-1,:,:]\n",
    "    pType = f.variables[\"pType\"][:]\n",
    "    sfcEmiss = f.variables[\"sfcEmiss\"][:]\n",
    "    skTemp = f.variables[\"skTemp\"][:,1:-1,:]\n",
    "    wvp = f.variables[\"wvp\"][:]\n",
    "    iwp = f.variables[\"iwp\"][:]\n",
    "    rwp = f.variables[\"rwp\"][:]\n",
    "    sfcBin= f.variables[\"sfcBin\"][:,1:-1,:]\n",
    "    zeroDeg= f.variables[\"zeroDeg\"][:,1:-1,:]\n",
    "    stormTop= f.variables[\"stormTop\"][:]\n",
    "    oe_wvp= f.variables[\"oe_wvp\"][:]\n",
    "    sfcPrecip= f.variables[\"sfcPrecip\"][:]\n"
   ]
  },
  {
   "cell_type": "code",
   "execution_count": 9,
   "metadata": {},
   "outputs": [
    {
     "name": "stdout",
     "output_type": "stream",
     "text": [
      "[0. 0. 0. ... 0. 0. 0.]\n",
      "0\n",
      "23.866926 15.461204 (1874740, 9, 7)\n",
      "0\n"
     ]
    }
   ],
   "source": [
    "#print(tbSim.mean(axis=0))\n",
    "print(stormTop.data)\n",
    "a=np.nonzero(stormTop.data!=stormTop.data)\n",
    "stormTop[a]=0\n",
    "print(len(a[0]))\n",
    "print(oe_wvp.data.mean(),oe_wvp.data.std(),oe_wvp.shape)\n",
    "a=np.nonzero(zeroDeg.data!=zeroDeg.data)\n",
    "zeroDeg[a]=0\n",
    "print(len(a[0]))"
   ]
  },
  {
   "cell_type": "code",
   "execution_count": 11,
   "metadata": {},
   "outputs": [
    {
     "name": "stdout",
     "output_type": "stream",
     "text": [
      "6.388173580169678\n",
      "77.44548797607422\n"
     ]
    },
    {
     "data": {
      "image/png": "[encoded data removed]",
      "text/plain": [
       "<Figure size 640x480 with 1 Axes>"
      ]
     },
     "metadata": {},
     "output_type": "display_data"
    }
   ],
   "source": [
    "print(rwp.max())\n",
    "print(iwp.max())\n",
    "a=np.where(rwp>0)\n",
    "#h1=plt.hist(rwp[a], bins=50)\n",
    "b=np.where(iwp>0)\n",
    "#h2=plt.hist(wvp[b]*1e3, bins=np.arange(0, 25, 0.1))"
   ]
  },
  {
   "cell_type": "code",
   "execution_count": 4,
   "metadata": {},
   "outputs": [
    {
     "name": "stdout",
     "output_type": "stream",
     "text": [
      "(1874740, 7, 7, 9)\n"
     ]
    },
    {
     "data": {
      "text/html": [
       "<style>#sk-container-id-1 {color: black;background-color: white;}#sk-container-id-1 pre{padding: 0;}#sk-container-id-1 div.sk-toggleable {background-color: white;}#sk-container-id-1 label.sk-toggleable__label {cursor: pointer;display: block;width: 100%;margin-bottom: 0;padding: 0.3em;box-sizing: border-box;text-align: center;}#sk-container-id-1 label.sk-toggleable__label-arrow:before {content: \"▸\";float: left;margin-right: 0.25em;color: #696969;}#sk-container-id-1 label.sk-toggleable__label-arrow:hover:before {color: black;}#sk-container-id-1 div.sk-estimator:hover label.sk-toggleable__label-arrow:before {color: black;}#sk-container-id-1 div.sk-toggleable__content {max-height: 0;max-width: 0;overflow: hidden;text-align: left;background-color: #f0f8ff;}#sk-container-id-1 div.sk-toggleable__content pre {margin: 0.2em;color: black;border-radius: 0.25em;background-color: #f0f8ff;}#sk-container-id-1 input.sk-toggleable__control:checked~div.sk-toggleable__content {max-height: 200px;max-width: 100%;overflow: auto;}#sk-container-id-1 input.sk-toggleable__control:checked~label.sk-toggleable__label-arrow:before {content: \"▾\";}#sk-container-id-1 div.sk-estimator input.sk-toggleable__control:checked~label.sk-toggleable__label {background-color: #d4ebff;}#sk-container-id-1 div.sk-label input.sk-toggleable__control:checked~label.sk-toggleable__label {background-color: #d4ebff;}#sk-container-id-1 input.sk-hidden--visually {border: 0;clip: rect(1px 1px 1px 1px);clip: rect(1px, 1px, 1px, 1px);height: 1px;margin: -1px;overflow: hidden;padding: 0;position: absolute;width: 1px;}#sk-container-id-1 div.sk-estimator {font-family: monospace;background-color: #f0f8ff;border: 1px dotted black;border-radius: 0.25em;box-sizing: border-box;margin-bottom: 0.5em;}#sk-container-id-1 div.sk-estimator:hover {background-color: #d4ebff;}#sk-container-id-1 div.sk-parallel-item::after {content: \"\";width: 100%;border-bottom: 1px solid gray;flex-grow: 1;}#sk-container-id-1 div.sk-label:hover label.sk-toggleable__label {background-color: #d4ebff;}#sk-container-id-1 div.sk-serial::before {content: \"\";position: absolute;border-left: 1px solid gray;box-sizing: border-box;top: 0;bottom: 0;left: 50%;z-index: 0;}#sk-container-id-1 div.sk-serial {display: flex;flex-direction: column;align-items: center;background-color: white;padding-right: 0.2em;padding-left: 0.2em;position: relative;}#sk-container-id-1 div.sk-item {position: relative;z-index: 1;}#sk-container-id-1 div.sk-parallel {display: flex;align-items: stretch;justify-content: center;background-color: white;position: relative;}#sk-container-id-1 div.sk-item::before, #sk-container-id-1 div.sk-parallel-item::before {content: \"\";position: absolute;border-left: 1px solid gray;box-sizing: border-box;top: 0;bottom: 0;left: 50%;z-index: -1;}#sk-container-id-1 div.sk-parallel-item {display: flex;flex-direction: column;z-index: 1;position: relative;background-color: white;}#sk-container-id-1 div.sk-parallel-item:first-child::after {align-self: flex-end;width: 50%;}#sk-container-id-1 div.sk-parallel-item:last-child::after {align-self: flex-start;width: 50%;}#sk-container-id-1 div.sk-parallel-item:only-child::after {width: 0;}#sk-container-id-1 div.sk-dashed-wrapped {border: 1px dashed gray;margin: 0 0.4em 0.5em 0.4em;box-sizing: border-box;padding-bottom: 0.4em;background-color: white;}#sk-container-id-1 div.sk-label label {font-family: monospace;font-weight: bold;display: inline-block;line-height: 1.2em;}#sk-container-id-1 div.sk-label-container {text-align: center;}#sk-container-id-1 div.sk-container {/* jupyter's `normalize.less` sets `[hidden] { display: none; }` but bootstrap.min.css set `[hidden] { display: none !important; }` so we also need the `!important` here to be able to override the default hidden behavior on the sphinx rendered scikit-learn.org. See: https://github.com/scikit-learn/scikit-learn/issues/21755 */display: inline-block !important;position: relative;}#sk-container-id-1 div.sk-text-repr-fallback {display: none;}</style><div id=\"sk-container-id-1\" class=\"sk-top-container\"><div class=\"sk-text-repr-fallback\"><pre>StandardScaler()</pre><b>In a Jupyter environment, please rerun this cell to show the HTML representation or trust the notebook. <br />On GitHub, the HTML representation is unable to render, please try loading this page with nbviewer.org.</b></div><div class=\"sk-container\" hidden><div class=\"sk-item\"><div class=\"sk-estimator sk-toggleable\"><input class=\"sk-toggleable__control sk-hidden--visually\" id=\"sk-estimator-id-1\" type=\"checkbox\" checked><label for=\"sk-estimator-id-1\" class=\"sk-toggleable__label sk-toggleable__label-arrow\">StandardScaler</label><div class=\"sk-toggleable__content\"><pre>StandardScaler()</pre></div></div></div></div></div>"
      ],
      "text/plain": [
       "StandardScaler()"
      ]
     },
     "execution_count": 4,
     "metadata": {},
     "output_type": "execute_result"
    }
   ],
   "source": [
    "#normalize tbObs using scaler from sklearn\n",
    "from sklearn.preprocessing import StandardScaler\n",
    "scaler = StandardScaler()\n",
    "print(tbObs.shape)\n",
    "scaler.fit(tbObs[:,3,3,:])\n"
   ]
  },
  {
   "cell_type": "code",
   "execution_count": 5,
   "metadata": {},
   "outputs": [],
   "source": [
    "import pickle\n",
    "try:\n",
    "    #del tbObs\n",
    "    del tbSim\n",
    "    with open(\"tbobs_0_60.scaler_2.pkl\", \"wb\") as f:\n",
    "        pickle.dump(scaler, f)\n",
    "except:\n",
    "    print(\"tbObs already deleted\")\n",
    "tbSim_scaled = tbObs[:,:,:,:9].copy()\n",
    "#tbSim_scaled = tbSim[:,:,:,:9].copy()\n",
    "for i in range(9):\n",
    "    tbSim_scaled[:,:,:,i] = (tbSim_scaled[:,:,:,i] - scaler.mean_[i])/scaler.scale_[i]\n",
    "    \n"
   ]
  },
  {
   "cell_type": "code",
   "execution_count": 11,
   "metadata": {},
   "outputs": [
    {
     "name": "stdout",
     "output_type": "stream",
     "text": [
      "(1874740, 7, 7, 9)\n",
      "(1874740, 7, 7)\n",
      "0.10327203\n",
      "3672.642 6174.37\n"
     ]
    }
   ],
   "source": [
    "print(tbSim_scaled.shape)\n",
    "print(skTemp.shape)\n",
    "#print(sfcBin_scaled.shape)\n",
    "print(sfcPrecip.data.mean())\n",
    "a=np.where(sfcBin.data!=sfcBin.data)\n",
    "print(zeroDeg.data.mean(), zeroDeg.max())"
   ]
  },
  {
   "cell_type": "code",
   "execution_count": 12,
   "metadata": {},
   "outputs": [],
   "source": [
    "\n",
    "gVars=np.concatenate((np.log(1+wvp*1e3/10)[:,np.newaxis], np.log(1+iwp/10)[:,np.newaxis], np.log(1+rwp/10)[:,np.newaxis],stormTop[:,np.newaxis]/10e3,np.log10(1+sfcPrecip[:,np.newaxis]/0.1)), axis=1)\n",
    "\n",
    "\n",
    "#with nc.Dataset(\"training_dataset_land_2d.nc\") as f:\n",
    "#    sfcBin=f.variables[\"sfcBin\"][:]\n",
    "try:\n",
    "    sfcBin_scaled=(88-sfcBin)/30\n",
    "    del sfcBin\n",
    "except:\n",
    "    print(\"sfcBin already deleted\")\n",
    "\n",
    "x_forward=np.concatenate((tbSim_scaled, (skTemp-273.15)[:,:,:,np.newaxis]/5,(zeroDeg)[:,:,:,np.newaxis]/2e3,sfcBin_scaled[:,:,:,np.newaxis],((oe_wvp-22)/15.)[:,1:-1,:,np.newaxis]), axis=3)\n",
    "#print(sfcBin.max(), sfcBin.min(), sfcBin.shape)"
   ]
  },
  {
   "cell_type": "code",
   "execution_count": 13,
   "metadata": {},
   "outputs": [
    {
     "name": "stdout",
     "output_type": "stream",
     "text": [
      "Model: \"sequential\"\n",
      "_________________________________________________________________\n",
      " Layer (type)                Output Shape              Param #   \n",
      "=================================================================\n",
      " conv2d (Conv2D)             (None, 7, 5, 32)          2912      \n",
      "                                                                 \n",
      " max_pooling2d (MaxPooling2  (None, 3, 2, 32)          0         \n",
      " D)                                                              \n",
      "                                                                 \n",
      " conv2d_1 (Conv2D)           (None, 3, 2, 64)          18496     \n",
      "                                                                 \n",
      " max_pooling2d_1 (MaxPoolin  (None, 1, 1, 64)          0         \n",
      " g2D)                                                            \n",
      "                                                                 \n",
      " flatten (Flatten)           (None, 64)                0         \n",
      "                                                                 \n",
      " dense (Dense)               (None, 64)                4160      \n",
      "                                                                 \n",
      " dense_1 (Dense)             (None, 1)                 65        \n",
      "                                                                 \n",
      "=================================================================\n",
      "Total params: 25633 (100.13 KB)\n",
      "Trainable params: 25633 (100.13 KB)\n",
      "Non-trainable params: 0 (0.00 Byte)\n",
      "_________________________________________________________________\n",
      "None\n"
     ]
    }
   ],
   "source": [
    "# define convolutional neural network to predict gvars from x_forward\n",
    "\n",
    "import tensorflow as tf\n",
    "from tensorflow import keras\n",
    "from tensorflow.keras import layers\n",
    "\n",
    "def cnn_model(nout):\n",
    "    model = keras.Sequential()\n",
    "    model.add(layers.Conv2D(32, (1, 3), activation='relu', input_shape=(7, 7, 13)))\n",
    "    model.add(layers.MaxPooling2D((2, 2)))\n",
    "    model.add(layers.Conv2D(64, (3, 3), padding='same',activation='relu'))\n",
    "    model.add(layers.MaxPooling2D((2, 2)))\n",
    "    #model.add(layers.Conv2D(64, (3, 3), activation='relu'))\n",
    "    model.add(layers.Flatten())\n",
    "    model.add(layers.Dense(64, activation='relu'))\n",
    "    model.add(layers.Dense(nout))\n",
    "    return model\n",
    "\n",
    "def cnn_model_logit(nout):\n",
    "    model = keras.Sequential()\n",
    "    model.add(layers.Conv2D(32, (3, 3), activation='relu', input_shape=(7, 7, 10)))\n",
    "    model.add(layers.MaxPooling2D((2, 2)))\n",
    "    model.add(layers.Conv2D(64, (3, 3), padding='same',activation='relu'))\n",
    "    model.add(layers.MaxPooling2D((2, 2)))\n",
    "    #model.add(layers.Conv2D(64, (3, 3), activation='relu'))\n",
    "    model.add(layers.Flatten())\n",
    "    model.add(layers.Dense(64, activation='relu'))\n",
    "    model.add(layers.Dense(nout, activation='sigmoid'))\n",
    "    return model\n",
    "\n",
    "forward_model_logit=cnn_model_logit(1)\n",
    "print(forward_model_logit.summary())\n",
    "\n",
    " \n",
    "\n",
    "#print(forward_modeli.summary())"
   ]
  },
  {
   "cell_type": "code",
   "execution_count": 14,
   "metadata": {},
   "outputs": [],
   "source": [
    "forward_model_reg=cnn_model(gVars.shape[1])"
   ]
  },
  {
   "cell_type": "code",
   "execution_count": 11,
   "metadata": {},
   "outputs": [
    {
     "name": "stdout",
     "output_type": "stream",
     "text": [
      "(2485962, 7, 7, 12)\n",
      "(2485962, 4)\n",
      "(2485962,)\n"
     ]
    }
   ],
   "source": [
    "from sklearn.model_selection import train_test_split\n",
    "x_mean=x_forward.mean(axis=(1,2,3))\n",
    "print(x_forward.shape)  \n",
    "print(gVars.shape)\n",
    "print(pType.shape)"
   ]
  },
  {
   "cell_type": "code",
   "execution_count": 12,
   "metadata": {},
   "outputs": [
    {
     "name": "stdout",
     "output_type": "stream",
     "text": [
      "(2485962,)\n",
      "1798\n",
      "2484164\n"
     ]
    }
   ],
   "source": [
    "print(x_mean.shape)\n",
    "a=np.where(np.isnan(x_mean))\n",
    "print(len(a[0]))\n",
    "a=np.nonzero(x_mean==x_mean)\n",
    "print(len(a[0]))\n",
    "#x_forward=x_forward[a]\n",
    "gVars=gVars[a]\n",
    "pType=pType[a]\n",
    "x_forward=x_forward[a]"
   ]
  },
  {
   "cell_type": "code",
   "execution_count": 15,
   "metadata": {},
   "outputs": [
    {
     "name": "stdout",
     "output_type": "stream",
     "text": [
      "(1499792, 7, 7, 13)\n",
      "(374948, 7, 7, 13)\n"
     ]
    }
   ],
   "source": [
    "\n",
    "#X_train, X_test, y_train, y_test = train_test_split(x_forward, gVars, test_size=0.2, random_state=42)\n",
    "# split the data into training and testing, with first 80% as training and last 20% as testing\n",
    "X_train=x_forward[:int(0.8*x_forward.shape[0]),:,:,:]\n",
    "X_test=x_forward[int(0.8*x_forward.shape[0]):,:,:,:]\n",
    "print(X_train.shape)\n",
    "print(X_test.shape)\n",
    "y_train=gVars[:int(0.8*gVars.shape[0])]\n",
    "y_test=gVars[int(0.8*gVars.shape[0]):]\n",
    "y_rain=pType.copy()\n",
    "y_rain[y_rain>0]=1\n",
    "y_rain_train=y_rain[:int(0.8*gVars.shape[0])]\n",
    "y_rain_test=y_rain[int(0.8*gVars.shape[0]):]\n",
    "#a=np.where(y_rain>0)\n",
    "#print(a[0].shape[0]/y_rain.shape[0])\n"
   ]
  },
  {
   "cell_type": "code",
   "execution_count": 66,
   "metadata": {},
   "outputs": [
    {
     "name": "stdout",
     "output_type": "stream",
     "text": [
      "3\n"
     ]
    }
   ],
   "source": [
    "print(pType.max())\n",
    "pType_train=pType[:int(0.8*gVars.shape[0])]"
   ]
  },
  {
   "cell_type": "code",
   "execution_count": 56,
   "metadata": {},
   "outputs": [
    {
     "name": "stdout",
     "output_type": "stream",
     "text": [
      "-0.011999398714818229 0.013121869189029987\n"
     ]
    }
   ],
   "source": [
    "print(X_train.mean(), X_test.mean())"
   ]
  },
  {
   "cell_type": "code",
   "execution_count": 16,
   "metadata": {},
   "outputs": [
    {
     "name": "stdout",
     "output_type": "stream",
     "text": [
      "Epoch 1/10\n",
      "46869/46869 [==============================] - 71s 2ms/step - loss: 0.0092 - val_loss: 0.0088\n",
      "Epoch 2/10\n",
      "46869/46869 [==============================] - 73s 2ms/step - loss: 0.0080 - val_loss: 0.0087\n",
      "Epoch 3/10\n",
      "46869/46869 [==============================] - 76s 2ms/step - loss: 0.0077 - val_loss: 0.0088\n",
      "Epoch 4/10\n",
      "46869/46869 [==============================] - 78s 2ms/step - loss: 0.0075 - val_loss: 0.0085\n",
      "Epoch 5/10\n",
      "46869/46869 [==============================] - 81s 2ms/step - loss: 0.0074 - val_loss: 0.0087\n",
      "Epoch 6/10\n",
      "46869/46869 [==============================] - 81s 2ms/step - loss: 0.0073 - val_loss: 0.0084\n",
      "Epoch 7/10\n",
      "46869/46869 [==============================] - 83s 2ms/step - loss: 0.0072 - val_loss: 0.0088\n",
      "Epoch 8/10\n",
      "46869/46869 [==============================] - 86s 2ms/step - loss: 0.0071 - val_loss: 0.0085\n",
      "Epoch 9/10\n",
      "46869/46869 [==============================] - 83s 2ms/step - loss: 0.0071 - val_loss: 0.0084\n",
      "Epoch 10/10\n",
      "46869/46869 [==============================] - 76s 2ms/step - loss: 0.0070 - val_loss: 0.0085\n"
     ]
    }
   ],
   "source": [
    "forward_model_reg.compile(optimizer='adam', loss='mean_squared_error')\n",
    "history = forward_model_reg.fit(X_train, y_train, epochs=10, batch_size=32, validation_data=(X_test, y_test))\n",
    "#history = forward_modeli.fit(X_train, y_train, epochs=10, batch_size=32, validation_data=(X_test, y_test))\n",
    "#weights = np.zeros(y_rain_train.shape[0])+1\n",
    "#a=np.nonzero(pType_train==2)\n",
    "#print(len(a[0]))\n"
   ]
  },
  {
   "cell_type": "code",
   "execution_count": 68,
   "metadata": {},
   "outputs": [
    {
     "name": "stdout",
     "output_type": "stream",
     "text": [
      "Epoch 1/5\n",
      "64787/64787 [==============================] - 130s 2ms/step - loss: 0.0976 - accuracy: 0.9704 - val_loss: 0.1122 - val_accuracy: 0.9580\n",
      "Epoch 2/5\n",
      "64787/64787 [==============================] - 150s 2ms/step - loss: 0.0965 - accuracy: 0.9705 - val_loss: 0.1168 - val_accuracy: 0.9568\n",
      "Epoch 3/5\n",
      "64787/64787 [==============================] - 132s 2ms/step - loss: 0.0954 - accuracy: 0.9708 - val_loss: 0.1170 - val_accuracy: 0.9570\n",
      "Epoch 4/5\n",
      "64787/64787 [==============================] - 132s 2ms/step - loss: 0.0949 - accuracy: 0.9710 - val_loss: 0.1203 - val_accuracy: 0.9584\n",
      "Epoch 5/5\n",
      "64787/64787 [==============================] - 133s 2ms/step - loss: 0.0955 - accuracy: 0.9709 - val_loss: 0.1150 - val_accuracy: 0.9593\n"
     ]
    }
   ],
   "source": [
    "\n",
    "weights[a]=3\n",
    "forward_model_logit.compile(optimizer='adam', loss='binary_crossentropy', metrics=['accuracy'])\n",
    "history = forward_model_logit.fit(X_train, y_rain_train, sample_weight=weights, epochs=5, batch_size=32, validation_data=(X_test, y_rain_test))"
   ]
  },
  {
   "cell_type": "code",
   "execution_count": 18,
   "metadata": {},
   "outputs": [
    {
     "name": "stdout",
     "output_type": "stream",
     "text": [
      "11718/11718 [==============================] - 6s 537us/step\n",
      "0 0.9695787743414197\n",
      "1 0.6869701228581135\n",
      "2 0.48423510045484724\n",
      "3 0.8742781675765466\n",
      "4 0.8295271169766169\n"
     ]
    }
   ],
   "source": [
    "#history = model2.fit(X_train, y_train, epochs=10, batch_size=64, validation_data=(X_test, y_test))\n",
    "#y_pred=forward_modeli.predict(X_test)\n",
    "y_pred=forward_model_reg.predict(X_test)\n",
    "#a=np.where(y_rain_test>0)\n",
    "#print(y_pred[a].mean())\n",
    "#print(len(a[0])/y_rain_test.shape[0])\n",
    "#print(y_pred.mean())\n",
    "for i in range(0,5):\n",
    "    print(i,np.corrcoef(y_pred[:,i], y_test[:,i])[0,1])\n"
   ]
  },
  {
   "cell_type": "code",
   "execution_count": 20,
   "metadata": {},
   "outputs": [],
   "source": [
    "forward_model_reg.save(\"forward_model_regr_obsTb_0_120.h5\")\n",
    "#forward_modeli.save(\"forward_model_convTb_60_120.h5\")"
   ]
  },
  {
   "cell_type": "code",
   "execution_count": 16,
   "metadata": {},
   "outputs": [
    {
     "name": "stdout",
     "output_type": "stream",
     "text": [
      "16220/16220 [==============================] - 9s 567us/step\n",
      "0 0.9544457480132158\n",
      "1 0.9701451943942454\n",
      "2 0.952660119363961\n",
      "3 0.9698053163888835\n",
      "4 0.9440678276683427\n",
      "5 0.9395266805501635\n",
      "6 0.9669406808146099\n",
      "7 0.8889461150602018\n",
      "8 0.9551732473943823\n",
      "9 0.8390881438061667\n",
      "10 0.9180953430703173\n",
      "11 0.8390881519277223\n",
      "12 0.8390881286894252\n"
     ]
    }
   ],
   "source": [
    "y_pred=forward_model.predict(X_test)\n",
    "for i in range(0,13):\n",
    "    print(i,np.corrcoef(y_pred[:,i], y_test[:,i])[0,1])"
   ]
  },
  {
   "cell_type": "code",
   "execution_count": 69,
   "metadata": {},
   "outputs": [
    {
     "name": "stderr",
     "output_type": "stream",
     "text": [
      "/Users/mgrecu/miniconda3/lib/python3.9/site-packages/keras/src/engine/training.py:3000: UserWarning: You are saving your model as an HDF5 file via `model.save()`. This file format is considered legacy. We recommend using instead the native Keras format, e.g. `model.save('my_model.keras')`.\n",
      "  saving_api.save_model(\n"
     ]
    }
   ],
   "source": [
    "#forward_modeli.save(\"forward_model_60to120_noover_10iters.h5\")\n",
    "forward_model_logit.save(\"forward_model_gmi_60to120_rain_4iters.h5\")"
   ]
  }
 ],
 "metadata": {
  "kernelspec": {
   "display_name": "base",
   "language": "python",
   "name": "python3"
  },
  "language_info": {
   "codemirror_mode": {
    "name": "ipython",
    "version": 3
   },
   "file_extension": ".py",
   "mimetype": "text/x-python",
   "name": "python",
   "nbconvert_exporter": "python",
   "pygments_lexer": "ipython3",
   "version": "3.9.13"
  }
 },
 "nbformat": 4,
 "nbformat_minor": 2
}
