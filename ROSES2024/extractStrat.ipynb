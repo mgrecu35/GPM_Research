{
 "cells": [
  {
   "cell_type": "code",
   "execution_count": 2,
   "metadata": {},
   "outputs": [
    {
     "name": "stdout",
     "output_type": "stream",
     "text": [
      "658 653\n"
     ]
    }
   ],
   "source": [
    "import glob\n",
    "\n",
    "f2BCMB=glob.glob('/Volumes/T7 Shield/SUBSETS/Subsets/2B-CS-CONUS*')\n",
    "f2BCMB=sorted(f2BCMB)\n",
    "f2ADPR=glob.glob('/Volumes/T7 Shield/SUBSETS/Subsets/2A-CS-CONUS*DPR*')\n",
    "f2ADPR=sorted(f2ADPR)\n",
    "print(len(f2BCMB),len(f2ADPR))\n",
    "import readStormData"
   ]
  },
  {
   "cell_type": "code",
   "execution_count": 10,
   "metadata": {},
   "outputs": [],
   "source": [
    "ifile=0\n",
    "import numpy as np\n",
    "bzdL=[]\n",
    "bcfL=[]\n",
    "bsfcL=[]\n",
    "zMeasL=[]\n",
    "pRateL=[]\n",
    "pTypeL=[]\n",
    "pFlagL=[]\n",
    "reliabFL=[]\n",
    "zFactorFL=[]\n",
    "PIAhybridL=[]\n",
    "dmL=[]\n",
    "\n",
    "import netCDF4 as nc\n",
    "jL=[]\n",
    "for f in f2BCMB[:300]:\n",
    "    ifile+=1\n",
    "    orb=f.split('.')[-3]\n",
    "    for f2 in f2ADPR:\n",
    "        if orb in f2:\n",
    "            break\n",
    "    if orb not in f2:\n",
    "        print('No match for ',orb)\n",
    "        continue\n",
    "    with nc.Dataset(f2) as fDPR:\n",
    "        pType=fDPR[\"FS/CSF/typePrecip\"][:]\n",
    "        pType=(pType/1e7).astype(int)\n",
    "        a=np.nonzero(pType==1)\n",
    "    zMeas,bcf,bsfc,bzd,pFlag,reliabF,pType,zFactorF,PIAhybrid,dm,pRate=readStormData.readStormDataf(f,f2)\n",
    "    for i,j in zip(a[0],a[1]):\n",
    "        if bzd[i,j]+14<bcf[i,j]:\n",
    "            continue\n",
    "        if j<12 or j>37:\n",
    "            continue\n",
    "        bzdL.append(bzd[i,j])\n",
    "        bcfL.append(bcf[i,j])\n",
    "        bsfcL.append(bsfc[i,j])\n",
    "        zMeasL.append(zMeas[i,j])\n",
    "        pRateL.append(pRate[i,j])\n",
    "        pTypeL.append(pType[i,j])\n",
    "        pFlagL.append(pFlag[i,j])\n",
    "        reliabFL.append(reliabF[i,j])\n",
    "        zFactorFL.append(zFactorF[i,j])\n",
    "        PIAhybridL.append(PIAhybrid[i,j])\n",
    "        dmL.append(dm[i,j])\n",
    "        jL.append(j)\n",
    "\n",
    "\n",
    "    #break\n",
    "            \n"
   ]
  },
  {
   "cell_type": "code",
   "execution_count": 11,
   "metadata": {},
   "outputs": [
    {
     "name": "stdout",
     "output_type": "stream",
     "text": [
      "151\n",
      "164\n",
      "[172 172]\n",
      "109675\n"
     ]
    }
   ],
   "source": [
    "print(bzdL[0])\n",
    "print(bcfL[0])\n",
    "print(bsfcL[0])\n",
    "print(len(bzdL))"
   ]
  },
  {
   "cell_type": "code",
   "execution_count": 12,
   "metadata": {},
   "outputs": [],
   "source": [
    "import xarray as xr\n",
    "bzdX=xr.DataArray(bzdL,dims=['n'])\n",
    "bcfX=xr.DataArray(bcfL,dims=['n'])\n",
    "bsfcX=xr.DataArray(bsfcL,dims=['n','n2'])\n",
    "zMeasX=xr.DataArray(zMeasL,dims=['n','nbins','nch'])\n",
    "pRateX=xr.DataArray(pRateL,dims=['n','nbins2'])\n",
    "pTypeX=xr.DataArray(pTypeL,dims=['n'])\n",
    "pFlagX=xr.DataArray(pFlagL,dims=['n'])\n",
    "reliabFX=xr.DataArray(reliabFL,dims=['n'])\n",
    "zFactorFX=xr.DataArray(zFactorFL,dims=['n','nbins','nch'])\n",
    "PIAhybridX=xr.DataArray(PIAhybridL,dims=['n','nch'])\n",
    "jLX=xr.DataArray(jL,dims=['n'])\n",
    "\n",
    "ds=xr.Dataset({'bzd':bzdX,'bcf':bcfX,'bsfc':bsfcX,'zMeas':zMeasX,'pRate':pRateX,'pType':pTypeX,'pFlag':pFlagX,'reliabF':reliabFX,'zFactorF':zFactorFX,'PIAhybrid':PIAhybridX,'j':jLX})\n",
    "complev=5\n",
    "encoding={'bzd':{'zlib':True,'complevel':complev},'bcf':{'zlib':True,'complevel':complev},'bsfc':{'zlib':True,'complevel':complev},'zMeas':{'zlib':True,'complevel':complev},'pRate':{'zlib':True,'complevel':complev},'pType':{'zlib':True,'complevel':complev},'pFlag':{'zlib':True,'complevel':complev},'reliabF':{'zlib':True,'complevel':complev},'zFactorF':{'zlib':True,'complevel':complev},'PIAhybrid':{'zlib':True,'complevel':complev},'j':{'zlib':True,'complevel':complev}}\n",
    "ds.to_netcdf('stratProfs.nc',encoding=encoding)\n"
   ]
  }
 ],
 "metadata": {
  "kernelspec": {
   "display_name": "base",
   "language": "python",
   "name": "python3"
  },
  "language_info": {
   "codemirror_mode": {
    "name": "ipython",
    "version": 3
   },
   "file_extension": ".py",
   "mimetype": "text/x-python",
   "name": "python",
   "nbconvert_exporter": "python",
   "pygments_lexer": "ipython3",
   "version": "3.9.13"
  }
 },
 "nbformat": 4,
 "nbformat_minor": 2
}
