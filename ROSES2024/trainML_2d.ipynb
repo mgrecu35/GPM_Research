{
 "cells": [
  {
   "cell_type": "code",
   "execution_count": 16,
   "metadata": {},
   "outputs": [],
   "source": [
    "#double tbSim(n, channel) ;\n",
    "#double tbObs(n, channel) ;\n",
    "#int64 pType(n) ;\n",
    "#float sfcEmiss(n, channel) ;\n",
    "#float skTemp(n) ;\n",
    "#skTemp:_FillValue = NaNf ;\n",
    "#double wvp(n) ;\n",
    "#double iwp(n) ;\n",
    "#double rwp(n) ;\n",
    "\n",
    "import numpy as np\n",
    "import netCDF4 as nc\n",
    "import matplotlib.pyplot as plt\n",
    "import matplotlib.pyplot as plt\n",
    "\n",
    "with nc.Dataset(\"/Volumes/T7 Shield/SUBSETS/output/training_dataset_land_2d_60to120.nc\") as f:\n",
    "    tbSim = f.variables[\"tbConv\"][:]\n",
    "    tbObs = f.variables[\"tbObs\"][:]\n",
    "    pType = f.variables[\"pType\"][:]\n",
    "    sfcEmiss = f.variables[\"sfcEmiss\"][:]\n",
    "    skTemp = f.variables[\"skTemp\"][:]\n",
    "    wvp = f.variables[\"wvp\"][:]\n",
    "    iwp = f.variables[\"iwp\"][:]\n",
    "    rwp = f.variables[\"rwp\"][:]\n",
    "    sfcBin= f.variables[\"sfcBin\"][:]"
   ]
  },
  {
   "cell_type": "code",
   "execution_count": 15,
   "metadata": {},
   "outputs": [
    {
     "name": "stdout",
     "output_type": "stream",
     "text": [
      "[[[1.95445507e+01 1.82425330e+01 4.44831377e+00 4.21777634e+00\n",
      "   2.53577593e+00 2.11753084e+00 2.03075470e+00 2.70416438e-05\n",
      "   2.69318164e-05]\n",
      "  [1.95527766e+01 1.82560554e+01 4.44988904e+00 4.22051063e+00\n",
      "   2.53637558e+00 2.11806063e+00 2.03180116e+00 2.70422808e-05\n",
      "   2.69378670e-05]\n",
      "  [1.95571244e+01 1.82633245e+01 4.45062132e+00 4.22182109e+00\n",
      "   2.53664474e+00 2.11828336e+00 2.03226482e+00 2.70424275e-05\n",
      "   2.69400401e-05]\n",
      "  [1.95565452e+01 1.82626496e+01 4.45027945e+00 4.22131804e+00\n",
      "   2.53649129e+00 2.11811515e+00 2.03198853e+00 2.70418851e-05\n",
      "   2.69373862e-05]\n",
      "  [1.95507229e+01 1.82535432e+01 4.44886403e+00 4.21900363e+00\n",
      "   2.53593623e+00 2.11757312e+00 2.03099810e+00 2.70411449e-05\n",
      "   2.69310049e-05]\n",
      "  [1.95402201e+01 1.82369228e+01 4.44657609e+00 4.21522143e+00\n",
      "   2.53506390e+00 2.11673546e+00 2.02944898e+00 2.70398593e-05\n",
      "   2.69218802e-05]\n",
      "  [1.95261122e+01 1.82145404e+01 4.44367304e+00 4.21041163e+00\n",
      "   2.53396742e+00 2.11569124e+00 2.02751513e+00 2.70378044e-05\n",
      "   2.69108061e-05]]\n",
      "\n",
      " [[1.95568808e+01 1.82623362e+01 4.45064668e+00 4.22173051e+00\n",
      "   2.53670761e+00 2.11834502e+00 2.03232265e+00 2.70433231e-05\n",
      "   2.69420585e-05]\n",
      "  [1.95667322e+01 1.82784618e+01 4.45256377e+00 4.22504230e+00\n",
      "   2.53743588e+00 2.11899545e+00 2.03360166e+00 2.70436226e-05\n",
      "   2.69494579e-05]\n",
      "  [1.95722998e+01 1.82876787e+01 4.45351802e+00 4.22672517e+00\n",
      "   2.53778334e+00 2.11929141e+00 2.03420563e+00 2.70435715e-05\n",
      "   2.69521866e-05]\n",
      "  [1.95720388e+01 1.82874997e+01 4.45317296e+00 4.22621260e+00\n",
      "   2.53762230e+00 2.11911382e+00 2.03390922e+00 2.70432264e-05\n",
      "   2.69490522e-05]\n",
      "  [1.95654876e+01 1.82772124e+01 4.45153096e+00 4.22351194e+00\n",
      "   2.53697434e+00 2.11848311e+00 2.03274667e+00 2.70427459e-05\n",
      "   2.69412229e-05]\n",
      "  [1.95535583e+01 1.82582966e+01 4.44890917e+00 4.21916394e+00\n",
      "   2.53597306e+00 2.11752416e+00 2.03096276e+00 2.70416839e-05\n",
      "   2.69305701e-05]\n",
      "  [1.95378148e+01 1.82332878e+01 4.44567193e+00 4.21378859e+00\n",
      "   2.53474816e+00 2.11636525e+00 2.02880688e+00 2.70397700e-05\n",
      "   2.69182425e-05]]\n",
      "\n",
      " [[1.95660000e+01 1.82769997e+01 4.45227270e+00 4.22449216e+00\n",
      "   2.53735875e+00 2.11890980e+00 2.03341486e+00 2.70443293e-05\n",
      "   2.69493308e-05]\n",
      "  [1.95772609e+01 1.82953937e+01 4.45445662e+00 4.22825652e+00\n",
      "   2.53818790e+00 2.11965503e+00 2.03487563e+00 2.70442957e-05\n",
      "   2.69578687e-05]\n",
      "  [1.95838583e+01 1.83062663e+01 4.45556833e+00 4.23020560e+00\n",
      "   2.53858995e+00 2.12000336e+00 2.03557802e+00 2.70440525e-05\n",
      "   2.69609976e-05]\n",
      "  [1.95838290e+01 1.83064514e+01 4.45520743e+00 4.22966269e+00\n",
      "   2.53841657e+00 2.11981257e+00 2.03525450e+00 2.70439139e-05\n",
      "   2.69573986e-05]\n",
      "  [1.95765835e+01 1.82950315e+01 4.45337941e+00 4.22664248e+00\n",
      "   2.53769244e+00 2.11910881e+00 2.03395036e+00 2.70437920e-05\n",
      "   2.69483569e-05]\n",
      "  [1.95633587e+01 1.82740187e+01 4.45048568e+00 4.22183155e+00\n",
      "   2.53658568e+00 2.11805135e+00 2.03197663e+00 2.70429786e-05\n",
      "   2.69363983e-05]\n",
      "  [1.95461838e+01 1.82467053e+01 4.44698291e+00 4.21600690e+00\n",
      "   2.53526224e+00 2.11680127e+00 2.02964484e+00 2.70411680e-05\n",
      "   2.69230723e-05]]\n",
      "\n",
      " [[1.95707799e+01 1.82847148e+01 4.45292512e+00 4.22561041e+00\n",
      "   2.53762257e+00 2.11912555e+00 2.03383880e+00 2.70450556e-05\n",
      "   2.69522271e-05]\n",
      "  [1.95827684e+01 1.83042838e+01 4.45519763e+00 4.22952415e+00\n",
      "   2.53848298e+00 2.11990033e+00 2.03535478e+00 2.70448733e-05\n",
      "   2.69610858e-05]\n",
      "  [1.95898376e+01 1.83159198e+01 4.45634388e+00 4.23153097e+00\n",
      "   2.53889619e+00 2.12026017e+00 2.03607590e+00 2.70446416e-05\n",
      "   2.69643229e-05]\n",
      "  [1.95898674e+01 1.83161954e+01 4.45596687e+00 4.23095827e+00\n",
      "   2.53871523e+00 2.12006258e+00 2.03573780e+00 2.70445795e-05\n",
      "   2.69605335e-05]\n",
      "  [1.95821981e+01 1.83040788e+01 4.45406107e+00 4.22780333e+00\n",
      "   2.53796146e+00 2.11933108e+00 2.03437957e+00 2.70446014e-05\n",
      "   2.69510687e-05]\n",
      "  [1.95682455e+01 1.82818787e+01 4.45105735e+00 4.22280340e+00\n",
      "   2.53681372e+00 2.11823499e+00 2.03233090e+00 2.70438688e-05\n",
      "   2.69385832e-05]\n",
      "  [1.95502696e+01 1.82532696e+01 4.44744744e+00 4.21679600e+00\n",
      "   2.53545201e+00 2.11694892e+00 2.02992967e+00 2.70420808e-05\n",
      "   2.69248688e-05]]\n",
      "\n",
      " [[1.95704849e+01 1.82842988e+01 4.45247492e+00 4.22486543e+00\n",
      "   2.53744887e+00 2.11894857e+00 2.03350915e+00 2.70455438e-05\n",
      "   2.69501440e-05]\n",
      "  [1.95822680e+01 1.83035392e+01 4.45463314e+00 4.22858269e+00\n",
      "   2.53826517e+00 2.11968107e+00 2.03494077e+00 2.70456847e-05\n",
      "   2.69584772e-05]\n",
      "  [1.95891474e+01 1.83148612e+01 4.45570385e+00 4.23045680e+00\n",
      "   2.53864981e+00 2.12001358e+00 2.03560828e+00 2.70455540e-05\n",
      "   2.69614110e-05]\n",
      "  [1.95890557e+01 1.83149343e+01 4.45531024e+00 4.22985455e+00\n",
      "   2.53846530e+00 2.11981434e+00 2.03526512e+00 2.70454300e-05\n",
      "   2.69577463e-05]\n",
      "  [1.95813798e+01 1.83027996e+01 4.45345812e+00 4.22679047e+00\n",
      "   2.53773621e+00 2.11910741e+00 2.03395307e+00 2.70452266e-05\n",
      "   2.69487264e-05]\n",
      "  [1.95674991e+01 1.82807105e+01 4.45054375e+00 4.22194195e+00\n",
      "   2.53662775e+00 2.11804770e+00 2.03197417e+00 2.70443320e-05\n",
      "   2.69368279e-05]\n",
      "  [1.95496315e+01 1.82522726e+01 4.44702673e+00 4.21609202e+00\n",
      "   2.53530288e+00 2.11679690e+00 2.02964116e+00 2.70424687e-05\n",
      "   2.69235715e-05]]\n",
      "\n",
      " [[1.95652898e+01 1.82760318e+01 4.45105100e+00 4.22247462e+00\n",
      "   2.53689733e+00 2.11843005e+00 2.03252594e+00 2.70457136e-05\n",
      "   2.69439196e-05]\n",
      "  [1.95759995e+01 1.82935431e+01 4.45293026e+00 4.22571581e+00\n",
      "   2.53760862e+00 2.11906288e+00 2.03376182e+00 2.70464188e-05\n",
      "   2.69510645e-05]\n",
      "  [1.95820691e+01 1.83035526e+01 4.45382814e+00 4.22729460e+00\n",
      "   2.53793332e+00 2.11933818e+00 2.03431712e+00 2.70465875e-05\n",
      "   2.69535541e-05]\n",
      "  [1.95817279e+01 1.83032174e+01 4.45343036e+00 4.22668544e+00\n",
      "   2.53775298e+00 2.11914547e+00 2.03398626e+00 2.70462076e-05\n",
      "   2.69502541e-05]\n",
      "  [1.95744860e+01 1.82917802e+01 4.45175087e+00 4.22391453e+00\n",
      "   2.53709404e+00 2.11850932e+00 2.03280956e+00 2.70456078e-05\n",
      "   2.69424352e-05]\n",
      "  [1.95614738e+01 1.82710854e+01 4.44909610e+00 4.21950472e+00\n",
      "   2.53608764e+00 2.11754660e+00 2.03101681e+00 2.70444110e-05\n",
      "   2.69318277e-05]\n",
      "  [1.95445756e+01 1.82442023e+01 4.44583167e+00 4.21408197e+00\n",
      "   2.53486252e+00 2.11638432e+00 2.02885542e+00 2.70423855e-05\n",
      "   2.69195959e-05]]\n",
      "\n",
      " [[1.95561164e+01 1.82613924e+01 4.44892466e+00 4.21890056e+00\n",
      "   2.53607438e+00 2.11766891e+00 2.03108219e+00 2.70452048e-05\n",
      "   2.69349485e-05]\n",
      "  [1.95652817e+01 1.82764230e+01 4.45046442e+00 4.22156575e+00\n",
      "   2.53666109e+00 2.11818466e+00 2.03208853e+00 2.70463493e-05\n",
      "   2.69408391e-05]\n",
      "  [1.95702031e+01 1.82845832e+01 4.45114875e+00 4.22278160e+00\n",
      "   2.53690967e+00 2.11839200e+00 2.03251002e+00 2.70467301e-05\n",
      "   2.69427966e-05]\n",
      "  [1.95695737e+01 1.82837803e+01 4.45076336e+00 4.22219233e+00\n",
      "   2.53674264e+00 2.11821433e+00 2.03220654e+00 2.70462328e-05\n",
      "   2.69400670e-05]\n",
      "  [1.95630334e+01 1.82734660e+01 4.44930922e+00 4.21980180e+00\n",
      "   2.53617885e+00 2.11766656e+00 2.03119949e+00 2.70453789e-05\n",
      "   2.69336231e-05]\n",
      "  [1.95513492e+01 1.82549009e+01 4.44697941e+00 4.21594178e+00\n",
      "   2.53529908e+00 2.11682068e+00 2.02963314e+00 2.70438898e-05\n",
      "   2.69244661e-05]\n",
      "  [1.95358955e+01 1.82303385e+01 4.44403121e+00 4.21105583e+00\n",
      "   2.53419287e+00 2.11576741e+00 2.02768448e+00 2.70416416e-05\n",
      "   2.69134376e-05]]\n",
      "\n",
      " [[1.95440781e+01 1.82421639e+01 4.44635600e+00 4.21458341e+00\n",
      "   2.53508469e+00 2.11676052e+00 2.02935989e+00 2.70440411e-05\n",
      "   2.69246333e-05]\n",
      "  [1.95517059e+01 1.82547257e+01 4.44759671e+00 4.21674130e+00\n",
      "   2.53555891e+00 2.11717415e+00 2.03016814e+00 2.70452669e-05\n",
      "   2.69293738e-05]\n",
      "  [1.95555338e+01 1.82611307e+01 4.44810468e+00 4.21765907e+00\n",
      "   2.53574892e+00 2.11732635e+00 2.03048296e+00 2.70457361e-05\n",
      "   2.69309528e-05]\n",
      "  [1.95546683e+01 1.82599458e+01 4.44773828e+00 4.21710180e+00\n",
      "   2.53559947e+00 2.11716400e+00 2.03020826e+00 2.70453049e-05\n",
      "   2.69287894e-05]\n",
      "  [1.95488334e+01 1.82507613e+01 4.44648036e+00 4.21504282e+00\n",
      "   2.53511683e+00 2.11669151e+00 2.02934594e+00 2.70443393e-05\n",
      "   2.69234958e-05]\n",
      "  [1.95385016e+01 1.82343672e+01 4.44445261e+00 4.21169394e+00\n",
      "   2.53435601e+00 2.11595515e+00 2.02799034e+00 2.70428048e-05\n",
      "   2.69157664e-05]\n",
      "  [1.95245954e+01 1.82122906e+01 4.44182722e+00 4.20735414e+00\n",
      "   2.53337261e+00 2.11501374e+00 2.02625856e+00 2.70404825e-05\n",
      "   2.69059618e-05]]\n",
      "\n",
      " [[1.95301401e+01 1.82198955e+01 4.44353070e+00 4.20983965e+00\n",
      "   2.53399778e+00 2.11576568e+00 2.02748126e+00 2.70420842e-05\n",
      "   2.69135383e-05]\n",
      "  [1.95364628e+01 1.82303626e+01 4.44454048e+00 4.21160668e+00\n",
      "   2.53438731e+00 2.11610314e+00 2.02814219e+00 2.70433439e-05\n",
      "   2.69175170e-05]\n",
      "  [1.95394123e+01 1.82353586e+01 4.44492073e+00 4.21230831e+00\n",
      "   2.53453598e+00 2.11621745e+00 2.02838233e+00 2.70439257e-05\n",
      "   2.69189215e-05]\n",
      "  [1.95383796e+01 1.82339059e+01 4.44456911e+00 4.21177625e+00\n",
      "   2.53439899e+00 2.11606668e+00 2.02812918e+00 2.70435434e-05\n",
      "   2.69171486e-05]\n",
      "  [1.95331470e+01 1.82256877e+01 4.44346696e+00 4.20998125e+00\n",
      "   2.53398199e+00 2.11565322e+00 2.02738044e+00 2.70426490e-05\n",
      "   2.69127939e-05]\n",
      "  [1.95239971e+01 1.82111941e+01 4.44169170e+00 4.20705981e+00\n",
      "   2.53331916e+00 2.11500665e+00 2.02619822e+00 2.70411198e-05\n",
      "   2.69061373e-05]\n",
      "  [1.95115232e+01 1.81914181e+01 4.43935577e+00 4.20320883e+00\n",
      "   2.53244753e+00 2.11416736e+00 2.02466180e+00 2.70389240e-05\n",
      "   2.68975519e-05]]]\n"
     ]
    }
   ],
   "source": [
    "print(tbSim.mean(axis=0))"
   ]
  },
  {
   "cell_type": "code",
   "execution_count": 11,
   "metadata": {},
   "outputs": [
    {
     "name": "stdout",
     "output_type": "stream",
     "text": [
      "6.388173580169678\n",
      "77.44548797607422\n"
     ]
    },
    {
     "data": {
      "image/png": "[encoded data removed]",
      "text/plain": [
       "<Figure size 640x480 with 1 Axes>"
      ]
     },
     "metadata": {},
     "output_type": "display_data"
    }
   ],
   "source": [
    "print(rwp.max())\n",
    "print(iwp.max())\n",
    "a=np.where(rwp>0)\n",
    "#h1=plt.hist(rwp[a], bins=50)\n",
    "b=np.where(iwp>0)\n",
    "#h2=plt.hist(wvp[b]*1e3, bins=np.arange(0, 25, 0.1))"
   ]
  },
  {
   "cell_type": "code",
   "execution_count": 17,
   "metadata": {},
   "outputs": [
    {
     "name": "stdout",
     "output_type": "stream",
     "text": [
      "(2595084, 9, 7, 9)\n"
     ]
    },
    {
     "data": {
      "text/html": [
       "<style>#sk-container-id-2 {color: black;background-color: white;}#sk-container-id-2 pre{padding: 0;}#sk-container-id-2 div.sk-toggleable {background-color: white;}#sk-container-id-2 label.sk-toggleable__label {cursor: pointer;display: block;width: 100%;margin-bottom: 0;padding: 0.3em;box-sizing: border-box;text-align: center;}#sk-container-id-2 label.sk-toggleable__label-arrow:before {content: \"▸\";float: left;margin-right: 0.25em;color: #696969;}#sk-container-id-2 label.sk-toggleable__label-arrow:hover:before {color: black;}#sk-container-id-2 div.sk-estimator:hover label.sk-toggleable__label-arrow:before {color: black;}#sk-container-id-2 div.sk-toggleable__content {max-height: 0;max-width: 0;overflow: hidden;text-align: left;background-color: #f0f8ff;}#sk-container-id-2 div.sk-toggleable__content pre {margin: 0.2em;color: black;border-radius: 0.25em;background-color: #f0f8ff;}#sk-container-id-2 input.sk-toggleable__control:checked~div.sk-toggleable__content {max-height: 200px;max-width: 100%;overflow: auto;}#sk-container-id-2 input.sk-toggleable__control:checked~label.sk-toggleable__label-arrow:before {content: \"▾\";}#sk-container-id-2 div.sk-estimator input.sk-toggleable__control:checked~label.sk-toggleable__label {background-color: #d4ebff;}#sk-container-id-2 div.sk-label input.sk-toggleable__control:checked~label.sk-toggleable__label {background-color: #d4ebff;}#sk-container-id-2 input.sk-hidden--visually {border: 0;clip: rect(1px 1px 1px 1px);clip: rect(1px, 1px, 1px, 1px);height: 1px;margin: -1px;overflow: hidden;padding: 0;position: absolute;width: 1px;}#sk-container-id-2 div.sk-estimator {font-family: monospace;background-color: #f0f8ff;border: 1px dotted black;border-radius: 0.25em;box-sizing: border-box;margin-bottom: 0.5em;}#sk-container-id-2 div.sk-estimator:hover {background-color: #d4ebff;}#sk-container-id-2 div.sk-parallel-item::after {content: \"\";width: 100%;border-bottom: 1px solid gray;flex-grow: 1;}#sk-container-id-2 div.sk-label:hover label.sk-toggleable__label {background-color: #d4ebff;}#sk-container-id-2 div.sk-serial::before {content: \"\";position: absolute;border-left: 1px solid gray;box-sizing: border-box;top: 0;bottom: 0;left: 50%;z-index: 0;}#sk-container-id-2 div.sk-serial {display: flex;flex-direction: column;align-items: center;background-color: white;padding-right: 0.2em;padding-left: 0.2em;position: relative;}#sk-container-id-2 div.sk-item {position: relative;z-index: 1;}#sk-container-id-2 div.sk-parallel {display: flex;align-items: stretch;justify-content: center;background-color: white;position: relative;}#sk-container-id-2 div.sk-item::before, #sk-container-id-2 div.sk-parallel-item::before {content: \"\";position: absolute;border-left: 1px solid gray;box-sizing: border-box;top: 0;bottom: 0;left: 50%;z-index: -1;}#sk-container-id-2 div.sk-parallel-item {display: flex;flex-direction: column;z-index: 1;position: relative;background-color: white;}#sk-container-id-2 div.sk-parallel-item:first-child::after {align-self: flex-end;width: 50%;}#sk-container-id-2 div.sk-parallel-item:last-child::after {align-self: flex-start;width: 50%;}#sk-container-id-2 div.sk-parallel-item:only-child::after {width: 0;}#sk-container-id-2 div.sk-dashed-wrapped {border: 1px dashed gray;margin: 0 0.4em 0.5em 0.4em;box-sizing: border-box;padding-bottom: 0.4em;background-color: white;}#sk-container-id-2 div.sk-label label {font-family: monospace;font-weight: bold;display: inline-block;line-height: 1.2em;}#sk-container-id-2 div.sk-label-container {text-align: center;}#sk-container-id-2 div.sk-container {/* jupyter's `normalize.less` sets `[hidden] { display: none; }` but bootstrap.min.css set `[hidden] { display: none !important; }` so we also need the `!important` here to be able to override the default hidden behavior on the sphinx rendered scikit-learn.org. See: https://github.com/scikit-learn/scikit-learn/issues/21755 */display: inline-block !important;position: relative;}#sk-container-id-2 div.sk-text-repr-fallback {display: none;}</style><div id=\"sk-container-id-2\" class=\"sk-top-container\"><div class=\"sk-text-repr-fallback\"><pre>StandardScaler()</pre><b>In a Jupyter environment, please rerun this cell to show the HTML representation or trust the notebook. <br />On GitHub, the HTML representation is unable to render, please try loading this page with nbviewer.org.</b></div><div class=\"sk-container\" hidden><div class=\"sk-item\"><div class=\"sk-estimator sk-toggleable\"><input class=\"sk-toggleable__control sk-hidden--visually\" id=\"sk-estimator-id-2\" type=\"checkbox\" checked><label for=\"sk-estimator-id-2\" class=\"sk-toggleable__label sk-toggleable__label-arrow\">StandardScaler</label><div class=\"sk-toggleable__content\"><pre>StandardScaler()</pre></div></div></div></div></div>"
      ],
      "text/plain": [
       "StandardScaler()"
      ]
     },
     "execution_count": 17,
     "metadata": {},
     "output_type": "execute_result"
    }
   ],
   "source": [
    "#normalize tbObs using scaler from sklearn\n",
    "from sklearn.preprocessing import StandardScaler\n",
    "scaler = StandardScaler()\n",
    "print(tbObs.shape)\n",
    "scaler.fit(tbObs[:,4,3,:])\n"
   ]
  },
  {
   "cell_type": "code",
   "execution_count": 18,
   "metadata": {},
   "outputs": [],
   "source": [
    "import pickle\n",
    "try:\n",
    "    del tbObs\n",
    "    with open(\"tbobs_60_120.scaler.pkl\", \"wb\") as f:\n",
    "        pickle.dump(scaler, f)\n",
    "except:\n",
    "    print(\"tbObs already deleted\")\n",
    "tbSim_scaled = tbSim[:,:,:,:9].copy()\n",
    "for i in range(9):\n",
    "    tbSim_scaled[:,:,:,i] = (tbSim_scaled[:,:,:,i] - scaler.mean_[i])/scaler.scale_[i]\n"
   ]
  },
  {
   "cell_type": "code",
   "execution_count": 19,
   "metadata": {},
   "outputs": [],
   "source": [
    "gVars=np.concatenate((sfcEmiss[:,:13], (skTemp-273.15)[:,np.newaxis]/1.5, np.log(1+wvp*1e3/10)[:,np.newaxis], np.log(1+iwp/10)[:,np.newaxis], np.log(1+rwp/10)[:,np.newaxis]), axis=1)\n",
    "#with nc.Dataset(\"training_dataset_land_2d.nc\") as f:\n",
    "#    sfcBin=f.variables[\"sfcBin\"][:]\n",
    "try:\n",
    "    sfcBin_scaled=(88-sfcBin)/30\n",
    "    del sfcBin\n",
    "except:\n",
    "    print(\"sfcBin already deleted\")\n",
    "\n",
    "x_forward=np.concatenate((tbSim_scaled, sfcBin_scaled[:,:,:,np.newaxis]), axis=3)\n",
    "#print(sfcBin.max(), sfcBin.min(), sfcBin.shape)"
   ]
  },
  {
   "cell_type": "code",
   "execution_count": 20,
   "metadata": {},
   "outputs": [
    {
     "name": "stdout",
     "output_type": "stream",
     "text": [
      "Model: \"sequential_2\"\n",
      "_________________________________________________________________\n",
      " Layer (type)                Output Shape              Param #   \n",
      "=================================================================\n",
      " conv2d_4 (Conv2D)           (None, 7, 5, 32)          2912      \n",
      "                                                                 \n",
      " max_pooling2d_4 (MaxPoolin  (None, 3, 2, 32)          0         \n",
      " g2D)                                                            \n",
      "                                                                 \n",
      " conv2d_5 (Conv2D)           (None, 3, 2, 64)          18496     \n",
      "                                                                 \n",
      " max_pooling2d_5 (MaxPoolin  (None, 1, 1, 64)          0         \n",
      " g2D)                                                            \n",
      "                                                                 \n",
      " flatten_2 (Flatten)         (None, 64)                0         \n",
      "                                                                 \n",
      " dense_4 (Dense)             (None, 64)                4160      \n",
      "                                                                 \n",
      " dense_5 (Dense)             (None, 17)                1105      \n",
      "                                                                 \n",
      "=================================================================\n",
      "Total params: 26673 (104.19 KB)\n",
      "Trainable params: 26673 (104.19 KB)\n",
      "Non-trainable params: 0 (0.00 Byte)\n",
      "_________________________________________________________________\n",
      "None\n"
     ]
    }
   ],
   "source": [
    "# define convolutional neural network to predict gvars from x_forward\n",
    "\n",
    "import tensorflow as tf\n",
    "from tensorflow import keras\n",
    "from tensorflow.keras import layers\n",
    "\n",
    "def cnn_model(nout):\n",
    "    model = keras.Sequential()\n",
    "    model.add(layers.Conv2D(32, (3, 3), activation='relu', input_shape=(9, 7, 10)))\n",
    "    model.add(layers.MaxPooling2D((2, 2)))\n",
    "    model.add(layers.Conv2D(64, (3, 3), padding='same',activation='relu'))\n",
    "    model.add(layers.MaxPooling2D((2, 2)))\n",
    "    #model.add(layers.Conv2D(64, (3, 3), activation='relu'))\n",
    "    model.add(layers.Flatten())\n",
    "    model.add(layers.Dense(64, activation='relu'))\n",
    "    model.add(layers.Dense(nout))\n",
    "    return model\n",
    "\n",
    "def cnn_model_logit(nout):\n",
    "    model = keras.Sequential()\n",
    "    model.add(layers.Conv2D(32, (3, 3), activation='relu', input_shape=(9, 7, 10)))\n",
    "    model.add(layers.MaxPooling2D((2, 2)))\n",
    "    model.add(layers.Conv2D(64, (3, 3), padding='same',activation='relu'))\n",
    "    model.add(layers.MaxPooling2D((2, 2)))\n",
    "    #model.add(layers.Conv2D(64, (3, 3), activation='relu'))\n",
    "    model.add(layers.Flatten())\n",
    "    model.add(layers.Dense(64, activation='relu'))\n",
    "    model.add(layers.Dense(nout), activation='softmax')\n",
    "    return model\n",
    "\n",
    "forward_model_logit=cnn_model_logit(1)\n",
    "#forward_modeli=cnn_model(gVars.shape[1])\n",
    "\n",
    "#print(forward_modeli.summary())"
   ]
  },
  {
   "cell_type": "code",
   "execution_count": 21,
   "metadata": {},
   "outputs": [],
   "source": [
    "from sklearn.model_selection import train_test_split\n",
    "#X_train, X_test, y_train, y_test = train_test_split(x_forward, gVars, test_size=0.2, random_state=42)\n",
    "# split the data into training and testing, with first 80% as training and last 20% as testing\n",
    "X_train=x_forward[:int(0.8*x_forward.shape[0])]\n",
    "X_test=x_forward[int(0.8*x_forward.shape[0]):]\n",
    "y_train=gVars[:int(0.8*gVars.shape[0])]\n",
    "y_test=gVars[int(0.8*gVars.shape[0]):]\n"
   ]
  },
  {
   "cell_type": "code",
   "execution_count": 22,
   "metadata": {},
   "outputs": [
    {
     "name": "stdout",
     "output_type": "stream",
     "text": [
      "Epoch 1/10\n",
      "64878/64878 [==============================] - 138s 2ms/step - loss: 0.1550 - val_loss: 0.1222\n",
      "Epoch 2/10\n",
      "64878/64878 [==============================] - 129s 2ms/step - loss: 0.0982 - val_loss: 0.1598\n",
      "Epoch 3/10\n",
      "64878/64878 [==============================] - 130s 2ms/step - loss: 0.0840 - val_loss: 0.1080\n",
      "Epoch 4/10\n",
      "64878/64878 [==============================] - 133s 2ms/step - loss: 0.0759 - val_loss: 0.1022\n",
      "Epoch 5/10\n",
      "64878/64878 [==============================] - 129s 2ms/step - loss: 0.0708 - val_loss: 0.0943\n",
      "Epoch 6/10\n",
      "64878/64878 [==============================] - 129s 2ms/step - loss: 0.0672 - val_loss: 0.1073\n",
      "Epoch 7/10\n",
      "64878/64878 [==============================] - 132s 2ms/step - loss: 0.0645 - val_loss: 0.1080\n",
      "Epoch 8/10\n",
      "64878/64878 [==============================] - 134s 2ms/step - loss: 0.0623 - val_loss: 0.0948\n",
      "Epoch 9/10\n",
      "64878/64878 [==============================] - 138s 2ms/step - loss: 0.0603 - val_loss: 0.0947\n",
      "Epoch 10/10\n",
      "64878/64878 [==============================] - 136s 2ms/step - loss: 0.0588 - val_loss: 0.0929\n"
     ]
    }
   ],
   "source": [
    "forward_modeli.compile(optimizer='adam', loss='mean_squared_error')\n",
    "history = forward_modeli.fit(X_train, y_train, epochs=10, batch_size=32, validation_data=(X_test, y_test))\n"
   ]
  },
  {
   "cell_type": "code",
   "execution_count": 24,
   "metadata": {},
   "outputs": [
    {
     "name": "stdout",
     "output_type": "stream",
     "text": [
      "0 0.93928830490602\n",
      "1 0.9470599484735266\n",
      "2 0.9393543985943081\n",
      "3 0.9513124492369966\n",
      "4 0.9253004510613526\n",
      "5 0.919695026231205\n",
      "6 0.9516234707966688\n",
      "7 0.8665356922687809\n",
      "8 0.9264607338605849\n",
      "9 0.7953204429569991\n",
      "10 0.8908369526613121\n",
      "11 0.7953215122137324\n",
      "12 0.7953215230508398\n"
     ]
    },
    {
     "name": "stderr",
     "output_type": "stream",
     "text": [
      "/Users/mgrecu/miniconda3/lib/python3.9/site-packages/keras/src/engine/training.py:3000: UserWarning: You are saving your model as an HDF5 file via `model.save()`. This file format is considered legacy. We recommend using instead the native Keras format, e.g. `model.save('my_model.keras')`.\n",
      "  saving_api.save_model(\n"
     ]
    }
   ],
   "source": [
    "#history = model2.fit(X_train, y_train, epochs=10, batch_size=64, validation_data=(X_test, y_test))\n",
    "#y_pred=forward_modeli.predict(X_test)\n",
    "for i in range(0,13):\n",
    "    print(i,np.corrcoef(y_pred[:,i], y_test[:,i])[0,1])\n",
    "forward_modeli.save(\"forward_model_convTb_60_120.h5\")"
   ]
  },
  {
   "cell_type": "code",
   "execution_count": 16,
   "metadata": {},
   "outputs": [
    {
     "name": "stdout",
     "output_type": "stream",
     "text": [
      "16220/16220 [==============================] - 9s 567us/step\n",
      "0 0.9544457480132158\n",
      "1 0.9701451943942454\n",
      "2 0.952660119363961\n",
      "3 0.9698053163888835\n",
      "4 0.9440678276683427\n",
      "5 0.9395266805501635\n",
      "6 0.9669406808146099\n",
      "7 0.8889461150602018\n",
      "8 0.9551732473943823\n",
      "9 0.8390881438061667\n",
      "10 0.9180953430703173\n",
      "11 0.8390881519277223\n",
      "12 0.8390881286894252\n"
     ]
    }
   ],
   "source": [
    "y_pred=forward_model.predict(X_test)\n",
    "for i in range(0,13):\n",
    "    print(i,np.corrcoef(y_pred[:,i], y_test[:,i])[0,1])"
   ]
  },
  {
   "cell_type": "code",
   "execution_count": 18,
   "metadata": {},
   "outputs": [],
   "source": [
    "forward_modeli.save(\"forward_model_60to120_noover_10iters.h5\")"
   ]
  }
 ],
 "metadata": {
  "kernelspec": {
   "display_name": "base",
   "language": "python",
   "name": "python3"
  },
  "language_info": {
   "codemirror_mode": {
    "name": "ipython",
    "version": 3
   },
   "file_extension": ".py",
   "mimetype": "text/x-python",
   "name": "python",
   "nbconvert_exporter": "python",
   "pygments_lexer": "ipython3",
   "version": "3.9.13"
  }
 },
 "nbformat": 4,
 "nbformat_minor": 2
}
