{
 "cells": [
  {
   "cell_type": "code",
   "execution_count": 88,
   "metadata": {},
   "outputs": [],
   "source": [
    "from netCDF4 import Dataset\n",
    "#ds=xr.Dataset({'zMeas':zMeasX,'bcf':bcfX,'bsfc':bsfcX,'bzd':bzdX,'pFlag':pFlagX,'bbFlag':bbFlagX,'dm':dmX,'pRate':pRateX,'zeroDegAlt':zeroDegAltX})\n",
    "#compres={'zlib':True,'complevel':5}\n",
    "#encoding={'zMeas':compres,'bcf':compres,'bsfc':compres,'bzd':compres,'pFlag':compres,'bbFlag':compres,'dm':compres,'pRate':compres,'zeroDegAlt':compres}\n",
    "\n",
    "#ds.to_netcdf('dpr_cmb.nc',encoding=encoding)\n",
    "\n",
    "with Dataset('dpr_cmb_all.nc') as f:\n",
    "    zMeas=f['zMeas'][:]\n",
    "    bcf=f['bcf'][:]\n",
    "    bsfc=f['bsfc'][:]\n",
    "    bzd=f['bzd'][:]\n",
    "    pFlag=f['pFlag'][:]\n",
    "    bbFlag=f['bbFlag'][:]\n",
    "    dm=f['dm'][:]\n",
    "    pRate=f['pRate'][:]\n",
    "    pType=f['pType'][:]\n",
    "    nearSfcPrecip=f['nearSfcPrecip'][:]\n",
    "    PIAhybrid=f['PIAhybrid'][:]\n"
   ]
  },
  {
   "cell_type": "code",
   "execution_count": 89,
   "metadata": {},
   "outputs": [],
   "source": [
    "import numpy as np\n",
    "nt=zMeas.shape[0]\n",
    "for i in range(nt):\n",
    "    for j in range(4):\n",
    "        zMeas[i,j,bcf[i,j]:,0]=0\n",
    "        zMeas[i,j,bcf[i,j]:,1]=0\n"
   ]
  },
  {
   "cell_type": "code",
   "execution_count": 90,
   "metadata": {},
   "outputs": [],
   "source": [
    "zMeas[zMeas<0]=0\n",
    "zMeas2=np.log10(0.5*10**(0.1*zMeas[:,:,::2,:])+0.5*10**(0.1*zMeas[:,:,1::2,:]))*10"
   ]
  },
  {
   "cell_type": "code",
   "execution_count": 91,
   "metadata": {},
   "outputs": [],
   "source": [
    "zMeas2[zMeas2<0]=0\n",
    "zMean=np.mean(zMeas2,axis=(0,1))\n",
    "zStd=np.std(zMeas2,axis=(0,1))\n"
   ]
  },
  {
   "cell_type": "code",
   "execution_count": 92,
   "metadata": {},
   "outputs": [],
   "source": [
    "PIAhybrid[PIAhybrid<0]=0"
   ]
  },
  {
   "cell_type": "code",
   "execution_count": 6,
   "metadata": {},
   "outputs": [],
   "source": [
    "from sklearn.model_selection import train_test_split\n"
   ]
  },
  {
   "cell_type": "code",
   "execution_count": 7,
   "metadata": {},
   "outputs": [],
   "source": [
    "\n",
    "import torch\n",
    "import torch.nn as nn\n",
    "import torch.nn.functional as F\n",
    "\n",
    "class projNet(nn.Module):\n",
    "    def __init__(self, nin, nout, nh):\n",
    "        super(projNet, self).__init__()\n",
    "        self.nin=nin\n",
    "        self.nout=nout\n",
    "        self.nh=nh\n",
    "        self.fc1 = nn.Linear(nin, nh)\n",
    "        self.fc2 = nn.Linear(nh, nh)\n",
    "        self.fc3 = nn.Linear(nh, nout)\n",
    "    def forward(self, x):\n",
    "        x = F.relu(self.fc1(x))\n",
    "        x = F.relu(self.fc2(x))\n",
    "        x = self.fc3(x)\n",
    "        return x\n"
   ]
  },
  {
   "cell_type": "code",
   "execution_count": 9,
   "metadata": {},
   "outputs": [],
   "source": [
    "import torch\n",
    "import torch.nn as nn\n",
    "import torch.optim as optim\n",
    "from torch.utils.data import DataLoader, TensorDataset\n",
    "from torch.autograd import Variable\n",
    "# define lstm model in pytorch\n",
    "# input consists of nbin x 2 variables\n",
    "# output consists of nbin x 2 variables\n",
    "# hidden state consists of nbin x 16 variables\n",
    "# hidden state is updated at each time step\n",
    "class bayesian_lstm(nn.Module):\n",
    "    def __init__(self, nin, nout, nh1, nh):\n",
    "        super(bayesian_lstm, self).__init__()\n",
    "        self.nin=nin\n",
    "        self.nout=nout\n",
    "        self.nh=nh\n",
    "        self.nh1=nh1\n",
    "        self.lstm = nn.LSTM(nin, 2*nh1,  batch_first=True)\n",
    "        self.lstm2= nn.LSTM(nh1, nh, batch_first=True)\n",
    "        self.fc = nn.Linear(nh, nout)\n",
    "    \n",
    "    def reparametrize(self, mu, logvar):\n",
    "        std = torch.exp(0.5 * logvar)\n",
    "        eps = torch.randn_like(std)\n",
    "        return mu + eps * std\n",
    "\n",
    "    def forward(self, x):\n",
    "        h01 = torch.zeros(1, x.size(0), 2*self.nh1).to('cpu')\n",
    "        c01 = torch.zeros(1, x.size(0), 2*self.nh1).to('cpu')\n",
    "\n",
    "        h02 = torch.zeros(1, x.size(0), self.nh).to('cpu')\n",
    "        c02 = torch.zeros(1, x.size(0), self.nh).to('cpu')\n",
    "        #print(x.shape)\n",
    "        #print(h0.shape)\n",
    "        out, _ = self.lstm(x, (h01, c01))\n",
    "        mu1, logvar1 = torch.split(out, out.size(2) // 2, dim=2)\n",
    "        z1 = self.reparametrize(mu1, logvar1)\n",
    "        out, _ = self.lstm2(z1, (h02, c02))\n",
    "        out = self.fc(out)\n",
    "        return out, mu1, logvar1\n",
    "    \n"
   ]
  },
  {
   "cell_type": "code",
   "execution_count": 10,
   "metadata": {},
   "outputs": [],
   "source": [
    "# import functional F\n",
    "import torch.nn.functional as F\n",
    "\n",
    "def kl_divergence(mu1, logvar1, mu2, logvar2):\n",
    "  # KL divergence between two normal distributions\n",
    "  # mu1, logvar1: first distribution parameters\n",
    "  # mu2, logvar2: second distribution parameters\n",
    "  epsilon = 1e-10\n",
    "  return 0.5 * (logvar2 - logvar1 - 1 + torch.exp(logvar1 - logvar2) + ((mu1 - mu2) ** 2) / torch.exp(logvar2) + epsilon)\n",
    "\n",
    "class BayesLSTMLoss(nn.Module):\n",
    "  def __init__(self, lambda_ = 1.0):\n",
    "    super(BayesLSTMLoss, self).__init__()\n",
    "    self.lambda_ = lambda_  \n",
    "  def forward(self, pred_y, pred_mu, pred_logvar, target):\n",
    "    # Reconstruction loss (e.g., MSE)\n",
    "    recon_loss = F.mse_loss(pred_y, target)\n",
    "    #print(recon_loss.shape)\n",
    "    # KL divergence loss\n",
    "    kl_loss = kl_divergence(pred_mu, pred_logvar, torch.zeros_like(pred_mu), torch.zeros_like(pred_logvar))\n",
    "    # Combine losses (weighted sum)\n",
    "    #print(kl_loss.shape)\n",
    "    return recon_loss + kl_loss.mean() * self.lambda_  # Adjust weight factor (lambda) as needed\n",
    "  \n",
    "criterion=BayesLSTMLoss()\n"
   ]
  },
  {
   "cell_type": "code",
   "execution_count": 86,
   "metadata": {},
   "outputs": [
    {
     "name": "stdout",
     "output_type": "stream",
     "text": [
      "5,442 total parameters.\n"
     ]
    }
   ],
   "source": [
    "#print(lstm_model.parameters)\n",
    "#total_params = sum(p.numel() for p in bayesian_lstm_model.parameters())\n",
    "#print(f'{total_params:,} total parameters.')"
   ]
  },
  {
   "cell_type": "code",
   "execution_count": 93,
   "metadata": {},
   "outputs": [
    {
     "name": "stdout",
     "output_type": "stream",
     "text": [
      "[0 0 1 1]\n"
     ]
    }
   ],
   "source": [
    "print(pType[0,:])"
   ]
  },
  {
   "cell_type": "code",
   "execution_count": 95,
   "metadata": {},
   "outputs": [
    {
     "name": "stdout",
     "output_type": "stream",
     "text": [
      "339696\n"
     ]
    }
   ],
   "source": [
    "dn=3\n",
    "a=np.nonzero(nearSfcPrecip[:,dn]>0.1)\n",
    "print(len(a[0]))\n",
    "\n",
    "xL=[]\n",
    "yL=[]\n",
    "x1L=[]\n",
    "\n",
    "for i in a[0]:\n",
    "    n1=int(bcf[i,dn]/2)\n",
    "    nbzd=int(bzd[i,dn]/2)\n",
    "    z1=zMeas2[i,dn,n1-64:n1,0]\n",
    "    z2=zMeas2[i,dn,n1-64:n1,1]\n",
    "    pRate1=pRate[i,dn,n1-64:n1]\n",
    "    dm1=dm[i,dn,n1-64:n1]\n",
    "    h1=np.arange(n1-64,n1)\n",
    "    h1-=nbzd\n",
    "    xL.append([z1,z2,h1,dm1])   \n",
    "    yL.append([pRate1])\n",
    "\n",
    "    xbb=bbFlag[i,dn]\n",
    "    xbzd=(bzd[i,dn]-144)/5.\n",
    "    xsfc=(bsfc[i,dn,0]-173)/5.\n",
    "    xpia=(PIAhybrid[i,dn,0]-0.3)/0.7\n",
    "    xbcf=(176-bcf[i,dn])/10.\n",
    "    xprflag=(pFlag[i,dn]-5)/5\n",
    "    xtype=pType[i,dn]\n",
    "    x1L.append([xbb,xbzd,xsfc,xpia,xbcf,xprflag,xtype/3.0])\n",
    "    #break\n",
    "\n",
    "xL=np.array(xL)\n",
    "yL=np.array(yL)\n"
   ]
  },
  {
   "cell_type": "code",
   "execution_count": 96,
   "metadata": {},
   "outputs": [
    {
     "name": "stdout",
     "output_type": "stream",
     "text": [
      "(339696, 7)\n"
     ]
    }
   ],
   "source": [
    "x1L=np.array(x1L)\n",
    "print(x1L.shape)"
   ]
  },
  {
   "cell_type": "code",
   "execution_count": 97,
   "metadata": {},
   "outputs": [
    {
     "name": "stdout",
     "output_type": "stream",
     "text": [
      "(339696, 64, 1)\n"
     ]
    }
   ],
   "source": [
    "xm=xL.mean(axis=0)\n",
    "xs=xL.std(axis=0)\n",
    "ym=yL.mean(axis=0)\n",
    "ys=yL.std(axis=0)\n",
    "xLs=(xL.copy()).swapaxes(1,2)\n",
    "yLs=(yL.copy()).swapaxes(1,2)\n",
    "for i in range(1):\n",
    "    xLs[:,:,i]=(xLs[:,:,i])/20.\n",
    "for i in range(1,3):\n",
    "    xLs[:,:,i]=(xLs[:,:,i])/10.\n",
    "\n",
    "xLs[:,:,3]=(xLs[:,:,3])/4\n",
    "\n",
    "print(yLs.shape)\n",
    "yLs[:,:,0]=yLs[:,:,0]/10\n"
   ]
  },
  {
   "cell_type": "code",
   "execution_count": 98,
   "metadata": {},
   "outputs": [
    {
     "name": "stdout",
     "output_type": "stream",
     "text": [
      "(339696, 4, 64)\n"
     ]
    }
   ],
   "source": [
    "# Define custom dataset\n",
    "from torch.utils.data import Dataset, DataLoader\n",
    "from sklearn.model_selection import train_test_split\n",
    "print(xL.shape)\n",
    "#swap axes to get the right shape\n",
    "x_train, x_test, y_train, y_test, x1_train, x1_test = train_test_split(xLs, yLs, x1L, test_size=0.1, random_state=42)\n",
    "class CustomDataset(Dataset):\n",
    "    def __init__(self, x_train, x1_train, y_train, transform=None):\n",
    "        self.x_train = torch.tensor(x_train, dtype=torch.float32, device='cpu')\n",
    "        self.y_train = torch.tensor(y_train, dtype=torch.float32, device='cpu')\n",
    "        self.x1_train = torch.tensor(x1_train, dtype=torch.float32, device='cpu')\n",
    "        self.transform = transform\n",
    "\n",
    "    def __len__(self):\n",
    "        return len(self.x_train)\n",
    "\n",
    "    def __getitem__(self, idx):\n",
    "        sample = self.x_train[idx], self.x1_train[idx],self.y_train[idx]\n",
    "        if self.transform:\n",
    "            sample = self.transform(sample)\n",
    "        return sample\n",
    "    \n",
    "dataSet=CustomDataset(x_train, x1_train, y_train)\n",
    "batch_size = 64\n",
    "shuffle = True\n",
    "train_loader = DataLoader(dataSet, batch_size=batch_size, shuffle=shuffle)"
   ]
  },
  {
   "cell_type": "code",
   "execution_count": 99,
   "metadata": {},
   "outputs": [
    {
     "name": "stdout",
     "output_type": "stream",
     "text": [
      "(305726, 64, 4)\n",
      "(305726, 64, 1)\n"
     ]
    }
   ],
   "source": [
    "print(x_train.shape)\n",
    "print(y_train.shape)"
   ]
  },
  {
   "cell_type": "code",
   "execution_count": 101,
   "metadata": {},
   "outputs": [
    {
     "name": "stdout",
     "output_type": "stream",
     "text": [
      "Epoch 1, Iteration 600, Loss: 0.4781\n",
      "Epoch 1, Iteration 1200, Loss: 0.3093\n",
      "Epoch 1, Iteration 1800, Loss: 0.2471\n",
      "Epoch 1, Iteration 2400, Loss: 0.2498\n",
      "Epoch 1, Iteration 3000, Loss: 0.2553\n",
      "Epoch 1, Iteration 3600, Loss: 0.2450\n",
      "Epoch 1, Iteration 4200, Loss: 0.2215\n",
      "Epoch 2, Iteration 600, Loss: 0.2174\n",
      "Epoch 2, Iteration 1200, Loss: 0.2269\n",
      "Epoch 2, Iteration 1800, Loss: 0.2171\n",
      "Epoch 2, Iteration 2400, Loss: 0.2177\n",
      "Epoch 2, Iteration 3000, Loss: 0.2030\n",
      "Epoch 2, Iteration 3600, Loss: 0.2229\n",
      "Epoch 2, Iteration 4200, Loss: 0.1955\n"
     ]
    }
   ],
   "source": [
    "#define optimizer and loss function\n",
    "import torch.optim as optim\n",
    "import torch.nn as nn\n",
    "\n",
    "criterion = BayesLSTMLoss(lambda_=5)\n",
    "#lstm_model=lstm(3,1,16)\n",
    "lstm_model=bayesian_lstm(5,1,16,32)\n",
    "projOperator=projNet(7,2*64,32)\n",
    "parameters=list(lstm_model.parameters())+list(projOperator.parameters())\n",
    "optimizer = optim.Adam(parameters, lr=0.001)\n",
    "\n",
    "# Train the model\n",
    "num_epochs = 10\n",
    "for epoch in range(num_epochs):\n",
    "    running_loss = 0.0\n",
    "    for i, data in enumerate(train_loader, 0):\n",
    "        inputs, x1_input, outputs = data\n",
    "        #print(inputs.shape)\n",
    "        #print(outputs.shape)\n",
    "        #break\n",
    "        optimizer.zero_grad()\n",
    "        yout_1=projOperator(x1_input.view(-1,7))\n",
    "        yout_2=yout_1.view(-1,64,2)\n",
    "        x_inputs=torch.cat((inputs[:,:,0:3],yout_2),dim=2)\n",
    "        outputs_p, pred_mu, pred_log = lstm_model(x_inputs[:,:,0:5])\n",
    "        loss = criterion(outputs_p, pred_mu, pred_log, outputs)\n",
    "        loss.backward()\n",
    "        optimizer.step()\n",
    "        running_loss += loss.item()\n",
    "        if i % 600 == 599:    # print every 600 mini-batches\n",
    "            #print(f'Epoch {epoch+1}, Iteration {i+1}, Loss: {running_loss/i:.4f}')\n",
    "            print(f'Epoch {epoch+1}, Iteration {i+1}, Loss: {running_loss/150:.4f}')\n",
    "            running_loss = 0.0"
   ]
  },
  {
   "cell_type": "code",
   "execution_count": 33,
   "metadata": {},
   "outputs": [],
   "source": [
    "yout=lstm_model(x_inputs[:,:,:])"
   ]
  },
  {
   "cell_type": "code",
   "execution_count": 83,
   "metadata": {},
   "outputs": [],
   "source": [
    "\n",
    "yout_1=projOperator(torch.tensor(x1_test, dtype=torch.float32, device='cpu').view(-1,7))\n",
    "yout_2=yout_1.view(-1,64,2)\n",
    "x_inputs=torch.cat((torch.tensor(x_test[:,:,0:3],dtype=torch.float32),yout_2),dim=2)\n"
   ]
  },
  {
   "cell_type": "code",
   "execution_count": 84,
   "metadata": {},
   "outputs": [
    {
     "name": "stdout",
     "output_type": "stream",
     "text": [
      "0.22046176 0.21248037\n"
     ]
    }
   ],
   "source": [
    "y_pL=[]\n",
    "for i in range(4):\n",
    "    y_p,mu,logvar=lstm_model(x_inputs)#torch.tensor(x_test[:,:,:3], dtype=torch.float32, device='cpu'))\n",
    "    y_pL.append(y_p.detach().numpy())\n",
    "#print(y.shape)\n",
    "print(np.mean(y_p.detach().numpy()),np.mean(y_test))"
   ]
  },
  {
   "cell_type": "code",
   "execution_count": 85,
   "metadata": {},
   "outputs": [
    {
     "name": "stdout",
     "output_type": "stream",
     "text": [
      "(95,)\n",
      "(40, 6811, 64, 1)\n"
     ]
    },
    {
     "data": {
      "image/png": "[encoded data removed]",
      "text/plain": [
       "<Figure size 640x480 with 1 Axes>"
      ]
     },
     "metadata": {},
     "output_type": "display_data"
    }
   ],
   "source": [
    "import matplotlib.pyplot as plt\n",
    "y_pL=np.array(y_pL)\n",
    "a=np.nonzero(y_pL[0,:,-1,0]>3)\n",
    "ystd=y_pL[:,a[0],-1,0].std(axis=(0))\n",
    "print(ystd.shape)\n",
    "print(y_pL.shape)\n",
    "h1=plt.hist(ystd)"
   ]
  },
  {
   "cell_type": "code",
   "execution_count": 86,
   "metadata": {},
   "outputs": [
    {
     "name": "stdout",
     "output_type": "stream",
     "text": [
      "11,425 total parameters.\n",
      "5,504 total parameters.\n",
      "(68108, 6)\n"
     ]
    }
   ],
   "source": [
    "\n",
    "total_params1 = sum(p.numel() for p in lstm_model.parameters())\n",
    "print(f'{total_params1:,} total parameters.')\n",
    "total_params2 = sum(p.numel() for p in projOperator.parameters())\n",
    "print(f'{total_params2:,} total parameters.')\n",
    "print(x1L.shape)"
   ]
  },
  {
   "cell_type": "code",
   "execution_count": 87,
   "metadata": {},
   "outputs": [
    {
     "name": "stdout",
     "output_type": "stream",
     "text": [
      "[[1.         0.72379267]\n",
      " [0.72379267 1.        ]]\n",
      "[[1.         0.85163715]\n",
      " [0.85163715 1.        ]]\n"
     ]
    },
    {
     "data": {
      "image/png": "[encoded data removed]",
      "text/plain": [
       "<Figure size 640x480 with 1 Axes>"
      ]
     },
     "metadata": {},
     "output_type": "display_data"
    }
   ],
   "source": [
    "y_p=y_pL[0]\n",
    "y_p=np.array(y_pL).mean(axis=0)\n",
    "print(np.corrcoef(y_test[:,-1,0],y_p[:,-1,0]))\n",
    "print(np.corrcoef(y_pL[1][:,-1,0],y_pL[0][:,-1,0]))\n",
    "#print(np.corrcoef(y_test[:,-1,1],y_p[:,-1,1]))\n",
    "ax=plt.subplot(111)\n",
    "plt.scatter(y_test[:,-1,0],y_p[:,-1,0],s=1)\n",
    "plt.xlim(0.1,10)\n",
    "plt.ylim(0.1,10)\n",
    "plt.xscale('log')\n",
    "plt.yscale('log')\n",
    "ax.set_aspect('equal')"
   ]
  }
 ],
 "metadata": {
  "kernelspec": {
   "display_name": "base",
   "language": "python",
   "name": "python3"
  },
  "language_info": {
   "codemirror_mode": {
    "name": "ipython",
    "version": 3
   },
   "file_extension": ".py",
   "mimetype": "text/x-python",
   "name": "python",
   "nbconvert_exporter": "python",
   "pygments_lexer": "ipython3",
   "version": "3.9.13"
  }
 },
 "nbformat": 4,
 "nbformat_minor": 2
}
