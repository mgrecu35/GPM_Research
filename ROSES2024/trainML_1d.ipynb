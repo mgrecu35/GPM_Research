{
 "cells": [
  {
   "cell_type": "code",
   "execution_count": 11,
   "metadata": {},
   "outputs": [],
   "source": [
    "#double tbSim(n, channel) ;\n",
    "#double tbObs(n, channel) ;\n",
    "#int64 pType(n) ;\n",
    "#float sfcEmiss(n, channel) ;\n",
    "#float skTemp(n) ;\n",
    "#skTemp:_FillValue = NaNf ;\n",
    "#double wvp(n) ;\n",
    "#double iwp(n) ;\n",
    "#double rwp(n) ;\n",
    "\n",
    "import numpy as np\n",
    "import netCDF4 as nc\n",
    "import matplotlib.pyplot as plt\n",
    "import matplotlib.pyplot as plt\n",
    "\n",
    "\n",
    "with nc.Dataset(\"/Volumes/T7 Shield/SUBSETS/output/training_dataset_land_2d_0to120step2.nc\") as f:\n",
    "    tbSim = f.variables[\"tbConv\"][:,4,3,:]\n",
    "    tbObs = f.variables[\"tbObs\"][:,4,3,:]\n",
    "    pType = f.variables[\"pType\"][:]\n",
    "    sfcEmiss = f.variables[\"sfcEmiss\"][:]\n",
    "    skTemp = f.variables[\"skTemp\"][:,4,3]\n",
    "    wvp = f.variables[\"wvp\"][:]\n",
    "    iwp = f.variables[\"iwp\"][:]\n",
    "    rwp = f.variables[\"rwp\"][:]\n",
    "    sfcBin= f.variables[\"sfcBin\"][:,4,3]\n",
    "    stormTop= f.variables[\"stormTop\"][:]\n",
    "    zeroDeg= f.variables[\"zeroDeg\"][:,4,3]\n",
    "    sfcPrecip= f.variables[\"sfcPrecip\"][:]\n",
    "    \n",
    "    "
   ]
  },
  {
   "cell_type": "code",
   "execution_count": 47,
   "metadata": {},
   "outputs": [
    {
     "name": "stdout",
     "output_type": "stream",
     "text": [
      "(1874740,)\n",
      "(1874740,)\n",
      "(1874740,)\n",
      "1867874\n"
     ]
    }
   ],
   "source": [
    "print(zeroDeg.shape)\n",
    "print(stormTop.shape)\n",
    "print(sfcPrecip.shape)\n",
    "tbm=tbSim.mean(axis=0)\n",
    "tbstd=tbSim.std(axis=0)\n",
    "tb_scaled=(tbSim-tbm)/tbstd\n",
    "a=np.nonzero(zeroDeg>0)\n",
    "print(len(a[0]))\n",
    "astorm=np.nonzero(stormTop.data!=stormTop.data)\n",
    "stormTop[astorm]=0\n",
    "x_input=np.concatenate((tb_scaled[a[0],:9],(skTemp[a[0]][:,None]-273.15)/10,(88-sfcBin[a[0]][:,None])/30.,stormTop[a[0]][:,None]/10e3,zeroDeg[a[0],None]/1e3,np.log10(1+iwp[a]/10)[:,None],np.log10(1+rwp[a]/10)[:,None]),axis=1)"
   ]
  },
  {
   "cell_type": "code",
   "execution_count": 48,
   "metadata": {},
   "outputs": [
    {
     "name": "stdout",
     "output_type": "stream",
     "text": [
      "(1867874, 15)\n"
     ]
    }
   ],
   "source": [
    "print(x_input.shape)"
   ]
  },
  {
   "cell_type": "code",
   "execution_count": 41,
   "metadata": {},
   "outputs": [
    {
     "name": "stdout",
     "output_type": "stream",
     "text": [
      "[-3.25244345e-02 -4.09387079e-03 -4.50486722e-02 -2.09538815e-02\n",
      " -4.39659030e-02 -5.67476722e-02 -2.77247242e-02 -5.26481518e-02\n",
      " -4.15734295e-02  2.01921152e+00  9.90383363e-02  4.29559078e-02\n",
      "  3.68619287e+00  1.07195627e-03  3.02934519e-04]\n",
      "(1867874, 15)\n"
     ]
    }
   ],
   "source": [
    "print(x_input.mean(axis=0))\n",
    "print(x_input.shape)"
   ]
  },
  {
   "cell_type": "code",
   "execution_count": 29,
   "metadata": {},
   "outputs": [
    {
     "name": "stdout",
     "output_type": "stream",
     "text": [
      "[-0.03252443 -0.00409387 -0.04504867 -0.02095388 -0.0439659  -0.05674767\n",
      " -0.02772472 -0.05264815 -0.04157343  2.01921152  0.09903834  0.04295591\n",
      "  3.68619287]\n"
     ]
    },
    {
     "data": {
      "image/png": "[encoded data removed]",
      "text/plain": [
       "<Figure size 640x480 with 1 Axes>"
      ]
     },
     "metadata": {},
     "output_type": "display_data"
    }
   ],
   "source": [
    "h1=plt.hist(wvp[a]*1000,bins=100)\n",
    "print(x_input.mean(axis=0))\n",
    "tb_scaling={'mean':tbm,'std':tbstd}\n",
    "import pickle\n",
    "pickle.dump(tb_scaling,open('tb_scaling.pklz','wb'))"
   ]
  },
  {
   "cell_type": "code",
   "execution_count": 30,
   "metadata": {},
   "outputs": [
    {
     "name": "stdout",
     "output_type": "stream",
     "text": [
      "[0.93160325 0.8636856  0.93693215 0.8758585  0.9358502  0.9389324\n",
      " 0.8834868  0.903387   0.8965662  2.572739   0.00369234]\n"
     ]
    }
   ],
   "source": [
    "y_out=np.concatenate((sfcEmiss[a[0],0:9],wvp[a[0]][:,None]*1e2,np.log10(1+sfcPrecip[a[0]]/10.)[:,None]),axis=1)\n",
    "print(y_out.mean(axis=0))"
   ]
  },
  {
   "cell_type": "code",
   "execution_count": 50,
   "metadata": {},
   "outputs": [
    {
     "name": "stdout",
     "output_type": "stream",
     "text": [
      "(373575, 11)\n",
      "(373575, 15)\n"
     ]
    }
   ],
   "source": [
    "from sklearn.model_selection import train_test_split\n",
    "x_train, x_test, y_train, y_test = train_test_split(x_input, y_out, test_size=0.2, random_state=42)\n",
    "print(y_test.shape)\n",
    "print(x_test.shape)"
   ]
  },
  {
   "cell_type": "code",
   "execution_count": 51,
   "metadata": {},
   "outputs": [],
   "source": [
    "# define convolutional neural network to predict gvars from x_forward\n",
    "\n",
    "import tensorflow as tf\n",
    "from tensorflow import keras\n",
    "from tensorflow.keras import layers\n",
    "\n",
    "def feed_forward_model(nout=13):\n",
    "    model = keras.Sequential()\n",
    "    model.add(layers.Dense(64, input_dim=15, activation='relu'))\n",
    "    model.add(layers.Dense(64, activation='relu'))\n",
    "    model.add(layers.Dense(nout, activation=None))\n",
    "\n",
    "    model.compile(optimizer='adam', loss='mean_squared_error')\n",
    "    return model\n",
    "\n",
    "all_sky = feed_forward_model(nout=11)"
   ]
  },
  {
   "cell_type": "code",
   "execution_count": 52,
   "metadata": {},
   "outputs": [
    {
     "name": "stdout",
     "output_type": "stream",
     "text": [
      "Epoch 1/5\n",
      "46697/46697 [==============================] - 28s 591us/step - loss: 0.0209 - val_loss: 0.0137\n",
      "Epoch 2/5\n",
      "46697/46697 [==============================] - 28s 593us/step - loss: 0.0131 - val_loss: 0.0109\n",
      "Epoch 3/5\n",
      "46697/46697 [==============================] - 27s 585us/step - loss: 0.0115 - val_loss: 0.0116\n",
      "Epoch 4/5\n",
      "46697/46697 [==============================] - 27s 586us/step - loss: 0.0107 - val_loss: 0.0111\n",
      "Epoch 5/5\n",
      "46697/46697 [==============================] - 27s 585us/step - loss: 0.0103 - val_loss: 0.0096\n"
     ]
    }
   ],
   "source": [
    "hist=all_sky.fit(x_train, y_train, epochs=5, batch_size=32, validation_data=(x_test, y_test))"
   ]
  },
  {
   "cell_type": "code",
   "execution_count": 53,
   "metadata": {},
   "outputs": [
    {
     "name": "stderr",
     "output_type": "stream",
     "text": [
      "/Users/mgrecu/miniconda3/lib/python3.9/site-packages/keras/src/engine/training.py:3000: UserWarning: You are saving your model as an HDF5 file via `model.save()`. This file format is considered legacy. We recommend using instead the native Keras format, e.g. `model.save('my_model.keras')`.\n",
      "  saving_api.save_model(\n"
     ]
    }
   ],
   "source": [
    "all_sky.save('all_sky.h5')"
   ]
  }
 ],
 "metadata": {
  "kernelspec": {
   "display_name": "base",
   "language": "python",
   "name": "python3"
  },
  "language_info": {
   "codemirror_mode": {
    "name": "ipython",
    "version": 3
   },
   "file_extension": ".py",
   "mimetype": "text/x-python",
   "name": "python",
   "nbconvert_exporter": "python",
   "pygments_lexer": "ipython3",
   "version": "3.9.13"
  }
 },
 "nbformat": 4,
 "nbformat_minor": 2
}
