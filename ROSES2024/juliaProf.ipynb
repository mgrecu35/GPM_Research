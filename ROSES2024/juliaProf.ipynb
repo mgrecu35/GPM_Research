{
 "cells": [
  {
   "cell_type": "code",
   "execution_count": 1,
   "metadata": {},
   "outputs": [
    {
     "name": "stdout",
     "output_type": "stream",
     "text": [
      "<class 'netCDF4._netCDF4.Dataset'>\n",
      "root group (NETCDF4 data model, file format HDF5):\n",
      "    dimensions(sizes): dim_0(289), dim_1(8)\n",
      "    variables(dimensions): float32 kextR(dim_0, dim_1), float32 salbR(dim_0, dim_1), float32 asymR(dim_0, dim_1), float32 kextS(dim_0, dim_1), float32 salbS(dim_0, dim_1), float32 asymS(dim_0, dim_1), float32 kextG(dim_0, dim_1), float32 salbG(dim_0, dim_1), float32 asymG(dim_0, dim_1)\n",
      "    groups: \n"
     ]
    },
    {
     "data": {
      "text/plain": [
       "PyObject <lkTables.scattTables object at 0x1692e0640>"
      ]
     },
     "execution_count": 1,
     "metadata": {},
     "output_type": "execute_result"
    }
   ],
   "source": [
    "using NCDatasets\n",
    "#import Pkg; Pkg.add(\"NCDatasets\")\n",
    "using PyCall\n",
    "pushfirst!(pyimport(\"sys\").\"path\", \"\");\n",
    "pyTables = pyimport(\"lkTables\")\n",
    "pyTables_=pyTables.scattTables()\n"
   ]
  },
  {
   "cell_type": "code",
   "execution_count": 2,
   "metadata": {},
   "outputs": [],
   "source": [
    "\n",
    "mutable struct ScattTables\n",
    "    zKuR::Array{Float64, 1}\n",
    "    zKaR::Array{Float64, 1}\n",
    "    dmr::Array{Float64, 1}\n",
    "    rainRate::Array{Float64, 1}\n",
    "    attKuR::Array{Float64, 1}\n",
    "    attKaR::Array{Float64, 1}\n",
    "    kextR::Array{Float64, 2}\n",
    "    salbR::Array{Float64, 2}\n",
    "    asymR::Array{Float64, 2}\n",
    "    rwc::Array{Float64, 1}\n",
    "    zKuS::Array{Float64, 1}\n",
    "    zKaS::Array{Float64, 1}\n",
    "    dms::Array{Float64, 1}\n",
    "    snowRate::Array{Float64, 1}\n",
    "    swc::Array{Float64, 1}\n",
    "    attKuS::Array{Float64, 1}\n",
    "    attKaS::Array{Float64, 1}\n",
    "    kextS::Array{Float64, 2}\n",
    "    salbS::Array{Float64, 2}\n",
    "    asymS::Array{Float64, 2}\n",
    "    zKuBB::Array{Float64, 1}\n",
    "    zKaBB::Array{Float64, 1}\n",
    "    dmBB::Array{Float64, 1}\n",
    "    precRateBB::Array{Float64, 1}\n",
    "    attKuBB::Array{Float64, 1}\n",
    "    attKaBB::Array{Float64, 1}\n",
    "    kextBB::Array{Float64, 2}\n",
    "    salbBB::Array{Float64, 2}\n",
    "    asymBB::Array{Float64, 2}\n",
    "    dmg::Array{Float64, 1}\n",
    "    zKuG::Array{Float64, 1}\n",
    "    zKaG::Array{Float64, 1}\n",
    "    graupRate::Array{Float64, 1}\n",
    "    gwc::Array{Float64, 1}\n",
    "    attKuG::Array{Float64, 1}\n",
    "    attKaG::Array{Float64, 1}\n",
    "    kextG::Array{Float64, 2}\n",
    "    salbG::Array{Float64, 2}\n",
    "    asymG::Array{Float64, 2}\n",
    "end\n"
   ]
  },
  {
   "cell_type": "code",
   "execution_count": 4,
   "metadata": {},
   "outputs": [],
   "source": [
    "\n",
    "function scattTables(pyTables_)\n",
    "    zKuR=Float64.(pyTables_.zKuR)\n",
    "    zKaR=Float64.(pyTables_.zKaR)\n",
    "    dmr=Float64.(pyTables_.dmr)\n",
    "    rainRate=Float64.(pyTables_.rainRate)\n",
    "    rwc=Float64.(pyTables_.rwc)\n",
    "    dms=Float64.(pyTables_.dms)\n",
    "    snowRate=Float64.(pyTables_.snowRate)\n",
    "    swc=Float64.(pyTables_.swc)\n",
    "    dmBB=Float64.(pyTables_.dmBB)\n",
    "    precRateBB=Float64.(pyTables_.precRateBB)\n",
    "    gwc=Float64.(pyTables_.gwc)\n",
    "    graupRate=Float64.(pyTables_.graupRate)\n",
    "    zKuR=Float64.(pyTables_.zKuR)\n",
    "    zKaR=Float64.(pyTables_.zKaR)\n",
    "    zKuS=Float64.(pyTables_.zKuS)\n",
    "    zKaS=Float64.(pyTables_.zKaS)\n",
    "    zKuBB=Float64.(pyTables_.zKuBB)\n",
    "    zKaBB=Float64.(pyTables_.zKaBB)\n",
    "    zKuG=Float64.(pyTables_.zKuG)\n",
    "    zKaG=Float64.(pyTables_.zKaG)\n",
    "    attKuR=Float64.(pyTables_.attKuR)\n",
    "    attKaR=Float64.(pyTables_.attKaR)\n",
    "    attKuS=Float64.(pyTables_.attKuS)\n",
    "    attKaS=Float64.(pyTables_.attKaS)\n",
    "    attKuBB=Float64.(pyTables_.attKuBB)\n",
    "    attKaBB=Float64.(pyTables_.attKaBB)\n",
    "    attKuG=Float64.(pyTables_.attKuG)\n",
    "    attKaG=Float64.(pyTables_.attKaG)\n",
    "    kextR=Float64.(pyTables_.kextR)\n",
    "    salbR=Float64.(pyTables_.salbR)\n",
    "    asymR=Float64.(pyTables_.asymR)\n",
    "    kextS=Float64.(pyTables_.kextS)\n",
    "    salbS=Float64.(pyTables_.salbS)\n",
    "    asymS=Float64.(pyTables_.asymS)\n",
    "    kextBB=Float64.(pyTables_.kextBB)\n",
    "    salbBB=Float64.(pyTables_.salbBB)\n",
    "    asymBB=Float64.(pyTables_.asymBB)\n",
    "    kextG=Float64.(pyTables_.kextG)\n",
    "    salbG=Float64.(pyTables_.salbG)\n",
    "    asymG=Float64.(pyTables_.asymG)\n",
    "    dmg=Float64.(pyTables_.dmg)\n",
    "    return ScattTables(zKuR, zKaR, dmr, rainRate, attKuR, attKaR, kextR, salbR, asymR, rwc, zKuS, zKaS, dms, snowRate, swc, attKuS, attKaS, kextS, salbS, asymS, zKuBB, zKaBB, dmBB, precRateBB, attKuBB, attKaBB, kextBB, salbBB, asymBB, dmg, zKuG, zKaG, graupRate, gwc, attKuG, attKaG, kextG, salbG, asymG)\n",
    "    \n",
    "end\n",
    "\n",
    "# Create an instance of the scattTables class\n",
    "scatt_tables = scattTables(pyTables_);\n"
   ]
  },
  {
   "cell_type": "code",
   "execution_count": 5,
   "metadata": {},
   "outputs": [
    {
     "name": "stdout",
     "output_type": "stream",
     "text": [
      "(289,)"
     ]
    }
   ],
   "source": [
    "print(size(scatt_tables.zKuR))"
   ]
  },
  {
   "cell_type": "code",
   "execution_count": 12,
   "metadata": {},
   "outputs": [
    {
     "name": "stdout",
     "output_type": "stream",
     "text": [
      "Float32[0.30242458, 0.30491298, 0.30741763, 0.30996603, 0.31256038, 0.31515354, 0.31774473, 0.32034883, 0.32298556, 0.32564384, 0.32837203, 0.3311, 0.3338273, 0.33656394, 0.33933032, 0.342125, 0.3449896, 0.34785253, 0.35071272, 0.35361937, 0.35657635, 0.3595275, 0.3624751, 0.36545876, 0.3684521, 0.37154046, 0.37462875, 0.37771097, 0.38081577, 0.38394803, 0.38714975, 0.39037713, 0.39359143, 0.39682174, 0.40008262, 0.40341297, 0.4067742, 0.41012406, 0.41352394, 0.41698742, 0.42042673, 0.42387673, 0.42736512, 0.43092793, 0.43451428, 0.4380857, 0.4416901, 0.44533035, 0.44905663, 0.45277032, 0.45649, 0.46024, 0.46409154, 0.46794942, 0.47178465, 0.4757467, 0.479693, 0.48363706, 0.48760766, 0.49168482, 0.49576324, 0.49983963, 0.5039555, 0.5081738, 0.512382, 0.5165906, 0.5208397, 0.5252048, 0.52955115, 0.5339495, 0.5383925, 0.5428218, 0.54729205, 0.55187327, 0.55643636, 0.5610116, 0.56565535, 0.57037735, 0.57508117, 0.5798179, 0.58465904, 0.5894907, 0.5943982, 0.5993349, 0.60426545, 0.60926855, 0.6143528, 0.619412, 0.6245038, 0.6297483, 0.63492095, 0.64015347, 0.64550036, 0.65081733, 0.6562635, 0.66168797, 0.6671298, 0.67270935, 0.67824507, 0.68382293, 0.68954957, 0.69522405, 0.70094615, 0.70680517, 0.71264285, 0.7185751, 0.7244816, 0.73048806, 0.7365366, 0.742583, 0.7487765, 0.7549459, 0.7611673, 0.7674944, 0.7738584, 0.7802481, 0.7866629, 0.7932, 0.7997217, 0.80632436, 0.81299657, 0.8196468, 0.826469, 0.83329445, 0.84016365, 0.847041, 0.8540701, 0.8610625, 0.8682105, 0.8753, 0.8825133, 0.8897647, 0.89712596, 0.9044574, 0.9119295, 0.9193602, 0.926933, 0.9345067, 0.94215876, 0.9498625, 0.9576862, 0.96546996, 0.9734128, 0.981307, 0.98935443, 0.9973643, 1.0055434, 1.013744, 1.0219537, 1.0302815, 1.0386333, 1.0470752, 1.055525, 1.0641215, 1.0727241, 1.0813923, 1.0901192, 1.0988935, 1.1077571, 1.1166395, 1.12564, 1.1347333, 1.1437618, 1.1529689, 1.1621265, 1.1714356, 1.1807759, 1.1901875, 1.1996846, 1.2092247, 1.2188213, 1.2285029, 1.2381835, 1.2479957, 1.2578518, 1.2677883, 1.27776, 1.28786, 1.2978985, 1.3081068, 1.3183583, 1.3287008, 1.3390442, 1.3495092, 1.3599892, 1.3705719, 1.3812307, 1.3920032, 1.40272, 1.413596, 1.42455, 1.4355203, 1.4466131, 1.4577476, 1.468976, 1.48025, 1.4915764, 1.503021, 1.5145847, 1.526171, 1.5377741, 1.5495148, 1.5613737, 1.5732974, 1.5852779, 1.5972965, 1.6094464, 1.6216981, 1.6340219, 1.6464468, 1.6588861, 1.67145, 1.6841, 1.6968849, 1.7097571, 1.7227143, 1.7356972, 1.748866, 1.762069, 1.7753353, 1.7887901, 1.8023099, 1.8159636, 1.8297, 1.8435633, 1.8574762, 1.8715608, 1.88575, 1.899979, 1.9143308, 1.9289161, 1.9435457, 1.9582572, 1.9731066, 1.9881722, 2.00325, 2.018481, 2.033875, 2.0494432, 2.0650768, 2.0808706, 2.0967824, 2.1128285, 2.129, 2.1453543, 2.1618414, 2.1784706, 2.1953063, 2.2122939, 2.2294405, 2.2467308, 2.264187, 2.2817492, 2.299558, 2.31756, 2.3356934, 2.3539836, 2.3725028, 2.3911767, 2.410125, 2.4291315, 2.4483943, 2.4679391, 2.4876044, 2.5074618, 2.527606, 2.5478551, 2.5684, 2.5891755, 2.6101563, 2.631375, 2.6528285, 2.674476, 2.6964507, 2.71865, 2.74114, 2.763856, 2.7868621, 2.8100638, 2.8336208, 2.857435, 2.8815732, 2.90595, 2.9306, 2.9556, 2.981, 3.0066538, 3.0326173, 3.0589707]"
     ]
    }
   ],
   "source": []
  }
 ],
 "metadata": {
  "kernelspec": {
   "display_name": "Julia (2 threads) 1.8.0-rc1",
   "language": "julia",
   "name": "julia-_2-threads_-1.8"
  },
  "language_info": {
   "file_extension": ".jl",
   "mimetype": "application/julia",
   "name": "julia",
   "version": "1.8.3"
  }
 },
 "nbformat": 4,
 "nbformat_minor": 2
}
