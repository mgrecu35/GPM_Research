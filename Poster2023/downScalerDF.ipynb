{
 "cells": [
  {
   "cell_type": "code",
   "execution_count": 19,
   "metadata": {},
   "outputs": [],
   "source": [
    "fname=\"trainingSubset0029.nc\"\n",
    "import netCDF4 as nc\n",
    "import numpy as np\n",
    "import matplotlib.pyplot as plt\n",
    "\n",
    "with nc.Dataset(fname) as f:\n",
    "    sfcPrecip=f.variables['sfcPrecip'][:]\n",
    "    stormTop=f.variables['stormTop'][:]\n",
    "    dbzku_zero=f.variables['dbzku_zero'][:]\n",
    "    dbzku_rain=f.variables['dbzku_rain'][:]\n",
    "    dbzku_ice=f.variables['dbzku_ice'][:]\n",
    "    dbzka_zero=f.variables['dbzka_zero'][:]\n",
    "    hzero=f.variables['hzero'][:]\n",
    "    pia=f.variables['pia'][:,:,:,0]\n",
    "    pType=f.variables['pType'][:]\n",
    "    sigmaZero=f.variables['sigmaZero'][:]\n",
    "    landSurface=f.variables['landSurface'][:]\n",
    "    elevation=f.variables['elevation'][:]\n",
    "    localZenithAngle=f.variables['localZenithAngle'][:]\n",
    "    zeta=f.variables['zeta'][:]\n",
    "    PIAhybrid=f.variables['PIAhyb'][:]\n",
    "    PIAhybridKu=f.variables['PIAhybKu'][:]"
   ]
  },
  {
   "cell_type": "code",
   "execution_count": 20,
   "metadata": {},
   "outputs": [
    {
     "name": "stdout",
     "output_type": "stream",
     "text": [
      "(125245, 16, 8, 2)\n",
      "[[1.        0.6645181]\n",
      " [0.6645181 1.       ]]\n",
      "5.572902\n"
     ]
    }
   ],
   "source": [
    "print(PIAhybrid.shape)\n",
    "a=np.nonzero(pType>0)\n",
    "b=np.nonzero(PIAhybridKu[:,:,:][a]>-1)\n",
    "print(np.corrcoef(PIAhybridKu[a][b],PIAhybrid[:,:,:,0][a][b]))\n",
    "#a=np.nonzero(pType==0)  \n",
    "#print(PIAhybrid[:,:,:,0][a].max())\n",
    "PIAhybrid[PIAhybrid<0]=0\n",
    "print(zeta.max())"
   ]
  },
  {
   "cell_type": "code",
   "execution_count": 3,
   "metadata": {},
   "outputs": [
    {
     "name": "stdout",
     "output_type": "stream",
     "text": [
      "17.613327\n",
      "14.37847\n",
      "12.670675\n",
      "321 0\n",
      "41.036846 -50.735973\n",
      "(87855, 16, 8)\n",
      "(87855, 16, 8, 2)\n",
      "(87855, 16, 8, 2)\n"
     ]
    },
    {
     "data": {
      "image/png": "[encoded data removed]",
      "text/plain": [
       "<Figure size 640x480 with 1 Axes>"
      ]
     },
     "metadata": {},
     "output_type": "display_data"
    }
   ],
   "source": [
    "dbzku_rain[dbzku_rain<0]=0\n",
    "dbzku_ice[dbzku_ice<0]=0\n",
    "dbzku_zero[dbzku_zero<0]=0\n",
    "dbzka_zero[dbzka_zero<0]=0\n",
    "print(dbzku_rain.mean())\n",
    "print(dbzku_ice.mean())\n",
    "print(dbzku_zero.std())\n",
    "print(landSurface.max(),landSurface.min())\n",
    "#plt.hist(landSurface.flatten(),bins=100)\n",
    "print(sigmaZero.max(),sigmaZero.min()) \n",
    "#hSZ=plt.hist(sigmaZero.flatten(),bins=100) \n",
    "hElv=plt.hist(elevation.flatten(),bins=100)\n",
    "print(elevation.shape)\n",
    "print(localZenithAngle.shape)\n",
    "print(sigmaZero.shape)"
   ]
  },
  {
   "cell_type": "code",
   "execution_count": 4,
   "metadata": {},
   "outputs": [
    {
     "name": "stdout",
     "output_type": "stream",
     "text": [
      "-9999.9\n",
      "1381.6394\n",
      "-0.0\n",
      "0.0\n",
      "0\n"
     ]
    }
   ],
   "source": [
    "print(stormTop.min())\n",
    "stormTop[stormTop<0]=0\n",
    "print(hzero.min())\n",
    "print(pia.min())\n",
    "print(sfcPrecip.min())\n",
    "print(pType.min())\n",
    "\n",
    "xL=np.stack([(dbzku_rain-12)/12,(dbzku_ice-12)/12,(dbzku_zero-12),(dbzka_zero-12),hzero/3e3,np.log10(1+pia/0.1),(stormTop-3000)/1e3],axis=-1)\n",
    "xL=np.stack([(dbzku_rain-12)/12,(dbzku_ice-12)/12,(dbzku_zero-12),hzero/3e3,(stormTop-3000)/1e3,landSurface/100.,elevation/1000,sigmaZero[:,:,:,0]/20.0,sigmaZero[:,:,:,1]/20.0,localZenithAngle[:,:,:,0]/17,zeta[:,:,:]],axis=-1)"
   ]
  },
  {
   "cell_type": "code",
   "execution_count": 5,
   "metadata": {},
   "outputs": [
    {
     "name": "stdout",
     "output_type": "stream",
     "text": [
      "(87855, 16, 8, 11)\n",
      "(87855, 11, 16, 8)\n",
      "(87855, 1, 16, 8)\n"
     ]
    }
   ],
   "source": [
    "print(xL.shape)\n",
    "xL_scaled=np.swapaxes(xL,-2,-1)\n",
    "xL_scaled=np.swapaxes(xL_scaled,-2,-3)\n",
    "print(xL_scaled.shape)\n",
    "yL_scaled=np.log10(1+PIAhybrid[:,:,:,0]/0.1)\n",
    "yL_scaled=yL_scaled[:,np.newaxis,:,:]\n",
    "print(yL_scaled.shape)"
   ]
  },
  {
   "cell_type": "code",
   "execution_count": 6,
   "metadata": {},
   "outputs": [],
   "source": [
    "from neuralop.models import FNO\n",
    "\n",
    "model_noKa = FNO(n_modes=(8, 8), hidden_channels=32,\n",
    "                in_channels=11, out_channels=1)"
   ]
  },
  {
   "cell_type": "code",
   "execution_count": 7,
   "metadata": {},
   "outputs": [],
   "source": [
    "from sklearn.model_selection import train_test_split\n",
    "nt=xL_scaled.shape[0]\n",
    "ntrain=int(0.8*nt)\n",
    "x_train=xL_scaled[:ntrain]\n",
    "x_test=xL_scaled[ntrain:]\n",
    "y_train=yL_scaled[:ntrain]\n",
    "y_test=yL_scaled[ntrain:]\n",
    "#x_train, x_test, y_train, y_test = train_test_split(xL_scaled, yL_scaled, test_size=0.2, random_state=42)\n"
   ]
  },
  {
   "cell_type": "code",
   "execution_count": 8,
   "metadata": {},
   "outputs": [],
   "source": [
    "from torch.utils.data import Dataset, DataLoader\n",
    "import torch\n",
    "class CustomDataset(Dataset):\n",
    "    def __init__(self, x_train, y_train, transform=None):\n",
    "        self.x_train = torch.tensor(x_train, dtype=torch.float32)\n",
    "        self.y_train = torch.tensor(y_train, dtype=torch.float32)\n",
    "        self.transform = transform\n",
    "\n",
    "    def __len__(self):\n",
    "        return len(self.x_train)\n",
    "\n",
    "    def __getitem__(self, idx):\n",
    "        sample = self.x_train[idx], self.y_train[idx]\n",
    "        if self.transform:\n",
    "            sample = self.transform(sample)\n",
    "        return sample\n",
    "\n",
    "# Define any transformations if necessary\n",
    "# Example of transformation\n",
    "# transform = transforms.Compose([\n",
    "#     transforms.ToTensor(),\n",
    "# ])\n",
    "\n",
    "# Create custom dataset\n",
    "# Pass transform if any\n",
    "# train_dataset = CustomDataset(x_train, y_train, transform=transform)\n",
    "train_dataset = CustomDataset(x_train, y_train)\n",
    "\n",
    "# Define DataLoader\n",
    "batch_size = 64\n",
    "shuffle = True\n",
    "train_loader = DataLoader(train_dataset, batch_size=batch_size, shuffle=shuffle)"
   ]
  },
  {
   "cell_type": "code",
   "execution_count": 9,
   "metadata": {},
   "outputs": [],
   "source": [
    "#train the model\n",
    "import torch\n",
    "import torch.nn as nn\n",
    "import torch.optim as optim\n",
    "from torch.utils.data import DataLoader, TensorDataset\n",
    "from torch.autograd import Variable\n",
    "\n",
    "model=model_noKa\n",
    "\n",
    "# Define loss function and optimizer\n",
    "criterion = nn.MSELoss()\n",
    "optimizer = optim.Adam(model.parameters(), lr=0.001)\n"
   ]
  },
  {
   "cell_type": "code",
   "execution_count": 10,
   "metadata": {},
   "outputs": [
    {
     "name": "stdout",
     "output_type": "stream",
     "text": [
      "Epoch [1/10], Loss: 0.0143\n",
      "Epoch [2/10], Loss: 0.0057\n",
      "Epoch [3/10], Loss: 0.0046\n",
      "Epoch [4/10], Loss: 0.0039\n",
      "Epoch [5/10], Loss: 0.0034\n",
      "Epoch [6/10], Loss: 0.0030\n",
      "Epoch [7/10], Loss: 0.0027\n",
      "Epoch [8/10], Loss: 0.0025\n",
      "Epoch [9/10], Loss: 0.0023\n",
      "Epoch [10/10], Loss: 0.0021\n",
      "Finished Training\n"
     ]
    }
   ],
   "source": [
    "\n",
    "# Training loop\n",
    "num_epochs = 10\n",
    "for epoch in range(num_epochs):\n",
    "    running_loss = 0.0\n",
    "    for images, labels in train_loader:\n",
    "        # Forward pass\n",
    "        outputs = model(images)\n",
    "        # Compute loss\n",
    "        loss = criterion(outputs, labels)  # Assuming images are flattened to 1D\n",
    "        # Backward pass and optimization\n",
    "        optimizer.zero_grad()\n",
    "        loss.backward()\n",
    "        optimizer.step()\n",
    "        \n",
    "        running_loss += loss.item()\n",
    "    print(f'Epoch [{epoch+1}/{num_epochs}], Loss: {running_loss/len(train_loader):.4f}')\n",
    "\n",
    "print('Finished Training')"
   ]
  },
  {
   "cell_type": "code",
   "execution_count": 11,
   "metadata": {},
   "outputs": [],
   "source": [
    "y_pred=model(torch.tensor(x_test, dtype=torch.float32))"
   ]
  },
  {
   "cell_type": "code",
   "execution_count": 12,
   "metadata": {},
   "outputs": [
    {
     "name": "stdout",
     "output_type": "stream",
     "text": [
      "tensor(0.0056, grad_fn=<MseLossBackward0>)\n",
      "[[1.         0.98712975]\n",
      " [0.98712975 1.        ]]\n",
      "torch.Size([17571, 1, 16, 8])\n"
     ]
    }
   ],
   "source": [
    "mse=criterion(y_pred,torch.tensor(y_test, dtype=torch.float32))\n",
    "print(mse)\n",
    "print(np.corrcoef(y_pred.detach().numpy().flatten(),y_test.flatten()))\n",
    "print(y_pred.shape)\n",
    "# save full model\n",
    "torch.save(model, \"sigmaZeroModel_15iterations_zeta_DF_PIA.pt\")"
   ]
  },
  {
   "cell_type": "code",
   "execution_count": 13,
   "metadata": {},
   "outputs": [
    {
     "data": {
      "image/png": "[encoded data removed]",
      "text/plain": [
       "<Figure size 640x480 with 1 Axes>"
      ]
     },
     "metadata": {},
     "output_type": "display_data"
    }
   ],
   "source": [
    "y_pred_np=y_pred.detach().numpy()\n",
    "import matplotlib \n",
    "h2d=plt.hist2d(y_test[:,0,4:-4,:].flatten(),y_pred_np[:,0,4:-4,:].flatten(),bins=np.arange(100)*0.05,norm=matplotlib.colors.LogNorm(),cmap='jet')\n"
   ]
  },
  {
   "cell_type": "code",
   "execution_count": 14,
   "metadata": {},
   "outputs": [
    {
     "name": "stdout",
     "output_type": "stream",
     "text": [
      "[[1.        0.9895788]\n",
      " [0.9895788 1.       ]]\n",
      "0.46287975 0.4723881\n"
     ]
    },
    {
     "data": {
      "image/png": "[encoded data removed]",
      "text/plain": [
       "<Figure size 640x480 with 1 Axes>"
      ]
     },
     "metadata": {},
     "output_type": "display_data"
    }
   ],
   "source": [
    "sfcRain_pred=0.1*(10**(y_pred_np)[:,0,4:-4,:]-1)\n",
    "sfcRain_test=0.1*(10**(y_test)[:,0,4:-4,:]-1)\n",
    "print(np.corrcoef(sfcRain_pred.flatten(),sfcRain_test.flatten()))\n",
    "ax=plt.figure()\n",
    "h2d_rain=plt.hist2d(sfcRain_test.flatten(),sfcRain_pred.flatten(),bins=np.arange(100)*0.07,norm=matplotlib.colors.LogNorm(),cmap='jet')\n",
    "#set aspect ratio to be equal\n",
    "ax.gca().set_aspect('equal', adjustable='box')\n",
    "#ax.set_aspect('equal')\n",
    "print(sfcRain_pred.mean(),sfcRain_test.mean())"
   ]
  },
  {
   "cell_type": "code",
   "execution_count": 38,
   "metadata": {},
   "outputs": [
    {
     "data": {
      "text/plain": [
       "(array([1.35717e+06, 2.37643e+05, 8.70780e+04, 3.67950e+04, 1.92320e+04,\n",
       "        1.26960e+04, 1.02640e+04, 7.98000e+03, 4.07500e+03, 5.65300e+03,\n",
       "        3.65600e+03, 3.73900e+03, 3.16700e+03, 3.54500e+03, 2.22600e+03,\n",
       "        1.97800e+03, 2.40100e+03, 1.80600e+03, 7.90000e+02, 1.46600e+03,\n",
       "        1.38700e+03, 1.10200e+03, 8.57000e+02, 5.92000e+02, 5.32000e+02,\n",
       "        5.97000e+02, 8.97000e+02, 1.31000e+02, 3.36000e+02, 2.34000e+02,\n",
       "        6.99000e+02, 1.86000e+02, 4.72000e+02, 3.50000e+01, 2.42000e+02,\n",
       "        1.43000e+02, 3.43000e+02, 2.81000e+02, 3.40000e+02, 3.20000e+01,\n",
       "        1.21000e+02, 1.80000e+02, 1.05000e+02, 4.80000e+01, 0.00000e+00,\n",
       "        1.93000e+02, 9.90000e+01, 1.04000e+02, 6.40000e+01, 0.00000e+00,\n",
       "        1.24000e+02, 1.80000e+02, 1.28000e+02, 1.07000e+02, 1.83000e+02,\n",
       "        0.00000e+00, 0.00000e+00, 1.45000e+02, 6.40000e+01, 6.40000e+01,\n",
       "        6.40000e+01, 1.05000e+02, 0.00000e+00, 1.14000e+02, 6.40000e+01,\n",
       "        4.50000e+01, 5.40000e+01, 0.00000e+00, 4.40000e+01, 0.00000e+00,\n",
       "        6.30000e+01, 0.00000e+00, 0.00000e+00, 0.00000e+00, 1.31000e+02,\n",
       "        0.00000e+00, 0.00000e+00, 4.70000e+01, 5.70000e+01, 0.00000e+00,\n",
       "        0.00000e+00, 0.00000e+00, 6.40000e+01, 0.00000e+00, 5.50000e+01,\n",
       "        5.50000e+01, 1.25000e+02, 0.00000e+00, 0.00000e+00, 0.00000e+00,\n",
       "        3.70000e+01, 0.00000e+00, 0.00000e+00, 0.00000e+00, 0.00000e+00,\n",
       "        0.00000e+00, 0.00000e+00, 0.00000e+00, 0.00000e+00, 1.11800e+03]),\n",
       " array([5.43463752e-02, 3.05320835e+00, 6.05207062e+00, 9.05093288e+00,\n",
       "        1.20497942e+01, 1.50486565e+01, 1.80475178e+01, 2.10463810e+01,\n",
       "        2.40452423e+01, 2.70441055e+01, 3.00429668e+01, 3.30418282e+01,\n",
       "        3.60406914e+01, 3.90395546e+01, 4.20384140e+01, 4.50372772e+01,\n",
       "        4.80361404e+01, 5.10349998e+01, 5.40338631e+01, 5.70327263e+01,\n",
       "        6.00315857e+01, 6.30304489e+01, 6.60293121e+01, 6.90281754e+01,\n",
       "        7.20270386e+01, 7.50258942e+01, 7.80247574e+01, 8.10236206e+01,\n",
       "        8.40224838e+01, 8.70213470e+01, 9.00202103e+01, 9.30190735e+01,\n",
       "        9.60179291e+01, 9.90167923e+01, 1.02015656e+02, 1.05014519e+02,\n",
       "        1.08013382e+02, 1.11012245e+02, 1.14011101e+02, 1.17009964e+02,\n",
       "        1.20008827e+02, 1.23007690e+02, 1.26006554e+02, 1.29005417e+02,\n",
       "        1.32004272e+02, 1.35003143e+02, 1.38001999e+02, 1.41000870e+02,\n",
       "        1.43999725e+02, 1.46998581e+02, 1.49997452e+02, 1.52996307e+02,\n",
       "        1.55995178e+02, 1.58994034e+02, 1.61992905e+02, 1.64991760e+02,\n",
       "        1.67990616e+02, 1.70989487e+02, 1.73988342e+02, 1.76987213e+02,\n",
       "        1.79986069e+02, 1.82984924e+02, 1.85983795e+02, 1.88982651e+02,\n",
       "        1.91981522e+02, 1.94980377e+02, 1.97979248e+02, 2.00978104e+02,\n",
       "        2.03976959e+02, 2.06975830e+02, 2.09974686e+02, 2.12973557e+02,\n",
       "        2.15972412e+02, 2.18971283e+02, 2.21970139e+02, 2.24968994e+02,\n",
       "        2.27967865e+02, 2.30966721e+02, 2.33965591e+02, 2.36964447e+02,\n",
       "        2.39963318e+02, 2.42962173e+02, 2.45961029e+02, 2.48959900e+02,\n",
       "        2.51958755e+02, 2.54957626e+02, 2.57956482e+02, 2.60955353e+02,\n",
       "        2.63954193e+02, 2.66953064e+02, 2.69951935e+02, 2.72950806e+02,\n",
       "        2.75949646e+02, 2.78948517e+02, 2.81947388e+02, 2.84946228e+02,\n",
       "        2.87945099e+02, 2.90943970e+02, 2.93942841e+02, 2.96941681e+02,\n",
       "        2.99940552e+02]),\n",
       " <BarContainer object of 100 artists>)"
      ]
     },
     "execution_count": 38,
     "metadata": {},
     "output_type": "execute_result"
    },
    {
     "data": {
      "image/png": "[encoded data removed]",
      "text/plain": [
       "<Figure size 640x480 with 1 Axes>"
      ]
     },
     "metadata": {},
     "output_type": "display_data"
    }
   ],
   "source": [
    "a=np.nonzero(sfcPrecip>0)\n",
    "plt.hist(sfcPrecip[a], bins=100)"
   ]
  }
 ],
 "metadata": {
  "kernelspec": {
   "display_name": "base",
   "language": "python",
   "name": "python3"
  },
  "language_info": {
   "codemirror_mode": {
    "name": "ipython",
    "version": 3
   },
   "file_extension": ".py",
   "mimetype": "text/x-python",
   "name": "python",
   "nbconvert_exporter": "python",
   "pygments_lexer": "ipython3",
   "version": "3.9.13"
  }
 },
 "nbformat": 4,
 "nbformat_minor": 2
}
