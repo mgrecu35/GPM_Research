{
 "cells": [
  {
   "cell_type": "code",
   "execution_count": 1,
   "metadata": {},
   "outputs": [],
   "source": [
    "#!/usr/bin/env python\n",
    "import numpy as np\n",
    "import time\n",
    "from datetime import date\n",
    "import matplotlib.pyplot as plt\n",
    "import sys\n",
    "sys.path.insert(0,\"/Users/mgrecu/GPM/ORO_old/retr\")\n",
    "\n",
    "import lkTables\n",
    "from radarRetrSubs import *\n",
    "\n",
    "\n",
    "import pickle\n",
    "dateL=[]\n",
    "\n",
    "\n",
    "from netCDF4 import Dataset\n",
    "from scipy.ndimage import gaussian_filter\n",
    "import glob\n",
    "fs=sorted(glob.glob(\"2A-CS/2A*\"))\n",
    "\n",
    "from numpy import *\n",
    "def readOrb(orb):\n",
    "    fh=Dataset(orb)\n",
    "    sfcPrecip=fh['FS/SLV/precipRateNearSurface'][:,:]\n",
    "    precipRate=fh['FS/SLV/precipRate'][:,:]\n",
    "    lon=fh['FS/Longitude'][:,:]\n",
    "    lat=fh['FS/Latitude'][:,:]\n",
    "    hzero=fh['FS/VER/heightZeroDeg'][:,:]\n",
    "    pType=fh['FS/CSF/typePrecip'][:,:]\n",
    "    stormTop=fh['FS/PRE/heightStormTop'][:,:]\n",
    "    pType=(pType/1e7).astype(np.int)\n",
    "    bzd=fh['FS/VER/binZeroDeg'][:,:]\n",
    "    zku=fh['FS/PRE/zFactorMeasured'][:,:,:,0]\n",
    "    bcf=fh['FS/PRE/binClutterFreeBottom'][:,:]\n",
    "    return sfcPrecip,hzero,pType,stormTop,bzd,zku,bcf,precipRate,fh\n",
    "eRad=6357e3\n",
    "\n",
    "\n",
    "orbL=sorted(glob.glob(\"/Users/mgrecu/GPM/ORO_old/2A-CS/2A-CS*CONUS*HDF5\"))\n",
    "cmbOrbL=sorted(glob.glob(\"/Users/mgrecu/GPM/ORO_old/2A-CS/2B-CS*CONUS*HDF5\"))\n",
    "\n",
    "nt=0\n",
    "sfcPrecipL=[]\n",
    "stormTopL=[]\n",
    "zKuFL1=[]\n",
    "zKuFL2=[]\n",
    "zKuL=[]\n",
    "dbinL=[]\n",
    "sfcPrecip1L=[]\n",
    "pRateL=[]\n",
    "n1=2\n",
    "for orb in fs[:200]:\n",
    "    sfcPrecip,hzero,pType,stormTop,bzd,zku,bcf,precipRate,fh=readOrb(orb)"
   ]
  },
  {
   "cell_type": "code",
   "execution_count": 2,
   "metadata": {},
   "outputs": [
    {
     "name": "stdout",
     "output_type": "stream",
     "text": [
      "659\n",
      "653\n",
      "/Users/mgrecu/GPM/ORO_old/2A-CS/2A-CS-CONUS.GPM.DPR.V9-20211125.20190501-S011631-E012509.029377.V07A.HDF5\n",
      "/Users/mgrecu/GPM/ORO_old/2A-CS/2B-CS-CONUS.GPM.DPRGMI.CORRA2022.20191021-S060735-E061606.032071.V07A.HDF5\n",
      "/Users/mgrecu/GPM/ORO_old/2A-CS/2A-CS-CONUS.GPM.DPR.V9-20211125.20191021-S060735-E061606.032071.V07A.HDF5\n",
      "/Users/mgrecu/GPM/ORO_old/2A-CS/2B-CS-CONUS.GPM.DPRGMI.CORRA2022.20190501-S011631-E012509.029377.V07A.HDF5\n",
      "653\n"
     ]
    }
   ],
   "source": [
    "print(len(cmbOrbL))\n",
    "print(len(orbL))\n",
    "print(orbL[0])\n",
    "fname=orbL[0].replace(\"DPR.V9-20211125\",\"DPRGMI.CORRA2022\")\n",
    "icount=0\n",
    "for f in orbL:\n",
    "    fname=f.replace(\"DPR.V9-20211125\",\"DPRGMI.CORRA2022\")\n",
    "    fname=fname.replace(\"2A-CS-\",\"2B-CS-\")\n",
    "    if fname in cmbOrbL:\n",
    "        icount+=1\n",
    "        #print(icount)\n",
    "        continue\n",
    "    #break\n",
    "print(fname)\n",
    "print(f)\n",
    "print(cmbOrbL[0])\n",
    "print(icount)"
   ]
  },
  {
   "cell_type": "code",
   "execution_count": 3,
   "metadata": {},
   "outputs": [],
   "source": [
    "import numpy as np\n",
    "def readOrb(orb):\n",
    "    fh=Dataset(orb)\n",
    "    sfcPrecip=fh['FS/SLV/precipRateNearSurface'][:,:]\n",
    "    precipRate=fh['FS/SLV/precipRate'][:,:]\n",
    "    lon=fh['FS/Longitude'][:,:]\n",
    "    lat=fh['FS/Latitude'][:,:]\n",
    "    hzero=fh['FS/VER/heightZeroDeg'][:,:]\n",
    "    pType=fh['FS/CSF/typePrecip'][:,:]\n",
    "    stormTop=fh['FS/PRE/heightStormTop'][:,:]\n",
    "    pType=(pType/1e7).astype(np.int32)\n",
    "    bzd=fh['FS/VER/binZeroDeg'][:,:]\n",
    "    zku=fh['FS/PRE/zFactorMeasured'][:,:,:,0]\n",
    "    zka=fh['FS/PRE/zFactorMeasured'][:,:,:,1]\n",
    "    bcf=fh['FS/PRE/binClutterFreeBottom'][:,:]\n",
    "    bsfc=fh['FS/PRE/binRealSurface'][:,:]\n",
    "    piah=fh['FS/SRT/PIAhybrid'][:,:]\n",
    "    return sfcPrecip,hzero,pType,stormTop,bzd,zku,zka,bcf,precipRate,bsfc,piah,fh"
   ]
  },
  {
   "cell_type": "code",
   "execution_count": 4,
   "metadata": {},
   "outputs": [
    {
     "name": "stdout",
     "output_type": "stream",
     "text": [
      "653\n"
     ]
    },
    {
     "name": "stderr",
     "output_type": "stream",
     "text": [
      "  8%|▊         | 52/653 [00:17<03:43,  2.69it/s]"
     ]
    }
   ],
   "source": [
    "orbL=sorted(glob.glob(\"/Users/mgrecu/GPM/ORO_old/2A-CS/2A-CS*CONUS*HDF5\"))\n",
    "print(len(orbL))\n",
    "convPixelsL=[]\n",
    "totalRainL=[]\n",
    "d={}\n",
    "import tqdm\n",
    "for orb in tqdm.tqdm(orbL[:]):\n",
    "    sfcPrecip,hzero,pType,stormTop,bzd,zku,zka,bcf,precipRate,bsfc,piah,fh=readOrb(orb)\n",
    "    a=np.nonzero(pType==2)\n",
    "    convPixelsL.append(len(a[0]))\n",
    "    fname=orb.split(\"/\")[-1]\n",
    "    totalRainL.append(np.sum(sfcPrecip[a]))\n",
    "    d[fname]=(len(a[0]),np.sum(sfcPrecip[a]))"
   ]
  },
  {
   "cell_type": "code",
   "execution_count": 33,
   "metadata": {},
   "outputs": [
    {
     "name": "stdout",
     "output_type": "stream",
     "text": [
      "60\n",
      "(741, 49, 176)\n"
     ]
    }
   ],
   "source": [
    "#h1=plt.hist(convPixelsL,bins=100)\n",
    "a=np.nonzero(np.array(convPixelsL)>700)\n",
    "print(len(a[0]))\n",
    "orbL=np.array(orbL)\n",
    "for f1 in orbL[a[0]]:\n",
    "    sfcPrecip,hzero,pType,stormTop,bzd,zku,zka,bcf,precipRate,bsfc,piah,fh=readOrb(f1)\n",
    "    n=zku.shape[0]\n",
    "    n3=n//3\n",
    "    for k in range(3):\n",
    "        plt.subplot(3,2,2*k+1)\n",
    "        plt.pcolormesh(zku[k*n3:k*n3+n3,24,:].T,vmin=0,vmax=50,cmap=\"jet\")\n",
    "    #plt.pcolormesh(sfcPrecip.T,vmin=0,vmax=50,cmap=\"jet\")\n",
    "        plt.ylim(175,50)\n",
    "        plt.subplot(3,2,2*k+2)\n",
    "        plt.pcolormesh(zka[k*n3:k*n3+n3,24,:].T,vmin=0,vmax=30,cmap=\"jet\")\n",
    "    #plt.pcolormesh(sfcPrecip.T,vmin=0,vmax=50,cmap=\"jet\")\n",
    "        plt.ylim(175,50)\n",
    "    plt.savefig(f1.split(\"/\")[-1]+\".png\")\n",
    "    plt.close('all')\n",
    "print(zku.shape)"
   ]
  },
  {
   "cell_type": "code",
   "execution_count": 4,
   "metadata": {},
   "outputs": [],
   "source": [
    "import netCDF4 as nc\n",
    "def readCMB(fname): # reads relevant data from the CMB file\n",
    "    fh_cmb=nc.Dataset(fname)\n",
    "    dZ=0 # offset between the CMB and DPR\n",
    "    qv=fh_cmb[\"KuKaGMI/vaporDensity\"][:,:,:]\n",
    "    press=fh_cmb[\"KuKaGMI/airPressure\"][:,:,:]\n",
    "    envNodes=fh_cmb[\"KuKaGMI/envParamNode\"][:,:,:]\n",
    "    airTemp=fh_cmb[\"KuKaGMI/airTemperature\"][:,:,:]\n",
    "    #skTemp=fh_cmb[\"KuKaGMI/skinTemperature\"][:,:]\n",
    "    binNodes=fh_cmb[\"KuKaGMI/phaseBinNodes\"][:,:]\n",
    "    pwc=fh_cmb[\"KuKaGMI/precipTotWaterCont\"][:,:,:]\n",
    "    #sfcEmiss=fh_cmb[\"KuKaGMI/surfEmissivity\"][:,:,:]\n",
    "    dm=fh_cmb[\"KuKaGMI/precipTotDm\"][:,:,:]\n",
    "    #cldw=fh_cmb[\"KuKaGMI/cloudLiqWaterCont\"][:,:,:]\n",
    "    sfcBin=fh_cmb[\"KuKaGMI/Input/surfaceRangeBin\"][:,:,:]\n",
    "    zCorrected=fh_cmb[\"KuGMI/correctedReflectFactor\"][:,:,:]+dZ\n",
    "    #pType=fh_cmb[\"KuKaGMI/Input/precipitationType\"][:,:]\n",
    "    #lon=fh_cmb[\"KuKaGMI/Longitude\"][:,:]\n",
    "    #lat=fh_cmb[\"KuKaGMI/Latitude\"][:,:]\n",
    "    return qv,press,envNodes,airTemp,binNodes,pwc,dm,sfcBin,zCorrected,pType"
   ]
  },
  {
   "cell_type": "code",
   "execution_count": 14,
   "metadata": {},
   "outputs": [],
   "source": [
    "ic=0\n",
    "cfadKu=np.zeros((100,40))\n",
    "cfadKa=np.zeros((100,40))\n",
    "zku9L=[]\n",
    "zka9L=[]\n",
    "precipRate9L=[]\n",
    "bzd9L=[]\n",
    "bcf9L=[]\n",
    "pType9L=[]\n",
    "bsfc9L=[]\n",
    "piah9L=[]\n",
    "zCorrected9L=[]\n",
    "dm9L=[]\n",
    "binNodes9L=[]\n",
    "qvL=[]\n",
    "pressL=[]\n",
    "envNodesL=[]\n",
    "airTempL=[]\n",
    "for f1 in orbL[:]:\n",
    "    sfcPrecip,hzero,pType,stormTop,bzd,zku,zka,bcf,precipRate,bsfc,piah,fh=readOrb(f1)\n",
    "    fname=f1.replace(\"DPR.V9-20211125\",\"DPRGMI.CORRA2022\")\n",
    "    fname=fname.replace(\"2A-CS-\",\"2B-CS-\")\n",
    "    if fname not in cmbOrbL:\n",
    "        continue\n",
    "    qv,press,envNodes,airTemp,binNodes,pwc,dm,sfcBin,zCorrected,pTypeCMB=readCMB(fname)\n",
    "\n",
    "    ac=np.nonzero(pType==2)\n",
    "    n=zku.shape[0]\n",
    "    n1=zCorrected.shape[0]\n",
    "    if n1!=n:\n",
    "        print(\"mismatch\")\n",
    "        #continue\n",
    "        break\n",
    "    for i1,j1 in zip(ac[0],ac[1]):\n",
    "        if hzero[i1,j1]>3500 and bcf[i1,j1]-bzd[i1,j1]>24 and stormTop[i1,j1]>4000:\n",
    "            if i1>3 and i1<n-3 and j1>3 and j1<49-3:\n",
    "                zCorrected9L.append(zCorrected[i1-3:i1+4,j1-3:j1+4,:])\n",
    "                dm9L.append(dm[i1-3:i1+4,j1-3:j1+4,:])\n",
    "                binNodes9L.append(binNodes[i1-3:i1+4,j1-3:j1+4,:])\n",
    "                zku9L.append(zku[i1-3:i1+4,j1-3:j1+4,:])\n",
    "                zka9L.append(zka[i1-3:i1+4,j1-3:j1+4,:])\n",
    "                precipRate9L.append(precipRate[i1-3:i1+4,j1-3:j1+4])\n",
    "                bzd9L.append(bzd[i1-3:i1+4,j1-3:j1+4])\n",
    "                bcf9L.append(bcf[i1-3:i1+4,j1-3:j1+4])\n",
    "                pType9L.append(pType[i1-3:i1+4,j1-3:j1+4])\n",
    "                bsfc9L.append(bsfc[i1-3:i1+4,j1-3:j1+4,:])\n",
    "                piah9L.append(piah[i1-3:i1+4,j1-3:j1+4,:])\n",
    "                qvL.append(qv[i1-3:i1+4,j1-3:j1+4,:])\n",
    "                pressL.append(press[i1-3:i1+4,j1-3:j1+4,:])\n",
    "                envNodesL.append(envNodes[i1-3:i1+4,j1-3:j1+4,:])\n",
    "                airTempL.append(airTemp[i1-3:i1+4,j1-3:j1+4,:])\n",
    "            ic+=1\n",
    "            for k in range(bzd[i1,j1]-66,min(bzd[i1,j1]+34,bcf[i1,j1])):\n",
    "                if zku[i1,j1,k]>12:\n",
    "                    iz=int(zku[i1,j1,k])-12\n",
    "                    if iz > 39:\n",
    "                        iz=39\n",
    "                    cfadKu[k-(bzd[i1,j1]-66),iz]+=1\n",
    "                if zka[i1,j1,k]>12:\n",
    "                    iz=int(zka[i1,j1,k])-12\n",
    "                    if iz > 39:\n",
    "                        iz=39\n",
    "                    cfadKa[k-(bzd[i1,j1]-66),iz]+=1"
   ]
  },
  {
   "cell_type": "code",
   "execution_count": 8,
   "metadata": {},
   "outputs": [
    {
     "name": "stdout",
     "output_type": "stream",
     "text": [
      "/Users/mgrecu/GPM/ORO_old/2A-CS/2A-CS-CONUS.GPM.DPR.V9-20211125.20191021-S060735-E061606.032071.V07A.HDF5\n",
      "/Users/mgrecu/GPM/ORO_old/2A-CS/2B-CS-CONUS.GPM.DPRGMI.CORRA2022.20191021-S060735-E061606.032071.V07A.HDF5\n"
     ]
    }
   ],
   "source": [
    "print(f1)\n",
    "print(fname)\n"
   ]
  },
  {
   "cell_type": "code",
   "execution_count": 9,
   "metadata": {},
   "outputs": [
    {
     "name": "stdout",
     "output_type": "stream",
     "text": [
      "(732, 49, 2)\n",
      "(33739, 7, 7, 88)\n"
     ]
    }
   ],
   "source": [
    "print(fh[\"FS/PRE/binRealSurface\"].shape)\n",
    "print(np.array(zCorrected9L).shape)"
   ]
  },
  {
   "cell_type": "code",
   "execution_count": 15,
   "metadata": {},
   "outputs": [],
   "source": [
    "import xarray as xr \n",
    "zku9=xr.DataArray(np.array(zku9L),dims=['nt','n7','n7','nBins'])\n",
    "zka9=xr.DataArray(np.array(zka9L),dims=['nt','n7','n7','nBins'])\n",
    "precipRate9=xr.DataArray(np.array(precipRate9L),dims=['nt','n7','n7','nBins'])\n",
    "bzd9=xr.DataArray(np.array(bzd9L),dims=['nt','n7','n7'])\n",
    "bcf9=xr.DataArray(np.array(bcf9L),dims=['nt','n7','n7'])\n",
    "pType9=xr.DataArray(np.array(pType9L),dims=['nt','n7','n7'])\n",
    "bsfc9=xr.DataArray(np.array(bsfc9L),dims=['nt','n7','n7','n2'])\n",
    "piah9=xr.DataArray(np.array(piah9L),dims=['nt','n7','n7','n2'])\n",
    "zCorrected9=xr.DataArray(np.array(zCorrected9L),dims=['nt','n7','n7','nBins2'])\n",
    "dm9=xr.DataArray(np.array(dm9L),dims=['nt','n7','n7','nBins2'])\n",
    "binNodes9=xr.DataArray(np.array(binNodes9L),dims=['nt','n7','n7','n5'])\n",
    "qv=xr.DataArray(np.array(qvL),dims=['nt','n7','n7','n10'])\n",
    "press=xr.DataArray(np.array(pressL),dims=['nt','n7','n7','n10'])\n",
    "envNodes=xr.DataArray(np.array(envNodesL),dims=['nt','n7','n7','n10'])\n",
    "airTemp=xr.DataArray(np.array(airTempL),dims=['nt','n7','n7','n10'])\n"
   ]
  },
  {
   "cell_type": "code",
   "execution_count": 11,
   "metadata": {},
   "outputs": [
    {
     "name": "stdout",
     "output_type": "stream",
     "text": [
      "(33739, 7, 7, 176)\n",
      "(33739, 7, 7, 176)\n",
      "(33739, 7, 7, 176)\n",
      "(33739, 7, 7)\n"
     ]
    }
   ],
   "source": [
    "print(zku9.shape)\n",
    "print(zka9.shape)\n",
    "print(precipRate9.shape)\n",
    "print(bzd9.shape)"
   ]
  },
  {
   "cell_type": "code",
   "execution_count": 16,
   "metadata": {},
   "outputs": [],
   "source": [
    "\n",
    "ds=xr.Dataset({'zku':zku9,'zka':zka9,'precipRate':precipRate9,'bzd':bzd9,'bcf':bcf9,'pType':pType9,\\\n",
    "               'bsfc':bsfc9,'piah':piah9,'zCorrected':zCorrected9,'dm':dm9,'binNodes':binNodes9,\\\n",
    "                'qv':qv,'press':press,'envNodes':envNodes,'airTemp':airTemp})\n"
   ]
  },
  {
   "cell_type": "code",
   "execution_count": 19,
   "metadata": {},
   "outputs": [],
   "source": [
    "\n",
    "ds.to_netcdf(\"convectProfiles.nc\",encoding={'zku':{'zlib':True,'complevel':5},'zka':{'zlib':True,'complevel':5},\\\n",
    "                                            'precipRate':{'zlib':True,'complevel':5},'bzd':{'zlib':True,'complevel':5},\\\n",
    "                                            'bcf':{'zlib':True,'complevel':5},'pType':{'zlib':True,'complevel':5},\\\n",
    "                                            'bsfc':{'zlib':True,'complevel':5},'piah':{'zlib':True,'complevel':5},\\\n",
    "                                            'zCorrected':{'zlib':True,'complevel':5},\\\n",
    "                                            'dm':{'zlib':True,'complevel':5},'binNodes':{'zlib':True,'complevel':5},\\\n",
    "                                            'qv':{'zlib':True,'complevel':5},'press':{'zlib':True,'complevel':5},\\\n",
    "                                            'envNodes':{'zlib':True,'complevel':5},'airTemp':{'zlib':True,'complevel':5}})\n"
   ]
  },
  {
   "cell_type": "code",
   "execution_count": 102,
   "metadata": {},
   "outputs": [
    {
     "name": "stdout",
     "output_type": "stream",
     "text": [
      "35707\n"
     ]
    },
    {
     "data": {
      "image/png": "[encoded data removed]",
      "text/plain": [
       "<Figure size 640x480 with 4 Axes>"
      ]
     },
     "metadata": {},
     "output_type": "display_data"
    }
   ],
   "source": [
    "# save the cfadKu and cfadKa in netcdf format\n",
    "import xarray as xr\n",
    "ds=xr.Dataset({'cfadKu':xr.DataArray(cfadKu,dims=['nBins','nZ']),'cfadKa':xr.DataArray(cfadKa,dims=['nBins','nZ'])})\n",
    "ds.to_netcdf(\"cfadDbz.nc\",encoding={'cfadKu':{'zlib':True,'complevel':9},'cfadKa':{'zlib':True,'complevel':9}})\n",
    "from matplotlib.colors import LogNorm\n",
    "plt.subplot(1,2,1)\n",
    "plt.pcolormesh(12+np.arange(40),arange(100)-66,cfadKu,cmap=\"jet\",norm=LogNorm())\n",
    "plt.title('CFAD Ku')\n",
    "plt.ylabel('Relative range')\n",
    "plt.xlabel('dBZ')\n",
    "plt.ylim(34,-66)\n",
    "plt.xlim(10,50)\n",
    "plt.colorbar(orientation=\"horizontal\",shrink=0.95,label=\"Number of pixels\")\n",
    "plt.subplot(1,2,2)\n",
    "plt.title('CFAD Ka')\n",
    "plt.pcolormesh(12+np.arange(40),arange(100)-66,cfadKa,cmap=\"jet\",norm=LogNorm())\n",
    "plt.ylim(34,-66)\n",
    "plt.xlabel('dBZ')\n",
    "#plt.ylabel('Relative range')\n",
    "plt.xlim(10,40)\n",
    "plt.colorbar(orientation=\"horizontal\",shrink=0.95,label=\"Number of pixels\")\n",
    "plt.savefig(\"cfadDbz.png\")\n",
    "print(ic)"
   ]
  },
  {
   "cell_type": "code",
   "execution_count": 56,
   "metadata": {},
   "outputs": [
    {
     "name": "stdout",
     "output_type": "stream",
     "text": [
      "[[-- -- -- ... -- -- --]\n",
      " [-- -- -- ... -- -- --]\n",
      " [-- -- -- ... -- -- --]\n",
      " ...\n",
      " [4018.7216796875 4883.18310546875 4848.7919921875 ... -- -- --]\n",
      " [4387.56640625 5162.22607421875 5206.08447265625 ... -- -- --]\n",
      " [4874.67333984375 5173.72705078125 6071.40185546875 ... -- -- --]]\n"
     ]
    }
   ],
   "source": [
    "print(stormTop)"
   ]
  }
 ],
 "metadata": {
  "kernelspec": {
   "display_name": "base",
   "language": "python",
   "name": "python3"
  },
  "language_info": {
   "codemirror_mode": {
    "name": "ipython",
    "version": 3
   },
   "file_extension": ".py",
   "mimetype": "text/x-python",
   "name": "python",
   "nbconvert_exporter": "python",
   "pygments_lexer": "ipython3",
   "version": "3.9.13"
  },
  "orig_nbformat": 4
 },
 "nbformat": 4,
 "nbformat_minor": 2
}
