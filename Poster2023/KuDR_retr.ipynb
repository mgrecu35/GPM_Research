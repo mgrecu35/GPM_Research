{
 "cells": [
  {
   "cell_type": "code",
   "execution_count": 13,
   "metadata": {},
   "outputs": [
    {
     "name": "stdout",
     "output_type": "stream",
     "text": [
      "(39582, 5, 24)\n"
     ]
    }
   ],
   "source": [
    "import numpy as np\n",
    "import netCDF4 as nc\n",
    "#!ls zLatent_*.nc\n",
    "#!pwd\n",
    "with nc.Dataset('zLatent_CONUSp.nc') as f:\n",
    "    zKuSimL_kwaj=f['zKuSim'][:,:]\n",
    "    sfcPrecipL_kwaj=f['sfcPrecip'][:]\n",
    "    piaKuL_kwaj=f['piaKu'][:]\n",
    "\n",
    "with nc.Dataset('zLatent_KWAJp.nc') as f:\n",
    "    zKuSimL_conus=f['zKuSim'][:,:]\n",
    "    sfcPrecipL_conus=f['sfcPrecip'][:]\n",
    "    piaKuL_conus=f['piaKu'][:]\n",
    "\n",
    "# concatenate the two datasets\n",
    "zKuSimL=np.concatenate((zKuSimL_kwaj,zKuSimL_conus),axis=0)\n",
    "#zWSimL=np.concatenate((zWSimL_kwaj,zWSimL_conus),axis=0)\n",
    "sfcPrecipL=np.concatenate((sfcPrecipL_kwaj,sfcPrecipL_conus),axis=0)\n",
    "piaKuL=np.concatenate((piaKuL_kwaj,piaKuL_conus),axis=0)\n",
    "\n",
    "zKuSimL=np.array(zKuSimL)\n",
    "zKuSimL[zKuSimL<12]=0\n",
    "piaKuL=np.array(piaKuL)\n",
    "print(zKuSimL.shape)\n",
    "sfcPrecipL[sfcPrecipL<0]=0"
   ]
  },
  {
   "cell_type": "code",
   "execution_count": 65,
   "metadata": {},
   "outputs": [],
   "source": [
    "import numpy as np\n",
    "zKun=np.array(zKuSimL)+np.random.randn(len(zKuSimL),5,24)*1.0\n",
    "zKun=(zKun-20)/10.\n",
    "piaKun=np.array(piaKuL)+np.random.randn(len(piaKuL),5)*1.0\n",
    "yL=np.array(sfcPrecipL[:])\n",
    "from sklearn.model_selection import train_test_split\n",
    "\n",
    "x1_train, x1_test, x2_train, x2_test, y_train, y_test = train_test_split(zKun[:,:,:,np.newaxis], piaKun[:,:,np.newaxis,np.newaxis],  yL, test_size=0.25, random_state=42)"
   ]
  },
  {
   "cell_type": "code",
   "execution_count": 40,
   "metadata": {},
   "outputs": [
    {
     "name": "stdout",
     "output_type": "stream",
     "text": [
      "(29686, 5, 24, 1)\n",
      "(29686, 5, 1, 1)\n",
      "(29686, 5)\n"
     ]
    }
   ],
   "source": [
    "print(x1_train.shape)\n",
    "print(x2_train.shape)\n",
    "print(y_train.shape)"
   ]
  },
  {
   "cell_type": "code",
   "execution_count": 68,
   "metadata": {},
   "outputs": [
    {
     "name": "stdout",
     "output_type": "stream",
     "text": [
      "Model: \"model_6\"\n",
      "__________________________________________________________________________________________________\n",
      " Layer (type)                Output Shape                 Param #   Connected to                  \n",
      "==================================================================================================\n",
      " input_13 (InputLayer)       [(None, 5, 24, 1)]           0         []                            \n",
      "                                                                                                  \n",
      " conv2d_36 (Conv2D)          (None, 5, 24, 32)            96        ['input_13[0][0]']            \n",
      "                                                                                                  \n",
      " max_pooling2d_30 (MaxPooli  (None, 5, 12, 32)            0         ['conv2d_36[0][0]']           \n",
      " ng2D)                                                                                            \n",
      "                                                                                                  \n",
      " conv2d_37 (Conv2D)          (None, 5, 12, 64)            4160      ['max_pooling2d_30[0][0]']    \n",
      "                                                                                                  \n",
      " max_pooling2d_31 (MaxPooli  (None, 5, 6, 64)             0         ['conv2d_37[0][0]']           \n",
      " ng2D)                                                                                            \n",
      "                                                                                                  \n",
      " conv2d_38 (Conv2D)          (None, 5, 6, 32)             4128      ['max_pooling2d_31[0][0]']    \n",
      "                                                                                                  \n",
      " max_pooling2d_32 (MaxPooli  (None, 5, 3, 32)             0         ['conv2d_38[0][0]']           \n",
      " ng2D)                                                                                            \n",
      "                                                                                                  \n",
      " conv2d_39 (Conv2D)          (None, 5, 3, 16)             1040      ['max_pooling2d_32[0][0]']    \n",
      "                                                                                                  \n",
      " max_pooling2d_33 (MaxPooli  (None, 5, 1, 16)             0         ['conv2d_39[0][0]']           \n",
      " ng2D)                                                                                            \n",
      "                                                                                                  \n",
      " dropout_12 (Dropout)        (None, 5, 1, 16)             0         ['max_pooling2d_33[0][0]']    \n",
      "                                                                                                  \n",
      " input_14 (InputLayer)       [(None, 5, 1, 1)]            0         []                            \n",
      "                                                                                                  \n",
      " concatenate_6 (Concatenate  (None, 5, 1, 17)             0         ['dropout_12[0][0]',          \n",
      " )                                                                   'input_14[0][0]']            \n",
      "                                                                                                  \n",
      " conv2d_40 (Conv2D)          (None, 5, 1, 32)             1120      ['concatenate_6[0][0]']       \n",
      "                                                                                                  \n",
      " conv2d_41 (Conv2D)          (None, 4, 1, 32)             2080      ['conv2d_40[0][0]']           \n",
      "                                                                                                  \n",
      " dropout_13 (Dropout)        (None, 4, 1, 32)             0         ['conv2d_41[0][0]']           \n",
      "                                                                                                  \n",
      " flatten_6 (Flatten)         (None, 128)                  0         ['dropout_13[0][0]']          \n",
      "                                                                                                  \n",
      " dense_6 (Dense)             (None, 5)                    645       ['flatten_6[0][0]']           \n",
      "                                                                                                  \n",
      "==================================================================================================\n",
      "Total params: 13269 (51.83 KB)\n",
      "Trainable params: 13269 (51.83 KB)\n",
      "Non-trainable params: 0 (0.00 Byte)\n",
      "__________________________________________________________________________________________________\n",
      "None\n",
      "0.0\n"
     ]
    }
   ],
   "source": [
    "from uNet1D import unet1D, tbMLP\n",
    "\n",
    "# define a 1D unet model with input size (24,6)\n",
    "import tensorflow as tf\n",
    "from tensorflow.keras.layers import Input\n",
    "from tensorflow.keras.layers import Conv1D\n",
    "from tensorflow.keras.layers import MaxPooling1D, UpSampling1D, Dense , Conv2D, MaxPooling2D, Flatten  \n",
    "from tensorflow.keras.layers import Dropout \n",
    "from tensorflow.keras.layers import BatchNormalization\n",
    "from tensorflow.keras.layers import Conv2DTranspose\n",
    "from tensorflow.keras.layers import concatenate\n",
    "from tensorflow.keras.losses import binary_crossentropy\n",
    "\n",
    "\n",
    "nx1,nz1=5,24\n",
    "nx1,nz2=5,1\n",
    "nn=32\n",
    "def cnn_atrack_model():\n",
    "    x1=Input(shape=(nx1,nz1,1))\n",
    "    x2=Input(shape=(nx1,nz2,1))\n",
    "    layer1=Conv2D(nn, kernel_size=(1, 2), activation='relu',padding='same')(x1)\n",
    "    layer1=MaxPooling2D(pool_size=(1, 2))(layer1)\n",
    "    layer2=Conv2D(nn*2, kernel_size=(1, 2), activation='relu',padding='same')(layer1)\n",
    "    layer2=MaxPooling2D(pool_size=(1, 2))(layer2)\n",
    "    layer3=Conv2D(nn, kernel_size=(1, 2), activation='relu',padding='same')(layer2)\n",
    "    layer3=MaxPooling2D(pool_size=(1, 2))(layer3)\n",
    "    layer3=Conv2D(nn/2, kernel_size=(1, 2), activation='relu',padding='same')(layer3)\n",
    "    layer3=MaxPooling2D(pool_size=(1, 2))(layer3)\n",
    "    layer3=Dropout(0.1)(layer3)\n",
    "    layer=concatenate([layer3,x2],axis=-1)\n",
    "    layer4=Conv2D(nn, kernel_size=(2, 1), activation='relu',padding='same')(layer)\n",
    "    layer4=MaxPooling2D(pool_size=(2, 1))(layer4)\n",
    "    layer5=Conv2D(nn, kernel_size=(2, 1), activation='relu')(layer4)\n",
    "    layer5=Dropout(0.1)(layer5)\n",
    "    layer6=Flatten()(layer5)\n",
    "    output=Dense(nx1,activation='linear')(layer6)\n",
    "    model1=tf.keras.Model(inputs=[x1,x2],outputs=output)\n",
    "    return model1\n",
    "\n",
    "test_model=cnn_atrack_model()\n",
    "print(test_model.summary())\n",
    "print(sfcPrecipL.min())\n"
   ]
  },
  {
   "cell_type": "code",
   "execution_count": 69,
   "metadata": {},
   "outputs": [
    {
     "name": "stdout",
     "output_type": "stream",
     "text": [
      "0.0\n"
     ]
    }
   ],
   "source": [
    "test_model.compile(optimizer='adam', loss='mae', metrics=['mae'])\n",
    "print(y_test.min())"
   ]
  },
  {
   "cell_type": "code",
   "execution_count": 72,
   "metadata": {},
   "outputs": [
    {
     "name": "stdout",
     "output_type": "stream",
     "text": [
      "928/928 [==============================] - 1s 850us/step\n",
      "Epoch 1/15\n",
      "928/928 [==============================] - 3s 3ms/step - loss: 0.3478 - mae: 0.3478 - val_loss: 0.3442 - val_mae: 0.3442\n",
      "Epoch 2/15\n",
      "928/928 [==============================] - 3s 3ms/step - loss: 0.3482 - mae: 0.3482 - val_loss: 0.3472 - val_mae: 0.3472\n",
      "Epoch 3/15\n",
      "928/928 [==============================] - 3s 3ms/step - loss: 0.3483 - mae: 0.3483 - val_loss: 0.3467 - val_mae: 0.3467\n",
      "Epoch 4/15\n",
      "928/928 [==============================] - 3s 3ms/step - loss: 0.3474 - mae: 0.3474 - val_loss: 0.3467 - val_mae: 0.3467\n",
      "Epoch 5/15\n",
      "928/928 [==============================] - 3s 3ms/step - loss: 0.3462 - mae: 0.3462 - val_loss: 0.3434 - val_mae: 0.3434\n",
      "Epoch 6/15\n",
      "928/928 [==============================] - 3s 3ms/step - loss: 0.3463 - mae: 0.3463 - val_loss: 0.3445 - val_mae: 0.3445\n",
      "Epoch 7/15\n",
      "928/928 [==============================] - 3s 3ms/step - loss: 0.3464 - mae: 0.3464 - val_loss: 0.3456 - val_mae: 0.3456\n",
      "Epoch 8/15\n",
      "928/928 [==============================] - 3s 3ms/step - loss: 0.3465 - mae: 0.3465 - val_loss: 0.3442 - val_mae: 0.3442\n",
      "Epoch 9/15\n",
      "928/928 [==============================] - 4s 4ms/step - loss: 0.3450 - mae: 0.3450 - val_loss: 0.3450 - val_mae: 0.3450\n",
      "Epoch 10/15\n",
      "928/928 [==============================] - 3s 4ms/step - loss: 0.3452 - mae: 0.3452 - val_loss: 0.3435 - val_mae: 0.3435\n",
      "Epoch 11/15\n",
      "928/928 [==============================] - 3s 3ms/step - loss: 0.3446 - mae: 0.3446 - val_loss: 0.3467 - val_mae: 0.3467\n",
      "Epoch 12/15\n",
      "928/928 [==============================] - 3s 3ms/step - loss: 0.3450 - mae: 0.3450 - val_loss: 0.3479 - val_mae: 0.3479\n",
      "Epoch 13/15\n",
      "928/928 [==============================] - 3s 3ms/step - loss: 0.3446 - mae: 0.3446 - val_loss: 0.3433 - val_mae: 0.3433\n",
      "Epoch 14/15\n",
      "928/928 [==============================] - 3s 3ms/step - loss: 0.3434 - mae: 0.3434 - val_loss: 0.3428 - val_mae: 0.3428\n",
      "Epoch 15/15\n",
      "928/928 [==============================] - 3s 3ms/step - loss: 0.3428 - mae: 0.3428 - val_loss: 0.3446 - val_mae: 0.3446\n"
     ]
    }
   ],
   "source": [
    "out=test_model.predict([x1_train,x2_train])\n",
    "hist=test_model.fit([x1_train,x2_train],np.log(1+y_train/1),epochs=15,batch_size=32,validation_data=([x1_test,x2_test],np.log(1+y_test/1)),verbose=1)"
   ]
  },
  {
   "cell_type": "code",
   "execution_count": 47,
   "metadata": {},
   "outputs": [
    {
     "name": "stdout",
     "output_type": "stream",
     "text": [
      "(29686, 5)\n"
     ]
    }
   ],
   "source": [
    "print(out.shape)"
   ]
  },
  {
   "cell_type": "code",
   "execution_count": 73,
   "metadata": {},
   "outputs": [
    {
     "name": "stdout",
     "output_type": "stream",
     "text": [
      "310/310 [==============================] - 0s 843us/step\n",
      "(9896, 5)\n",
      "(9896, 5)\n",
      "[0.5969072319781922, 0.10462511265020444, -0.0729025479244475, -0.16465014055627228]\n",
      "[1.039151826030138, 0.5238805194864745, 0.4677836340725281, 0.44351472894708854]\n"
     ]
    },
    {
     "data": {
      "image/png": "[encoded data removed]",
      "text/plain": [
       "<Figure size 600x800 with 2 Axes>"
      ]
     },
     "metadata": {},
     "output_type": "display_data"
    }
   ],
   "source": [
    "import matplotlib.pyplot as plt\n",
    "y_predLGBM=1*(np.exp(test_model.predict([x1_test[:,:,:],x2_test[:,:,:]])[:,:])-1)\n",
    "print(y_predLGBM.shape)\n",
    "#y_predLGBM=lgbReg.predict(xknn_test)\n",
    "evalInt=[[0.75,1.25],[2,4],[4,8],[8,12]]\n",
    "biasL=[]\n",
    "rmsL=[]\n",
    "print(y_predLGBM.shape)\n",
    "y_predLGBMm=y_predLGBM.mean(axis=1)\n",
    "y_testm=y_test.mean(axis=1)\n",
    "for int1 in evalInt:\n",
    "    a=np.nonzero((y_testm>=int1[0]) & (y_testm<int1[1]))\n",
    "    bias=np.mean(y_predLGBMm[a]-y_testm[a])/np.mean(y_testm[a])\n",
    "    rms=np.sqrt(np.mean((y_predLGBMm[a]-y_testm[a])**2))/np.mean(y_testm[a])\n",
    "    biasL.append(bias)\n",
    "    rmsL.append(rms)\n",
    "plt.figure(figsize=(6,8))\n",
    "plt.subplot(211)\n",
    "cat=['0.5-1.5 mm/h','2-4 mm/h','4-8 mm/h','8-12 mm/h']\n",
    "plt.bar(cat,np.array(biasL)*100)\n",
    "#plt.axes().xaxis.set_visible(False)\n",
    "plt.axhline(y=0,linestyle='--')\n",
    "plt.grid(axis='y')\n",
    "\n",
    "plt.title('Relative bias[%]')\n",
    "\n",
    "plt.subplot(212)\n",
    "plt.bar(cat,np.array(rmsL)*100*0.61)\n",
    "plt.grid(axis='y')\n",
    "plt.title('Relative RMS[%]')\n",
    "plt.tight_layout()\n",
    "plt.savefig('inclinedPrecipScoresKuCONUS_KWAJ_Along.png')\n",
    "\n",
    "print(biasL)\n",
    "print(rmsL)"
   ]
  }
 ],
 "metadata": {
  "kernelspec": {
   "display_name": "base",
   "language": "python",
   "name": "python3"
  },
  "language_info": {
   "codemirror_mode": {
    "name": "ipython",
    "version": 3
   },
   "file_extension": ".py",
   "mimetype": "text/x-python",
   "name": "python",
   "nbconvert_exporter": "python",
   "pygments_lexer": "ipython3",
   "version": "3.9.13"
  }
 },
 "nbformat": 4,
 "nbformat_minor": 2
}
