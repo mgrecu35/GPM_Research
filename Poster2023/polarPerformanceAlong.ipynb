{
 "cells": [
  {
   "cell_type": "code",
   "execution_count": 73,
   "metadata": {},
   "outputs": [
    {
     "name": "stdout",
     "output_type": "stream",
     "text": [
      "(39582, 5, 21)\n"
     ]
    }
   ],
   "source": [
    "import netCDF4 as nc\n",
    "import numpy as np\n",
    "import matplotlib.pyplot as plt\n",
    "\n",
    "with nc.Dataset('zLatent_KWAJp.nc') as f:\n",
    "    zLatent_kwaj=f['zLatent'][:,:]\n",
    "    zWSimL_kwaj=f['zWSim'][:,:]\n",
    "    zKaSimL_kwaj=f['zKaSim'][:,:]\n",
    "    sfcPrecipL_kwaj=f['sfcPrecip'][:]\n",
    "    piaKaL_kwaj=f['piaKa'][:]\n",
    "\n",
    "with nc.Dataset('zLatent_CONUSp.nc') as f:\n",
    "    zLatent_conus=f['zLatent'][:,:]\n",
    "    zWSimL_conus=f['zWSim'][:,:]\n",
    "    zKaSimL_conus=f['zKaSim'][:,:]\n",
    "    sfcPrecipL_conus=f['sfcPrecip'][:]\n",
    "    piaKaL_conus=f['piaKa'][:]\n",
    "\n",
    "# concatenate the two datasets\n",
    "zLatentL=np.concatenate((zLatent_kwaj,zLatent_conus),axis=0)\n",
    "sfcPrecipL=np.concatenate((sfcPrecipL_kwaj,sfcPrecipL_conus),axis=0)\n",
    "piaKaL=np.concatenate((piaKaL_kwaj,piaKaL_conus),axis=0)\n",
    "zWSimL=np.concatenate((zWSimL_kwaj,zWSimL_conus),axis=0)\n",
    "zKaSimL=np.concatenate((zKaSimL_kwaj,zKaSimL_conus),axis=0)\n",
    "print(zKaSimL.shape)\n",
    "\n",
    "\n"
   ]
  },
  {
   "cell_type": "code",
   "execution_count": 102,
   "metadata": {},
   "outputs": [
    {
     "name": "stdout",
     "output_type": "stream",
     "text": [
      "(39582, 42)\n",
      "(39582, 5)\n"
     ]
    }
   ],
   "source": [
    "zKaLn=np.array(zKaSimL)+np.random.normal(0,1.0,zKaSimL.shape)\n",
    "zWLn=np.array(zWSimL)+np.random.normal(0,1.0,zWSimL.shape)\n",
    "zKaLn[zKaLn<12]=0\n",
    "zWLn[zWLn<-10]=-10\n",
    "xZ=np.concatenate([(zKaLn[:,1,-21:]-20)/10,(zWLn[:,1,-21:]-10)/10],axis=1)\n",
    "piaKan=np.array(piaKaL)+np.random.randn(len(piaKaL),5)*2.0\n",
    "xL=np.concatenate([zLatentL,piaKan[:,:,np.newaxis]/10],axis=-1)\n",
    "print(xZ.shape)\n",
    "print(piaKan.shape)\n",
    "xLknn=np.concatenate([xZ,piaKan[:,1:2]/10],axis=-1)\n",
    "yL=np.array(sfcPrecipL)\n",
    "from sklearn.model_selection import train_test_split\n",
    "\n",
    "x1_train, x1_test, x2_train, x2_test, xknn_train, xknn_test, y_train, y_test = train_test_split(zLatentL[:,:,:,np.newaxis], piaKan[:,:,np.newaxis,np.newaxis], xLknn, yL, test_size=0.25, random_state=42)\n",
    "\n",
    "from sklearn.neighbors import KNeighborsRegressor\n",
    "\n",
    "\n"
   ]
  },
  {
   "cell_type": "code",
   "execution_count": 76,
   "metadata": {},
   "outputs": [
    {
     "name": "stdout",
     "output_type": "stream",
     "text": [
      "[LightGBM] [Warning] Auto-choosing col-wise multi-threading, the overhead of testing was 0.003185 seconds.\n",
      "You can set `force_col_wise=true` to remove the overhead.\n",
      "[LightGBM] [Info] Total Bins 10965\n",
      "[LightGBM] [Info] Number of data points in the train set: 19791, number of used features: 43\n",
      "[LightGBM] [Info] Start training from score 6.354514\n"
     ]
    }
   ],
   "source": [
    "neigh = KNeighborsRegressor(n_neighbors=60,weights='distance')\n",
    "import lightgbm as lgb\n",
    "neigh.fit(xknn_train, y_train)\n",
    "lgbReg=lgb.LGBMRegressor(n_estimators=500,learning_rate=0.01)\n",
    "lgbReg.fit(xknn_train,y_train)\n",
    "y_pred=neigh.predict(xknn_test)\n",
    "y_predLGBM=lgbReg.predict(xknn_test)"
   ]
  },
  {
   "cell_type": "code",
   "execution_count": null,
   "metadata": {},
   "outputs": [],
   "source": [
    "print(x1_train.shape)\n",
    "print(x2_train.shape)\n",
    "\n",
    "# define 2d cnn model\n",
    "from keras.models import Sequential\n",
    "from keras.layers import Dense, Dropout, Flatten, Conv2D, MaxPooling2D, Input, concatenate\n",
    "from keras.models import Model\n",
    "from keras.optimizers import Adam\n",
    "\n",
    "# define two sets of inputs\n",
    "def cnn_model():\n",
    "    # get input1 and input2 in x1 and x2\n",
    "    x1=Input(shape=(x1_train.shape[1],x1_train.shape[2],1))\n",
    "    x2=Input(shape=(x2_train.shape[1],x2_train.shape[2],1))\n",
    "    layer1=Conv2D(32, kernel_size=(1, 2), activation='relu')(x1)\n",
    "    layer1=MaxPooling2D(pool_size=(1, 2))(layer1)\n",
    "    layer2=Conv2D(32, kernel_size=(1, 2), activation='relu')(layer1)\n",
    "    layer2=MaxPooling2D(pool_size=(1, 2))(layer2)\n",
    "    layer3=Conv2D(32, kernel_size=(1, 2), activation='linear')(layer2)\n",
    "    layer3=MaxPooling2D(pool_size=(1, 2))(layer3)\n",
    "    layer=concatenate([layer3,x2],axis=-1)\n",
    "    return Model(inputs=[x1,x2],outputs=layer)\n",
    "\n",
    "model=cnn_model()\n"
   ]
  },
  {
   "cell_type": "code",
   "execution_count": 95,
   "metadata": {},
   "outputs": [
    {
     "name": "stdout",
     "output_type": "stream",
     "text": [
      "Model: \"model_19\"\n",
      "__________________________________________________________________________________________________\n",
      " Layer (type)                Output Shape                 Param #   Connected to                  \n",
      "==================================================================================================\n",
      " input_48 (InputLayer)       [(None, 5, 8, 1)]            0         []                            \n",
      "                                                                                                  \n",
      " conv2d_85 (Conv2D)          (None, 5, 8, 32)             96        ['input_48[0][0]']            \n",
      "                                                                                                  \n",
      " max_pooling2d_69 (MaxPooli  (None, 5, 4, 32)             0         ['conv2d_85[0][0]']           \n",
      " ng2D)                                                                                            \n",
      "                                                                                                  \n",
      " conv2d_86 (Conv2D)          (None, 5, 4, 32)             2080      ['max_pooling2d_69[0][0]']    \n",
      "                                                                                                  \n",
      " max_pooling2d_70 (MaxPooli  (None, 5, 2, 32)             0         ['conv2d_86[0][0]']           \n",
      " ng2D)                                                                                            \n",
      "                                                                                                  \n",
      " conv2d_87 (Conv2D)          (None, 5, 2, 4)              260       ['max_pooling2d_70[0][0]']    \n",
      "                                                                                                  \n",
      " max_pooling2d_71 (MaxPooli  (None, 5, 1, 4)              0         ['conv2d_87[0][0]']           \n",
      " ng2D)                                                                                            \n",
      "                                                                                                  \n",
      " dropout (Dropout)           (None, 5, 1, 4)              0         ['max_pooling2d_71[0][0]']    \n",
      "                                                                                                  \n",
      " input_49 (InputLayer)       [(None, 5, 1, 1)]            0         []                            \n",
      "                                                                                                  \n",
      " concatenate_11 (Concatenat  (None, 5, 1, 5)              0         ['dropout[0][0]',             \n",
      " e)                                                                  'input_49[0][0]']            \n",
      "                                                                                                  \n",
      " conv2d_88 (Conv2D)          (None, 5, 1, 32)             352       ['concatenate_11[0][0]']      \n",
      "                                                                                                  \n",
      " max_pooling2d_72 (MaxPooli  (None, 2, 1, 32)             0         ['conv2d_88[0][0]']           \n",
      " ng2D)                                                                                            \n",
      "                                                                                                  \n",
      " conv2d_89 (Conv2D)          (None, 1, 1, 32)             2080      ['max_pooling2d_72[0][0]']    \n",
      "                                                                                                  \n",
      " dropout_1 (Dropout)         (None, 1, 1, 32)             0         ['conv2d_89[0][0]']           \n",
      "                                                                                                  \n",
      " flatten_5 (Flatten)         (None, 32)                   0         ['dropout_1[0][0]']           \n",
      "                                                                                                  \n",
      " dense_5 (Dense)             (None, 1)                    33        ['flatten_5[0][0]']           \n",
      "                                                                                                  \n",
      "==================================================================================================\n",
      "Total params: 4901 (19.14 KB)\n",
      "Trainable params: 4901 (19.14 KB)\n",
      "Non-trainable params: 0 (0.00 Byte)\n",
      "__________________________________________________________________________________________________\n",
      "None\n"
     ]
    }
   ],
   "source": [
    "def cnn_atrack_model():\n",
    "    x1=Input(shape=(x1_train.shape[1],x1_train.shape[2],1))\n",
    "    x2=Input(shape=(x2_train.shape[1],x2_train.shape[2],1))\n",
    "    layer1=Conv2D(32, kernel_size=(1, 2), activation='relu',padding='same')(x1)\n",
    "    layer1=MaxPooling2D(pool_size=(1, 2))(layer1)\n",
    "    layer2=Conv2D(32, kernel_size=(1, 2), activation='relu',padding='same')(layer1)\n",
    "    layer2=MaxPooling2D(pool_size=(1, 2))(layer2)\n",
    "    layer3=Conv2D(4, kernel_size=(1, 2), activation='linear',padding='same')(layer2)\n",
    "    layer3=MaxPooling2D(pool_size=(1, 2))(layer3)\n",
    "    layer3=Dropout(0.1)(layer3)\n",
    "    layer=concatenate([layer3,x2],axis=-1)\n",
    "    layer4=Conv2D(32, kernel_size=(2, 1), activation='relu',padding='same')(layer)\n",
    "    layer4=MaxPooling2D(pool_size=(2, 1))(layer4)\n",
    "    layer5=Conv2D(32, kernel_size=(2, 1), activation='relu')(layer4)\n",
    "    layer5=Dropout(0.1)(layer5)\n",
    "    layer6=Flatten()(layer5)\n",
    "    output=Dense(1,activation='linear')(layer6)\n",
    "    model1=Model(inputs=[x1,x2],outputs=output)\n",
    "    return model1\n",
    "\n",
    "test_model=cnn_atrack_model()\n",
    "print(test_model.summary())\n"
   ]
  },
  {
   "cell_type": "code",
   "execution_count": 53,
   "metadata": {},
   "outputs": [
    {
     "name": "stdout",
     "output_type": "stream",
     "text": [
      "Model: \"model_16\"\n",
      "__________________________________________________________________________________________________\n",
      " Layer (type)                Output Shape                 Param #   Connected to                  \n",
      "==================================================================================================\n",
      " input_40 (InputLayer)       [(None, 1, 8, 1)]            0         []                            \n",
      "                                                                                                  \n",
      " conv2d_69 (Conv2D)          (None, 1, 8, 32)             96        ['input_40[0][0]']            \n",
      "                                                                                                  \n",
      " max_pooling2d_55 (MaxPooli  (None, 1, 4, 32)             0         ['conv2d_69[0][0]']           \n",
      " ng2D)                                                                                            \n",
      "                                                                                                  \n",
      " conv2d_70 (Conv2D)          (None, 1, 4, 32)             2080      ['max_pooling2d_55[0][0]']    \n",
      "                                                                                                  \n",
      " max_pooling2d_56 (MaxPooli  (None, 1, 2, 32)             0         ['conv2d_70[0][0]']           \n",
      " ng2D)                                                                                            \n",
      "                                                                                                  \n",
      " conv2d_71 (Conv2D)          (None, 1, 2, 16)             1040      ['max_pooling2d_56[0][0]']    \n",
      "                                                                                                  \n",
      " max_pooling2d_57 (MaxPooli  (None, 1, 1, 16)             0         ['conv2d_71[0][0]']           \n",
      " ng2D)                                                                                            \n",
      "                                                                                                  \n",
      " input_41 (InputLayer)       [(None, 1, 1, 1)]            0         []                            \n",
      "                                                                                                  \n",
      " concatenate_7 (Concatenate  (None, 1, 1, 17)             0         ['max_pooling2d_57[0][0]',    \n",
      " )                                                                   'input_41[0][0]']            \n",
      "                                                                                                  \n",
      " flatten_2 (Flatten)         (None, 17)                   0         ['concatenate_7[0][0]']       \n",
      "                                                                                                  \n",
      " dense_2 (Dense)             (None, 1)                    18        ['flatten_2[0][0]']           \n",
      "                                                                                                  \n",
      "==================================================================================================\n",
      "Total params: 3234 (12.63 KB)\n",
      "Trainable params: 3234 (12.63 KB)\n",
      "Non-trainable params: 0 (0.00 Byte)\n",
      "__________________________________________________________________________________________________\n",
      "None\n"
     ]
    }
   ],
   "source": [
    "def cnn2_model(n1):\n",
    "    # get input1 and input2 in x1 and x2\n",
    "    x1=Input(shape=(n1,x1_train.shape[2],1))\n",
    "    x2=Input(shape=(n1,x2_train.shape[2],1))\n",
    "    layer1=Conv2D(32, kernel_size=(1, 2), activation='relu',padding='same')(x1)\n",
    "    layer1=MaxPooling2D(pool_size=(1, 2))(layer1)\n",
    "    layer2=Conv2D(32, kernel_size=(1, 2), activation='relu',padding='same')(layer1)\n",
    "    layer2=MaxPooling2D(pool_size=(1, 2))(layer2)\n",
    "    layer3=Conv2D(16, kernel_size=(1, 2), activation='linear',padding='same')(layer2)\n",
    "    layer3=MaxPooling2D(pool_size=(1, 2))(layer3)\n",
    "    layer=concatenate([layer3,x2],axis=-1)\n",
    "    layer6=Flatten()(layer)\n",
    "    output=Dense(1,activation='linear')(layer6)\n",
    "    model1=Model(inputs=[x1,x2],outputs=output)\n",
    "    return model1\n",
    "\n",
    "test_model1D=cnn2_model(1)\n",
    "print(test_model1D.summary())\n",
    "\n"
   ]
  },
  {
   "cell_type": "code",
   "execution_count": 106,
   "metadata": {},
   "outputs": [
    {
     "name": "stdout",
     "output_type": "stream",
     "text": [
      "Epoch 1/30\n",
      "928/928 [==============================] - 2s 2ms/step - loss: 0.5117 - mae: 0.4766 - val_loss: 0.2436 - val_mae: 0.3867\n",
      "Epoch 2/30\n",
      "928/928 [==============================] - 2s 2ms/step - loss: 0.3436 - mae: 0.4362 - val_loss: 0.2640 - val_mae: 0.4043\n",
      "Epoch 3/30\n",
      "928/928 [==============================] - 2s 2ms/step - loss: 0.3254 - mae: 0.4356 - val_loss: 0.2639 - val_mae: 0.4031\n",
      "Epoch 4/30\n",
      "928/928 [==============================] - 2s 2ms/step - loss: 0.2967 - mae: 0.4210 - val_loss: 0.2392 - val_mae: 0.3832\n",
      "Epoch 5/30\n",
      "928/928 [==============================] - 2s 2ms/step - loss: 0.2847 - mae: 0.4099 - val_loss: 0.2237 - val_mae: 0.3752\n",
      "Epoch 6/30\n",
      "928/928 [==============================] - 2s 2ms/step - loss: 0.2828 - mae: 0.4082 - val_loss: 0.2233 - val_mae: 0.3711\n",
      "Epoch 7/30\n",
      "928/928 [==============================] - 2s 2ms/step - loss: 0.2785 - mae: 0.4053 - val_loss: 0.2244 - val_mae: 0.3708\n",
      "Epoch 8/30\n",
      "928/928 [==============================] - 2s 2ms/step - loss: 0.2752 - mae: 0.4036 - val_loss: 0.2398 - val_mae: 0.3800\n",
      "Epoch 9/30\n",
      "928/928 [==============================] - 2s 2ms/step - loss: 0.2732 - mae: 0.3993 - val_loss: 0.2117 - val_mae: 0.3646\n",
      "Epoch 10/30\n",
      "928/928 [==============================] - 2s 2ms/step - loss: 0.2724 - mae: 0.3975 - val_loss: 0.2199 - val_mae: 0.3659\n",
      "Epoch 11/30\n",
      "928/928 [==============================] - 2s 2ms/step - loss: 0.2707 - mae: 0.3962 - val_loss: 0.2168 - val_mae: 0.3636\n",
      "Epoch 12/30\n",
      "928/928 [==============================] - 2s 2ms/step - loss: 0.2669 - mae: 0.3933 - val_loss: 0.2098 - val_mae: 0.3589\n",
      "Epoch 13/30\n",
      "928/928 [==============================] - 2s 2ms/step - loss: 0.2670 - mae: 0.3939 - val_loss: 0.2149 - val_mae: 0.3611\n",
      "Epoch 14/30\n",
      "928/928 [==============================] - 2s 2ms/step - loss: 0.2646 - mae: 0.3932 - val_loss: 0.2065 - val_mae: 0.3560\n",
      "Epoch 15/30\n",
      "928/928 [==============================] - 2s 2ms/step - loss: 0.2666 - mae: 0.3932 - val_loss: 0.2055 - val_mae: 0.3558\n",
      "Epoch 16/30\n",
      "928/928 [==============================] - 2s 2ms/step - loss: 0.2591 - mae: 0.3880 - val_loss: 0.2042 - val_mae: 0.3600\n",
      "Epoch 17/30\n",
      "928/928 [==============================] - 2s 2ms/step - loss: 0.2631 - mae: 0.3914 - val_loss: 0.2025 - val_mae: 0.3523\n",
      "Epoch 18/30\n",
      "928/928 [==============================] - 2s 2ms/step - loss: 0.2644 - mae: 0.3911 - val_loss: 0.2086 - val_mae: 0.3562\n",
      "Epoch 19/30\n",
      "928/928 [==============================] - 2s 2ms/step - loss: 0.2623 - mae: 0.3913 - val_loss: 0.2034 - val_mae: 0.3538\n",
      "Epoch 20/30\n",
      "928/928 [==============================] - 2s 2ms/step - loss: 0.2579 - mae: 0.3860 - val_loss: 0.2391 - val_mae: 0.3730\n",
      "Epoch 21/30\n",
      "928/928 [==============================] - 2s 2ms/step - loss: 0.2579 - mae: 0.3860 - val_loss: 0.2089 - val_mae: 0.3560\n",
      "Epoch 22/30\n",
      "928/928 [==============================] - 2s 2ms/step - loss: 0.2551 - mae: 0.3838 - val_loss: 0.2068 - val_mae: 0.3542\n",
      "Epoch 23/30\n",
      "928/928 [==============================] - 2s 2ms/step - loss: 0.2545 - mae: 0.3849 - val_loss: 0.2005 - val_mae: 0.3518\n",
      "Epoch 24/30\n",
      "928/928 [==============================] - 2s 2ms/step - loss: 0.2544 - mae: 0.3831 - val_loss: 0.2201 - val_mae: 0.3611\n",
      "Epoch 25/30\n",
      "928/928 [==============================] - 2s 2ms/step - loss: 0.2580 - mae: 0.3852 - val_loss: 0.2038 - val_mae: 0.3524\n",
      "Epoch 26/30\n",
      "928/928 [==============================] - 2s 2ms/step - loss: 0.2541 - mae: 0.3815 - val_loss: 0.2123 - val_mae: 0.3573\n",
      "Epoch 27/30\n",
      "928/928 [==============================] - 2s 2ms/step - loss: 0.2576 - mae: 0.3837 - val_loss: 0.2084 - val_mae: 0.3539\n",
      "Epoch 28/30\n",
      "928/928 [==============================] - 2s 2ms/step - loss: 0.2526 - mae: 0.3815 - val_loss: 0.2023 - val_mae: 0.3454\n",
      "Epoch 29/30\n",
      "928/928 [==============================] - 2s 2ms/step - loss: 0.2391 - mae: 0.3652 - val_loss: 0.1896 - val_mae: 0.3368\n",
      "Epoch 30/30\n",
      "928/928 [==============================] - 2s 2ms/step - loss: 0.2250 - mae: 0.3561 - val_loss: 0.1899 - val_mae: 0.3324\n"
     ]
    }
   ],
   "source": [
    "test_model.compile(loss='mse',optimizer='adam',metrics=['mae'])\n",
    "hist=test_model.fit([x1_train,x2_train],np.log(1+y_train/1.),epochs=30,batch_size=32,validation_data=([x1_test,x2_test],np.log(1+y_test/1.)),verbose=1)\n",
    "#C=0.70\n"
   ]
  },
  {
   "cell_type": "code",
   "execution_count": 58,
   "metadata": {},
   "outputs": [
    {
     "name": "stdout",
     "output_type": "stream",
     "text": [
      "Epoch 1/20\n",
      "619/619 [==============================] - 1s 1ms/step - loss: 1.0062 - mae: 0.3350 - val_loss: 1.1784 - val_mae: 0.3313\n",
      "Epoch 2/20\n",
      "619/619 [==============================] - 1s 1ms/step - loss: 1.0037 - mae: 0.3418 - val_loss: 1.1719 - val_mae: 0.3344\n",
      "Epoch 3/20\n",
      "619/619 [==============================] - 1s 1ms/step - loss: 0.9891 - mae: 0.3308 - val_loss: 1.2739 - val_mae: 0.3702\n",
      "Epoch 4/20\n",
      "619/619 [==============================] - 1s 1ms/step - loss: 1.0128 - mae: 0.3396 - val_loss: 1.1783 - val_mae: 0.3472\n",
      "Epoch 5/20\n",
      "619/619 [==============================] - 1s 1ms/step - loss: 1.0031 - mae: 0.3342 - val_loss: 1.2246 - val_mae: 0.3457\n",
      "Epoch 6/20\n",
      "619/619 [==============================] - 1s 1ms/step - loss: 1.0024 - mae: 0.3327 - val_loss: 1.3098 - val_mae: 0.3624\n",
      "Epoch 7/20\n",
      "619/619 [==============================] - 1s 1ms/step - loss: 1.0075 - mae: 0.3345 - val_loss: 1.2198 - val_mae: 0.3470\n",
      "Epoch 8/20\n",
      "619/619 [==============================] - 1s 1ms/step - loss: 1.0045 - mae: 0.3341 - val_loss: 1.3935 - val_mae: 0.3738\n",
      "Epoch 9/20\n",
      "619/619 [==============================] - 1s 1ms/step - loss: 0.9978 - mae: 0.3317 - val_loss: 1.4403 - val_mae: 0.3938\n",
      "Epoch 10/20\n",
      "619/619 [==============================] - 1s 1ms/step - loss: 0.9945 - mae: 0.3356 - val_loss: 1.1721 - val_mae: 0.3303\n",
      "Epoch 11/20\n",
      "619/619 [==============================] - 1s 1ms/step - loss: 1.0185 - mae: 0.3349 - val_loss: 1.2011 - val_mae: 0.3342\n",
      "Epoch 12/20\n",
      "619/619 [==============================] - 1s 1ms/step - loss: 1.0109 - mae: 0.3315 - val_loss: 1.1793 - val_mae: 0.3311\n",
      "Epoch 13/20\n",
      "619/619 [==============================] - 1s 1ms/step - loss: 0.9986 - mae: 0.3319 - val_loss: 1.2095 - val_mae: 0.3372\n",
      "Epoch 14/20\n",
      "619/619 [==============================] - 1s 1ms/step - loss: 0.9755 - mae: 0.3356 - val_loss: 1.1884 - val_mae: 0.3285\n",
      "Epoch 15/20\n",
      "619/619 [==============================] - 1s 1ms/step - loss: 1.0170 - mae: 0.3344 - val_loss: 1.2182 - val_mae: 0.3645\n",
      "Epoch 16/20\n",
      "619/619 [==============================] - 1s 1ms/step - loss: 0.9979 - mae: 0.3342 - val_loss: 1.2388 - val_mae: 0.3497\n",
      "Epoch 17/20\n",
      "619/619 [==============================] - 1s 1ms/step - loss: 1.0065 - mae: 0.3338 - val_loss: 1.2223 - val_mae: 0.3478\n",
      "Epoch 18/20\n",
      "619/619 [==============================] - 1s 1ms/step - loss: 0.9881 - mae: 0.3313 - val_loss: 1.1983 - val_mae: 0.3319\n",
      "Epoch 19/20\n",
      "619/619 [==============================] - 1s 1ms/step - loss: 0.9971 - mae: 0.3375 - val_loss: 1.2076 - val_mae: 0.3575\n",
      "Epoch 20/20\n",
      "619/619 [==============================] - 1s 1ms/step - loss: 0.9864 - mae: 0.3330 - val_loss: 1.1846 - val_mae: 0.3257\n"
     ]
    }
   ],
   "source": [
    "#test_model1D.compile(loss='mse',optimizer=Adam(lr=0.001),metrics=['mae'])\n",
    "hist=test_model1D.fit([x1_train[:,2:3,:],x2_train[:,2:3,:]],y_train/10.,epochs=20,batch_size=32,validation_data=([x1_test[:,2:3,:],x2_test[:,2:3,:]],y_test/10.),verbose=1)"
   ]
  },
  {
   "cell_type": "code",
   "execution_count": 107,
   "metadata": {},
   "outputs": [
    {
     "name": "stdout",
     "output_type": "stream",
     "text": [
      "310/310 [==============================] - 0s 529us/step\n",
      "[0.5551387233222898, 0.055632226216538176, -0.13078965024817563, -0.22688299756439875]\n",
      "[0.8944306839880386, 0.5139726827012385, 0.45660089819080657, 0.4957048708881721]\n"
     ]
    },
    {
     "data": {
      "image/png": "[encoded data removed]",
      "text/plain": [
       "<Figure size 600x800 with 2 Axes>"
      ]
     },
     "metadata": {},
     "output_type": "display_data"
    }
   ],
   "source": [
    "y_predLGBM=np.exp(test_model.predict([x1_test[:,:,:],x2_test[:,:,:]])[:,0])-1\n",
    "#y_predLGBM=lgbReg.predict(xknn_test)\n",
    "evalInt=[[0.5,1.5],[2,4],[4,8],[8,12]]\n",
    "biasL=[]\n",
    "rmsL=[]\n",
    "for int1 in evalInt:\n",
    "    a=np.nonzero((y_test>=int1[0]) & (y_test<int1[1]))\n",
    "    bias=np.mean(y_predLGBM[a]-y_test[a])/np.mean(y_test[a])\n",
    "    rms=np.sqrt(np.mean((y_predLGBM[a]-y_test[a])**2))/np.mean(y_test[a])\n",
    "    biasL.append(bias)\n",
    "    rmsL.append(rms)\n",
    "plt.figure(figsize=(6,8))\n",
    "plt.subplot(211)\n",
    "cat=['0.5-1.5 mm/h','2-4 mm/h','4-8 mm/h','8-12 mm/h']\n",
    "plt.bar(cat,np.array(biasL)*100)\n",
    "#plt.axes().xaxis.set_visible(False)\n",
    "plt.axhline(y=0,linestyle='--')\n",
    "plt.grid(axis='y')\n",
    "\n",
    "plt.title('Relative bias[%]')\n",
    "\n",
    "plt.subplot(212)\n",
    "plt.bar(cat,np.array(rmsL)*100)\n",
    "plt.grid(axis='y')\n",
    "plt.title('Relative RMS[%]')\n",
    "plt.tight_layout()\n",
    "plt.savefig('knnRegrPrecipScoresKuCONUS_KWAJ_Along.png')\n",
    "\n",
    "print(biasL)\n",
    "print(rmsL)"
   ]
  },
  {
   "cell_type": "code",
   "execution_count": 108,
   "metadata": {},
   "outputs": [
    {
     "data": {
      "image/png": "[encoded data removed]",
      "text/plain": [
       "<Figure size 640x480 with 2 Axes>"
      ]
     },
     "metadata": {},
     "output_type": "display_data"
    }
   ],
   "source": [
    "from matplotlib.colors import LogNorm\n",
    "ax=plt.subplot(111)\n",
    "h2=plt.hist2d(y_test,y_predLGBM[:],bins=np.arange(31)*0.5,norm=LogNorm(),cmap='jet')\n",
    "ax.set_aspect('equal')\n",
    "plt.xlabel('Reference rain rate (mm/h)')\n",
    "plt.ylabel('Predicted rain rate (mm/h)')\n",
    "c=plt.colorbar(label='counts')\n",
    "plt.tight_layout()\n",
    "plt.savefig('knnRegrPrecipKaW_CONUS_KWAJp_along.png')"
   ]
  }
 ],
 "metadata": {
  "kernelspec": {
   "display_name": "base",
   "language": "python",
   "name": "python3"
  },
  "language_info": {
   "codemirror_mode": {
    "name": "ipython",
    "version": 3
   },
   "file_extension": ".py",
   "mimetype": "text/x-python",
   "name": "python",
   "nbconvert_exporter": "python",
   "pygments_lexer": "ipython3",
   "version": "3.9.13"
  },
  "orig_nbformat": 4
 },
 "nbformat": 4,
 "nbformat_minor": 2
}
