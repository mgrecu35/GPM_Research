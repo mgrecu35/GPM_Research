{
 "cells": [
  {
   "cell_type": "code",
   "execution_count": 2,
   "metadata": {},
   "outputs": [
    {
     "ename": "FileNotFoundError",
     "evalue": "[Errno 2] No such file or directory: 'pca_logdm.pkl'",
     "output_type": "error",
     "traceback": [
      "\u001b[0;31m---------------------------------------------------------------------------\u001b[0m",
      "\u001b[0;31mFileNotFoundError\u001b[0m                         Traceback (most recent call last)",
      "Cell \u001b[0;32mIn[2], line 19\u001b[0m\n\u001b[1;32m     16\u001b[0m pr_PCA_std \u001b[39m=\u001b[39m d[\u001b[39m\"\u001b[39m\u001b[39mpRateCoeffStd\u001b[39m\u001b[39m\"\u001b[39m]\n\u001b[1;32m     17\u001b[0m dm_PCA_std \u001b[39m=\u001b[39m d[\u001b[39m\"\u001b[39m\u001b[39mdmCoeffStd\u001b[39m\u001b[39m\"\u001b[39m]\n\u001b[0;32m---> 19\u001b[0m d\u001b[39m=\u001b[39mpickle\u001b[39m.\u001b[39mload(\u001b[39mopen\u001b[39;49m(\u001b[39m'\u001b[39;49m\u001b[39mpca_logdm.pkl\u001b[39;49m\u001b[39m'\u001b[39;49m,\u001b[39m'\u001b[39;49m\u001b[39mrb\u001b[39;49m\u001b[39m'\u001b[39;49m))\n\u001b[1;32m     20\u001b[0m pca_logdm \u001b[39m=\u001b[39m d[\u001b[39m\"\u001b[39m\u001b[39mpca_logdm\u001b[39m\u001b[39m\"\u001b[39m]\n\u001b[1;32m     21\u001b[0m pca_logprate \u001b[39m=\u001b[39m d[\u001b[39m\"\u001b[39m\u001b[39mpca_logprate\u001b[39m\u001b[39m\"\u001b[39m]\n",
      "File \u001b[0;32m~/miniconda3/lib/python3.9/site-packages/IPython/core/interactiveshell.py:284\u001b[0m, in \u001b[0;36m_modified_open\u001b[0;34m(file, *args, **kwargs)\u001b[0m\n\u001b[1;32m    277\u001b[0m \u001b[39mif\u001b[39;00m file \u001b[39min\u001b[39;00m {\u001b[39m0\u001b[39m, \u001b[39m1\u001b[39m, \u001b[39m2\u001b[39m}:\n\u001b[1;32m    278\u001b[0m     \u001b[39mraise\u001b[39;00m \u001b[39mValueError\u001b[39;00m(\n\u001b[1;32m    279\u001b[0m         \u001b[39mf\u001b[39m\u001b[39m\"\u001b[39m\u001b[39mIPython won\u001b[39m\u001b[39m'\u001b[39m\u001b[39mt let you open fd=\u001b[39m\u001b[39m{\u001b[39;00mfile\u001b[39m}\u001b[39;00m\u001b[39m by default \u001b[39m\u001b[39m\"\u001b[39m\n\u001b[1;32m    280\u001b[0m         \u001b[39m\"\u001b[39m\u001b[39mas it is likely to crash IPython. If you know what you are doing, \u001b[39m\u001b[39m\"\u001b[39m\n\u001b[1;32m    281\u001b[0m         \u001b[39m\"\u001b[39m\u001b[39myou can use builtins\u001b[39m\u001b[39m'\u001b[39m\u001b[39m open.\u001b[39m\u001b[39m\"\u001b[39m\n\u001b[1;32m    282\u001b[0m     )\n\u001b[0;32m--> 284\u001b[0m \u001b[39mreturn\u001b[39;00m io_open(file, \u001b[39m*\u001b[39;49margs, \u001b[39m*\u001b[39;49m\u001b[39m*\u001b[39;49mkwargs)\n",
      "\u001b[0;31mFileNotFoundError\u001b[0m: [Errno 2] No such file or directory: 'pca_logdm.pkl'"
     ]
    }
   ],
   "source": [
    "#import pickle\n",
    "#pickle.dump({\"pcaR\":pcaR,\"pcaD\":pcaD,\"pRatem\":pRatem,\\\n",
    "#             \"dm_m\":dmPCALm,\"pRateCoeffStd\":pr_PCA_std,\"dmCoeffStd\":dm_PCA_std},open('pcaR.pklz','wb'))\n",
    "\n",
    "# read the data from the pickle file\n",
    "#pickle.dump({\"pca_logdm\":pca_logdm,\"pca_logprate\":pca_logprate,\\\n",
    "#                 \"logDm_m\":logDm_m,\"logPRate_m\":logPRate_m,\"pca_dm_log_coeffs_std\":\\\n",
    "#                    pca_dm_log_coeffs_std,\"pca_prate_log_coeffs_std\":pca_prate_log_coeffs_std},f)\n",
    "\n",
    "import pickle\n",
    "d = pickle.load(open('pcaR.pklz','rb'))\n",
    "pcaR = d[\"pcaR\"]\n",
    "pcaD = d[\"pcaD\"]\n",
    "pRatem = d[\"pRatem\"]\n",
    "dm_m = d[\"dm_m\"]\n",
    "pr_PCA_std = d[\"pRateCoeffStd\"]\n",
    "dm_PCA_std = d[\"dmCoeffStd\"]\n",
    "\n",
    "d=pickle.load(open('pca_logdm.pkl','rb'))\n",
    "pca_logdm = d[\"pca_logdm\"]\n",
    "pca_logprate = d[\"pca_logprate\"]\n",
    "logDm_m = d[\"logDm_m\"]\n",
    "logPRate_m = d[\"logPRate_m\"]\n",
    "pca_dm_log_coeffs_std = d[\"pca_dm_log_coeffs_std\"]\n",
    "pca_prate_log_coeffs_std = d[\"pca_prate_log_coeffs_std\"]\n"
   ]
  },
  {
   "cell_type": "code",
   "execution_count": 28,
   "metadata": {},
   "outputs": [],
   "source": [
    "\n",
    "import matplotlib.pyplot as plt\n",
    "import numpy as np\n",
    "def genProfile(pr_PCA_std,dm_PCA_std,pRatem,dmPCALm,pcaR,pcaD):\n",
    "    pRateCoeffs=np.random.randn(11)*pr_PCA_std*1.025\n",
    "    dmCoeffs=np.random.randn(11)*dm_PCA_std*1.025\n",
    "    pRateGen=np.dot(pRateCoeffs,pcaR.components_)+pRatem\n",
    "    dmGen=np.dot(dmCoeffs,pcaD.components_)+dmPCALm\n",
    "    return pRateGen,dmGen\n"
   ]
  },
  {
   "cell_type": "code",
   "execution_count": 33,
   "metadata": {},
   "outputs": [],
   "source": [
    "dmPCALm_ad=dm_m.copy()\n",
    "dmPCALm_ad[:-14]=dm_m[:-14]*0.8 \n",
    "pRateGenL=[]\n",
    "for i in range(150):\n",
    "    pRateGen,dmGen=genProfile(pr_PCA_std,dm_PCA_std,pRatem,dmPCALm_ad,pcaR,pcaD)\n",
    "    pRateGenL.append(pRateGen.copy())\n",
    "    continue\n",
    "    plt.subplot(121)\n",
    "    plt.plot(pRateGen,np.arange(50),'*',markersize=2)\n",
    "    plt.ylim(50,0)\n",
    "    plt.subplot(122)\n",
    "    plt.plot(dmGen,np.arange(50),'*',markersize=2)\n",
    "    plt.ylim(50,0)\n"
   ]
  },
  {
   "cell_type": "code",
   "execution_count": 34,
   "metadata": {},
   "outputs": [
    {
     "data": {
      "text/plain": [
       "(50.0, 0.0)"
      ]
     },
     "execution_count": 34,
     "metadata": {},
     "output_type": "execute_result"
    },
    {
     "data": {
      "image/png": "[encoded data removed]",
      "text/plain": [
       "<Figure size 640x480 with 1 Axes>"
      ]
     },
     "metadata": {},
     "output_type": "display_data"
    }
   ],
   "source": [
    "\n",
    "plt.figure()\n",
    "plt.subplot(121)\n",
    "pRateGenL=np.array(pRateGenL)\n",
    "pRateGenL[pRateGenL<0]=0\n",
    "plt.plot(np.array(pRateGenL).mean(axis=0),np.arange(50),'-',markersize=2)\n",
    "plt.plot(pRatem,np.arange(50),'k-',markersize=2)\n",
    "plt.ylim(50,0)"
   ]
  }
 ],
 "metadata": {
  "kernelspec": {
   "display_name": "base",
   "language": "python",
   "name": "python3"
  },
  "language_info": {
   "codemirror_mode": {
    "name": "ipython",
    "version": 3
   },
   "file_extension": ".py",
   "mimetype": "text/x-python",
   "name": "python",
   "nbconvert_exporter": "python",
   "pygments_lexer": "ipython3",
   "version": "3.9.13"
  },
  "orig_nbformat": 4
 },
 "nbformat": 4,
 "nbformat_minor": 2
}
