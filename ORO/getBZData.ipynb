{
 "cells": [
  {
   "cell_type": "code",
   "execution_count": 4,
   "metadata": {},
   "outputs": [
    {
     "name": "stdout",
     "output_type": "stream",
     "text": [
      "['2A-CS/2A-CS-CONUS.GPM.DPR.V9-20211125.20190501-S011631-E012509.029377.V07A.HDF5', '2A-CS/2A-CS-CONUS.GPM.DPR.V9-20211125.20190501-S025200-E025742.029378.V07A.HDF5', '2A-CS/2A-CS-CONUS.GPM.DPR.V9-20211125.20190501-S075135-E075444.029381.V07A.HDF5']\n"
     ]
    }
   ],
   "source": [
    "from netCDF4 import Dataset\n",
    "from readOrb import readOrb\n",
    "import glob\n",
    "orbL=sorted(glob.glob(\"2A-CS/*CONUS*HDF5\"))\n",
    "fs=sorted(glob.glob(\"2A-CS/2A-CS*CONUS*\"))\n",
    "print(fs[:3])\n",
    "pTypeL=[]\n",
    "nt=0\n",
    "sfcPrecipL=[]\n",
    "stormTopL=[]\n",
    "zKuFL1=[]\n",
    "zKuFL2=[]\n",
    "zKuL=[]\n",
    "zKaL=[]\n",
    "dbinL=[]\n",
    "sfcPrecip1L=[]\n",
    "pRateL=[]\n",
    "pTypeL=[]\n",
    "n1=4\n",
    "sfcPrecip2L=[]\n",
    "pTypeL=[]\n",
    "dmL=[]\n",
    "precipRateL=[]\n",
    "stormTop2L=[]\n",
    "piaF2L=[]\n",
    "zcL=[]\n"
   ]
  },
  {
   "cell_type": "code",
   "execution_count": 13,
   "metadata": {},
   "outputs": [
    {
     "name": "stdout",
     "output_type": "stream",
     "text": [
      "2A-CS/2A-CS-CONUS.GPM.DPR.V9-20211125.20190501-S011631-E012509.029377.V07A.HDF5\n",
      "0\n",
      "2A-CS/2A-CS-CONUS.GPM.DPR.V9-20211125.20190501-S025200-E025742.029378.V07A.HDF5\n",
      "0\n",
      "2A-CS/2A-CS-CONUS.GPM.DPR.V9-20211125.20190501-S075135-E075444.029381.V07A.HDF5\n",
      "0\n",
      "2A-CS/2A-CS-CONUS.GPM.DPR.V9-20211125.20190501-S092409-E093249.029382.V07A.HDF5\n"
     ]
    },
    {
     "name": "stderr",
     "output_type": "stream",
     "text": [
      "/var/folders/x_/d2_jzyq50052xh1_tk02bnmc0000gq/T/ipykernel_52722/483686939.py:31: UserWarning: Warning: converting a masked element to nan.\n",
      "  zc1L[k1+n1,k2+n1]=zkuc[i1+k1,j1+k2,bzd[i1+k1,j1+k2]+15]\n",
      "/var/folders/x_/d2_jzyq50052xh1_tk02bnmc0000gq/T/ipykernel_52722/483686939.py:32: UserWarning: Warning: converting a masked element to nan.\n",
      "  dm1L[k1+n1,k2+n1]=dm[i1+k1,j1+k2,bzd[i1+k1,j1+k2]+15]\n"
     ]
    },
    {
     "name": "stdout",
     "output_type": "stream",
     "text": [
      "982\n",
      "2A-CS/2A-CS-CONUS.GPM.DPR.V9-20211125.20190501-S105642-E110522.029383.V07A.HDF5\n",
      "982\n",
      "2A-CS/2A-CS-CONUS.GPM.DPR.V9-20211125.20190501-S123559-E123755.029384.V07A.HDF5\n",
      "982\n",
      "2A-CS/2A-CS-CONUS.GPM.DPR.V9-20211125.20190501-S225229-E225821.029391.V07A.HDF5\n",
      "1753\n",
      "2A-CS/2A-CS-CONUS.GPM.DPR.V9-20211125.20190502-S002504-E003342.029392.V07A.HDF5\n",
      "1921\n",
      "2A-CS/2A-CS-CONUS.GPM.DPR.V9-20211125.20190502-S015740-E020618.029393.V07A.HDF5\n",
      "1921\n",
      "2A-CS/2A-CS-CONUS.GPM.DPR.V9-20211125.20190502-S033833-E033853.029394.V07A.HDF5\n",
      "1921\n",
      "2A-CS/2A-CS-CONUS.GPM.DPR.V9-20211125.20190502-S070017-E070040.029396.V07A.HDF5\n",
      "1921\n",
      "2A-CS/2A-CS-CONUS.GPM.DPR.V9-20211125.20190502-S083252-E084132.029397.V07A.HDF5\n",
      "2596\n",
      "2A-CS/2A-CS-CONUS.GPM.DPR.V9-20211125.20190502-S100527-E101407.029398.V07A.HDF5\n"
     ]
    },
    {
     "name": "stderr",
     "output_type": "stream",
     "text": [
      "/var/folders/x_/d2_jzyq50052xh1_tk02bnmc0000gq/T/ipykernel_52722/483686939.py:33: UserWarning: Warning: converting a masked element to nan.\n",
      "  pRate1L[k1+n1,k2+n1]=precipRate[i1+k1,j1+k2,bzd[i1+k1,j1+k2]+15]\n"
     ]
    },
    {
     "name": "stdout",
     "output_type": "stream",
     "text": [
      "3524\n",
      "2A-CS/2A-CS-CONUS.GPM.DPR.V9-20211125.20190502-S114055-E114643.029399.V07A.HDF5\n",
      "3524\n",
      "2A-CS/2A-CS-CONUS.GPM.DPR.V9-20211125.20190502-S220118-E220320.029406.V07A.HDF5\n",
      "3581\n",
      "2A-CS/2A-CS-CONUS.GPM.DPR.V9-20211125.20190502-S233353-E234231.029407.V07A.HDF5\n",
      "5215\n",
      "2A-CS/2A-CS-CONUS.GPM.DPR.V9-20211125.20190503-S010629-E011507.029408.V07A.HDF5\n",
      "5221\n",
      "2A-CS/2A-CS-CONUS.GPM.DPR.V9-20211125.20190503-S024438-E024742.029409.V07A.HDF5\n",
      "5221\n",
      "2A-CS/2A-CS-CONUS.GPM.DPR.V9-20211125.20190503-S074141-E074731.029412.V07A.HDF5\n",
      "5500\n",
      "2A-CS/2A-CS-CONUS.GPM.DPR.V9-20211125.20190503-S091416-E092256.029413.V07A.HDF5\n",
      "5583\n",
      "2A-CS/2A-CS-CONUS.GPM.DPR.V9-20211125.20190503-S104714-E105532.029414.V07A.HDF5\n",
      "5602\n",
      "2A-CS/2A-CS-CONUS.GPM.DPR.V9-20211125.20190503-S224242-E225038.029422.V07A.HDF5\n",
      "6924\n",
      "2A-CS/2A-CS-CONUS.GPM.DPR.V9-20211125.20190504-S001518-E002356.029423.V07A.HDF5\n",
      "7259\n",
      "2A-CS/2A-CS-CONUS.GPM.DPR.V9-20211125.20190504-S014938-E015631.029424.V07A.HDF5\n",
      "7260\n",
      "2A-CS/2A-CS-CONUS.GPM.DPR.V9-20211125.20190504-S065030-E065249.029427.V07A.HDF5\n",
      "7260\n",
      "2A-CS/2A-CS-CONUS.GPM.DPR.V9-20211125.20190504-S082306-E083145.029428.V07A.HDF5\n",
      "7284\n",
      "2A-CS/2A-CS-CONUS.GPM.DPR.V9-20211125.20190504-S095541-E100420.029429.V07A.HDF5\n",
      "7284\n",
      "2A-CS/2A-CS-CONUS.GPM.DPR.V9-20211125.20190504-S113350-E113656.029430.V07A.HDF5\n",
      "7284\n",
      "2A-CS/2A-CS-CONUS.GPM.DPR.V9-20211125.20190504-S215131-E215630.029437.V07A.HDF5\n",
      "9413\n",
      "2A-CS/2A-CS-CONUS.GPM.DPR.V9-20211125.20190504-S232407-E233245.029438.V07A.HDF5\n",
      "9561\n"
     ]
    }
   ],
   "source": [
    "n1=3\n",
    "import numpy as np\n",
    "import imp\n",
    "import readOrb\n",
    "imp.reload(readOrb)\n",
    "for orb in fs[:30]:\n",
    "    print(orb)\n",
    "    try:\n",
    "        sfcPrecip,hzero,pType,stormTop,bzd,zku,bcf,precipRate,dm,zkuc,piaF,zka,fh=readOrb.readOrb(orb)\n",
    "        #sfcPrecip,hzero,pType,stormTop,bzd,zku,bcf,precipRate,dm,zkuc,piaF,zka,fh#\n",
    "    except:\n",
    "        pass\n",
    "    #print(fh)\n",
    "    a=np.nonzero(pType>0)\n",
    "    b=np.nonzero(hzero[a]>3000)\n",
    "    #nt+=len(a[0][b])\n",
    "    nx=sfcPrecip.shape[0]\n",
    "    for i1,j1 in zip(a[0][b],a[1][b]):\n",
    "        if i1>5 and i1<nx-5 and j1>12 and j1<37:\n",
    "            if sfcPrecip[i1-5:i1+6,j1].data.min()>-1 and \\\n",
    "               sfcPrecip[i1-1:i1+2,j1].data.max()>0:\n",
    "                zc1L=np.zeros((2*n1+1,2*n1+1),float)\n",
    "                dm1L=np.zeros((2*n1+1,2*n1+1),float)\n",
    "                pRate1L=np.zeros((2*n1+1,2*n1+1),float)\n",
    "                dbinL.append(bcf[i1,j1]-bzd[i1,j1])\n",
    "                if (bcf[i1-n1:i1+n1+1,j1-n1:j1+n1+1]-bzd[i1-n1:i1+n1+1,j1-n1:j1+n1+1]).min()>20:\n",
    "                    zsect=[zku[i1+k1,j1+k2,bzd[i1+k1,j1+k2]-25:bzd[i1+k1,j1+k2]+20] for k1 in range(-n1,n1+1) for k2 in range(-n1,n1+1)]\n",
    "                    zsectka=[zka[i1+k1,j1+k2,bzd[i1+k1,j1+k2]-25:bzd[i1+k1,j1+k2]+20] for k1 in range(-n1,n1+1) for k2 in range(-n1,n1+1)]\n",
    "                    for k1 in range(-n1,n1+1):\n",
    "                        for k2 in range(-n1,n1+1):\n",
    "                            zc1L[k1+n1,k2+n1]=zkuc[i1+k1,j1+k2,bzd[i1+k1,j1+k2]+20]\n",
    "                            dm1L[k1+n1,k2+n1]=dm[i1+k1,j1+k2,bzd[i1+k1,j1+k2]+20]\n",
    "                            pRate1L[k1+n1,k2+n1]=precipRate[i1+k1,j1+k2,bzd[i1+k1,j1+k2]+20]\n",
    "                    pratem=pRate1L.mean()\n",
    "                    dm1L[dm1L!=dm1L]=0\n",
    "                    zc1L[zc1L!=zc1L]=0\n",
    "                    if pratem!=pratem:\n",
    "                        continue\n",
    "                    zcL.append(zc1L)\n",
    "                    dmL.append(dm1L)\n",
    "                    precipRateL.append(pRate1L)\n",
    "                    stormTop2L.append(stormTop[i1-n1:i1+n1+1,j1-n1:j1+n1+1])\n",
    "                    piaF2L.append(piaF[i1-n1:i1+n1+1,j1-n1:j1+n1+1])\n",
    "                    zKuL.append(np.array(zsect).T)\n",
    "                    zKaL.append(np.array(zsectka).T)\n",
    "                    pRateL.append(precipRate[i1,j1,bzd[i1,j1]-25:bzd[i1,j1]+15])\n",
    "                    sfcPrecip1L.append([sfcPrecip[i1-n1:i1+n1+1,j1-n1:j1+n1+1].mean()])\n",
    "                    sfcPrecip2L.append(sfcPrecip[i1-n1:i1+n1+1,j1-n1:j1+n1+1])\n",
    "                    pTypeL.append(pType[i1-n1:i1+n1+1,j1-n1:j1+n1+1])\n",
    "                    \n",
    "                zku1=[]\n",
    "                ipass=0\n",
    "                dbin1=[]\n",
    "                for k in range(11):\n",
    "                    zku1.append(zku[i1-5+k,j1,bzd[i1-5+k,j1]+4])\n",
    "                    dbin1.append(bcf[i1-5+k,j1]-bzd[i1-5+k,j1])\n",
    "                    if bzd[i1-5+k,1]>bcf[i1-5+k,j1]:\n",
    "                        ipass=1\n",
    "                        continue\n",
    "                if ipass==1:\n",
    "                    continue\n",
    "                #print(np.min(dbin1))\n",
    "                if np.min(dbin1)<15:\n",
    "                    continue\n",
    "                zKuFL2.append(zku1)\n",
    "                zKuFL1.append([zku[i1-5+k,j1,bzd[i1-5+k,j1]-2]for k in range(11)])\n",
    "                \n",
    "                #stop\n",
    "                stormTopL.append(stormTop[i1-5:i1+6,j1])\n",
    "                sfcPrecipL.append(sfcPrecip[i1-5:i1+6,j1])\n",
    "                #stop\n",
    "                nt+=1\n",
    "    print(nt)"
   ]
  }
 ],
 "metadata": {
  "kernelspec": {
   "display_name": "base",
   "language": "python",
   "name": "python3"
  },
  "language_info": {
   "codemirror_mode": {
    "name": "ipython",
    "version": 3
   },
   "file_extension": ".py",
   "mimetype": "text/x-python",
   "name": "python",
   "nbconvert_exporter": "python",
   "pygments_lexer": "ipython3",
   "version": "3.9.13"
  },
  "orig_nbformat": 4
 },
 "nbformat": 4,
 "nbformat_minor": 2
}
